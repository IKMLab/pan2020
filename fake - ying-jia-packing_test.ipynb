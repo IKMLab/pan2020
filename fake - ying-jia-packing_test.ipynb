{
 "cells": [
  {
   "cell_type": "code",
   "execution_count": 1,
   "metadata": {},
   "outputs": [],
   "source": [
    "from pan20.fake import run_pretrain\n",
    "from pan20 import fake\n",
    "import joblib\n",
    "import time"
   ]
  },
  {
   "cell_type": "code",
   "execution_count": 3,
   "metadata": {},
   "outputs": [
    {
     "name": "stdout",
     "output_type": "stream",
     "text": [
      "Loading roberta-base model\n",
      "Start encoding\n",
      "Start transforming vectors\n",
      "8.994916200637817\n"
     ]
    }
   ],
   "source": [
    "svc = joblib.load('pan20/fake/roberta-base.model')\n",
    "\n",
    "### Load dataset\n",
    "start = time.time()\n",
    "df = fake.load_data()\n",
    "truth = {x['author']: x['label'] for x in fake.load_truth()}\n",
    "df['label'] = df.author.apply(lambda x: truth[x])\n",
    "\n",
    "encoded = run_pretrain.get_encoded(df[:100], 'roberta-base')\n",
    "\n",
    "a = svc.predict_log_proba(encoded)\n",
    "end = time.time()\n",
    "print(end-start)"
   ]
  },
  {
   "cell_type": "code",
   "execution_count": 3,
   "metadata": {},
   "outputs": [],
   "source": []
  }
 ],
 "metadata": {
  "kernelspec": {
   "display_name": "Python 3",
   "language": "python",
   "name": "python3"
  },
  "language_info": {
   "codemirror_mode": {
    "name": "ipython",
    "version": 3
   },
   "file_extension": ".py",
   "mimetype": "text/x-python",
   "name": "python",
   "nbconvert_exporter": "python",
   "pygments_lexer": "ipython3",
   "version": "3.7.3"
  }
 },
 "nbformat": 4,
 "nbformat_minor": 4
}
