{
 "cells": [
  {
   "cell_type": "code",
   "execution_count": 1,
   "metadata": {},
   "outputs": [],
   "source": [
    "import random\n",
    "\n",
    "from torch.utils import data\n",
    "import numpy as np\n",
    "import torch\n",
    "from tqdm.notebook import tqdm\n",
    "\n",
    "from pan20 import auth\n",
    "from pan20.auth.trans import distbert\n",
    "from pan20.auth import pytorch\n",
    "from pan20.util.pytorch import anneal, config, metrics, opt, stopping, training"
   ]
  },
  {
   "cell_type": "code",
   "execution_count": 2,
   "metadata": {},
   "outputs": [],
   "source": [
    "X, truth = auth.load_small()"
   ]
  },
  {
   "cell_type": "code",
   "execution_count": 3,
   "metadata": {},
   "outputs": [],
   "source": [
    "random.seed(42)\n",
    "\n",
    "train_ixs = list(range(len(X)))\n",
    "dev_ixs = random.sample(train_ixs, 5000)\n",
    "for ix in dev_ixs:\n",
    "    train_ixs.remove(ix)\n",
    "test_ixs = random.sample(train_ixs, 5000)\n",
    "for ix in test_ixs:\n",
    "    train_ixs.remove(ix)\n",
    "\n",
    "random.shuffle(train_ixs)"
   ]
  },
  {
   "cell_type": "code",
   "execution_count": 4,
   "metadata": {},
   "outputs": [],
   "source": [
    "X_test = [X[ix] for ix in test_ixs]\n",
    "truth_test = [truth[ix] for ix in test_ixs]\n",
    "X_dev = [X[ix] for ix in dev_ixs]\n",
    "truth_dev = [truth[ix] for ix in dev_ixs]\n",
    "X_train = [X[ix] for ix in train_ixs]\n",
    "truth_train = [truth[ix] for ix in train_ixs]"
   ]
  },
  {
   "cell_type": "code",
   "execution_count": 5,
   "metadata": {},
   "outputs": [],
   "source": [
    "random.seed(42)\n",
    "np.random.seed(42)\n",
    "torch.manual_seed(42)\n",
    "torch.backends.cudnn.deterministic = True\n",
    "torch.backends.cudnn.benchmark = False"
   ]
  },
  {
   "cell_type": "code",
   "execution_count": 6,
   "metadata": {},
   "outputs": [],
   "source": [
    "train = pytorch.Dataset(X_train, truth_train)\n",
    "dev = pytorch.Dataset(X_dev, truth_dev)\n",
    "test = pytorch.Dataset(X_test, truth_test)"
   ]
  },
  {
   "cell_type": "code",
   "execution_count": 7,
   "metadata": {},
   "outputs": [],
   "source": [
    "collate = distbert.CollateFirstK()"
   ]
  },
  {
   "cell_type": "code",
   "execution_count": 8,
   "metadata": {},
   "outputs": [],
   "source": [
    "cfg = config.ExperimentConfig(\n",
    "    experiment_name='distilbert1',\n",
    "    ckpt_dir='ckpts/distilbert1',\n",
    "    results_dir='results/distilbert1',\n",
    "    lambda_fd=0.5,\n",
    "    lambda_grad=1.,\n",
    "    train=training.TrainConfig(\n",
    "        n_epochs=20,\n",
    "        seed=42,\n",
    "        train_batch_size=32,\n",
    "        run_no=0,\n",
    "        tune_batch_size=64,\n",
    "        p_drop=0.1,\n",
    "        dev_metric='acc',\n",
    "        memory_limit=8,\n",
    "        weight_decay=0.\n",
    "    ),\n",
    "    anneal=anneal.ReduceLROnPlateauConfig(\n",
    "        factor=0.5,\n",
    "        patience=3,\n",
    "    ),\n",
    "    optim=opt.AdamWConfig(\n",
    "        lr=6e-6,\n",
    "    ),\n",
    "    stop=stopping.NoDevImprovementConfig(\n",
    "        patience=3,\n",
    "        k=3,\n",
    "        metric='acc'\n",
    "    )\n",
    ")"
   ]
  },
  {
   "cell_type": "code",
   "execution_count": 9,
   "metadata": {},
   "outputs": [],
   "source": [
    "train_loader = data.DataLoader(\n",
    "    batch_size=cfg.train.train_batch_size, \n",
    "    collate_fn=collate, \n",
    "    dataset=train, \n",
    "    shuffle=True)\n",
    "dev_loader = data.DataLoader(\n",
    "    batch_size=cfg.train.tune_batch_size,\n",
    "    collate_fn=collate,\n",
    "    dataset=dev,\n",
    "    shuffle=False)"
   ]
  },
  {
   "cell_type": "code",
   "execution_count": 10,
   "metadata": {},
   "outputs": [],
   "source": [
    "net = distbert.DistilBERTComparisonAdvFd1(\n",
    "    p_drop=cfg.train.p_drop, \n",
    "    weight_decay=cfg.train.weight_decay,\n",
    "    lambda_fd=cfg.lambda_fd,\n",
    "    lambda_grad=cfg.lambda_grad)"
   ]
  },
  {
   "cell_type": "code",
   "execution_count": 11,
   "metadata": {},
   "outputs": [],
   "source": [
    "model = training.TrainableModel(net, cfg)"
   ]
  },
  {
   "cell_type": "code",
   "execution_count": null,
   "metadata": {
    "scrolled": false
   },
   "outputs": [
    {
     "data": {
      "application/vnd.jupyter.widget-view+json": {
       "model_id": "dd568a8a27cd41a8ad36ec3b303800ec",
       "version_major": 2,
       "version_minor": 0
      },
      "text/plain": [
       "HBox(children=(FloatProgress(value=0.0, description='epoch', max=20.0, style=ProgressStyle(description_width='…"
      ]
     },
     "metadata": {},
     "output_type": "display_data"
    },
    {
     "data": {
      "application/vnd.jupyter.widget-view+json": {
       "model_id": "8082b4537650479bba73e297d59b0227",
       "version_major": 2,
       "version_minor": 0
      },
      "text/plain": [
       "HBox(children=(FloatProgress(value=0.0, description='iter', max=5326.0, style=ProgressStyle(description_width=…"
      ]
     },
     "metadata": {},
     "output_type": "display_data"
    },
    {
     "data": {
      "application/vnd.jupyter.widget-view+json": {
       "model_id": "60a137fb29204611818e5274f5aa92fc",
       "version_major": 2,
       "version_minor": 0
      },
      "text/plain": [
       "HBox(children=(FloatProgress(value=0.0, description='tune', max=313.0, style=ProgressStyle(description_width='…"
      ]
     },
     "metadata": {},
     "output_type": "display_data"
    }
   ],
   "source": [
    "model.train(train_loader, dev_loader)"
   ]
  },
  {
   "cell_type": "code",
   "execution_count": null,
   "metadata": {},
   "outputs": [],
   "source": [
    "model.evaluate(test_loader)"
   ]
  },
  {
   "cell_type": "code",
   "execution_count": null,
   "metadata": {},
   "outputs": [],
   "source": [
    "model.model.doc_enc.combine_layers.layer_weights"
   ]
  },
  {
   "cell_type": "code",
   "execution_count": null,
   "metadata": {},
   "outputs": [],
   "source": []
  }
 ],
 "metadata": {
  "kernelspec": {
   "display_name": "pan20",
   "language": "python",
   "name": "pan20"
  },
  "language_info": {
   "codemirror_mode": {
    "name": "ipython",
    "version": 3
   },
   "file_extension": ".py",
   "mimetype": "text/x-python",
   "name": "python",
   "nbconvert_exporter": "python",
   "pygments_lexer": "ipython3",
   "version": "3.7.7"
  }
 },
 "nbformat": 4,
 "nbformat_minor": 4
}
