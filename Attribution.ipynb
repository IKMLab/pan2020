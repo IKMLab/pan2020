{
 "cells": [
  {
   "cell_type": "code",
   "execution_count": 1,
   "metadata": {},
   "outputs": [],
   "source": [
    "import json"
   ]
  },
  {
   "cell_type": "code",
   "execution_count": 3,
   "metadata": {},
   "outputs": [],
   "source": [
    "with open('data/auth/train_small.jsonl') as f:\n",
    "    data = f.readlines()"
   ]
  },
  {
   "cell_type": "code",
   "execution_count": 4,
   "metadata": {},
   "outputs": [
    {
     "data": {
      "text/plain": [
       "52601"
      ]
     },
     "execution_count": 4,
     "metadata": {},
     "output_type": "execute_result"
    }
   ],
   "source": [
    "len(data)"
   ]
  },
  {
   "cell_type": "code",
   "execution_count": 6,
   "metadata": {},
   "outputs": [],
   "source": [
    "x0 = json.loads(data[0])"
   ]
  },
  {
   "cell_type": "code",
   "execution_count": 7,
   "metadata": {},
   "outputs": [
    {
     "data": {
      "text/plain": [
       "dict_keys(['id', 'fandoms', 'pair'])"
      ]
     },
     "execution_count": 7,
     "metadata": {},
     "output_type": "execute_result"
    }
   ],
   "source": [
    "x0.keys()"
   ]
  },
  {
   "cell_type": "code",
   "execution_count": 10,
   "metadata": {
    "scrolled": true
   },
   "outputs": [
    {
     "data": {
      "text/plain": [
       "'\"All will become one with Russia,\" he said, almost simply, his cheer eerie. Fists were already clenched; now they groped about, for a pan, a rifle, a sword-there was nothing. In some way, this brought her but a sigh of relief-Gilbert and Roderich, she was reminded, were not here to suffer as well. If Ivan put his giant hands on Roderich... Click, went an object, and Elizaveta was snapped into the world when her own instincts pulled her head away; on time, for Ivan\"s collar was soon found to be touching the tip of her nose: she went cross-eyed staring at the thing: it pinched her skin, now red with anger. How dare you- Oppression! No one could lay that yoke above her again!-she would never allow it! Even when a sort of purple shroud seemed to wrap itself about Ivan and blaze as a fire would...even as a faint eerie \"kolkolkol\" was thick in the air...Elizaveta held her ground-glaring, hating, repulsing. Oppression. No more oppression...! His eyes dropped; his hand followed: with a bolt of alarm-lechery?-feint?-Elizaveta took one step back, bristling as the wolf does. Watching the muscles of the Russian arms twitch, she ducked when he snatched at where her waist would have been had she remained still; with a quick flush of indignation, she glared upward; if only Ludwig had not been forced out! He had retreated with such haste, back to Berlin, offering to bring her with him, though knowing that she would not leave-Hungary was her, and her place. So he had left, alone and resigned to the fact that even Veneziano had to leave him, taken by the Allies. Elizaveta had watched him go with as much resignation. Endsieg, the Germans called it. Ivan was huge, behemoth above an ant...no, not an ant, but perhaps a lotus...perhaps a hybrid of that with a rose. There is no rose without thorns, after all. The Soviets had already been merciless, ruthless as the next army: the ache of rape and massacre fluttered about the land. If anything, the nation itself would fight. Useless as it was. Ivan dropped the collar. Still galvanizing with mental shocks down the spine, she watched closely. Too closely. Ivan\"s hand dove downwards and snatched. With a horrified she jumped back, giving a swift right hook to his neck, the closest she could reach. -And in the end, it almost didn\"t matter. Ivan smiled triumphantly as a long-forgotten weight was shifted from her belt. With a savage look from one of him and Elizaveta, the paper was in between his fingers...Elizaveta looked, stunned-in the moment it felt as if the appendix had been removed from her body. As useless yet familiar thing was there, the memory of its origins...filled with not blood, but gore-milk skin against the universe of deadness. The paper was scrolled about the Russian\"s fingers; somehow, it completed the image-a bloody Soviet, grinning wickedly as the royal purple billowed from his eyes: to top it all off, a dirty cream paper twisted about his raised digits. It was almost gray. She had long since forgotten about the thing; the small text, written in Gilbert\"s-a frantic parry-handwriting; out fell a finger, and it was the one from the bombed wreck. Just its weight-it had been there all along, useless, a little keepsake of Berlin; what she had seen there. What she had left behind for her own Hungarian version. It was white still, yet shriveled, and dry-that was all; it had changed, though not enough. \"German,\" Ivan said, warmly-no, coldly...swelteringly icy, and that was oxymoronic, but oxymoronic was practically the composure of him...him, all him. \"This is a finger from Germany, da?\" \"How do you...\" She sucked in a breath; refused to let her eyes widen. The grin widened; \"Just a lucky guess.\" He giggled, sickeningly, violet mist shrouding the remains of his person; his teeth were a white and perfect-they flashed in the buttercup sun, which laid its yellow upon the stiff white ground, touched with chill. Elizaveta stood stock-still then: she did the whole time; something had been torn away, and it lay resting among Ivan\"s grubby fingers, clad in leather-worn leather gloves that anyone would wear these days...she rubbed at her own, slightly shredded, at the still-clothed fingertips. Hands-they were worn down: hers and Ivan\"s. Beaten flesh. Looking up again, relief flashed briefly, the white light stark against her crimson crumbling heart, or else the mind-one was meaningful as the other; with that thought, of Roderich, Gilbert, Ludwig, Veneziano, and the war as a human, Ares... Endsieg. There was nothing to lose, but more lives. Eyeing the Russians, who had swept her land into scorched blood, she charged. There was nothing more to lose, and she kept on telling herself that. Even as the Soviets rushed over, rustling the paper with the breeze stirred by their boots; even as she lay ready to die, ready to live, tired as a nation at the end of his time. There was plenty of dust, and plenty of blood, and her body ached. It fit-it all fit. The yoke had been laid over her shoulders-the niggling thought that it was cracked brought no satisfaction: the Soviets still had claim laid over the land fought so hard for: Everything I\"ve done, she thought, as a cough formed within her throat, was for my people. Her thoughts flickered, at Roderich, at Gilbert-if she could not fight, she could marry, or give herself over; but she could fight, she merely needed the mentality rather than the plentiful physique: that was why she was in...this. \"Fuck,\" she breathed, eyes shut against the world. The last soldier soon disappeared through the limits of sound; peace and dust remained-not one stray man was left, no one else to strap the lead to her bones. Limbs aching, heart aching, mind aching, she lay there among the debris- No wonder, then, said the idle mind; she could have scowled, but it would have hurt too much-coughing did not help: if it stayed, it hurt the throat; if it was released, it cut the throat; the effort of checking it racked the whole body, and there was none of it anyway. Head lolling back, Elizaveta felt the paper, the finger, lying dead on the ground: Russia had dropped it, mockingly, to replace the grave flowers. There were no flowers, aside from those withered things in her hair. They were papery. Still, being near dead...the well of strength was dry. There was but moisture left in the moss growing upon the clammy stone-up the frozen cylinder it traveled, and so she flinched when the hand came. It was cold. Cold-and yet, hot as ice-white and freezing; the touch was familiar. It was light as a feather. The feather was upon the shoulder; it pressed, though not harshly; still, it could not be described as gentle. The hand was frail as her strength-brittle and cold and old. She refused to open her eyes then. She had decided, some time ago, that she liked the dark. She preferred it; it was friendly, and it allowed ignorance to be an excuse. It was kind, and she wished it could be a closer friend. But white-why white... \"Hey,\" said something, someone, something, someone. The ax scraped against the stone; it rasped with a familiar tinge of the past months, which were long as eternity, significant as the rest of time\"s children. It was a beautifully ugly voice, salty, bloody, white as fire. In the next moment there was nothing but one thing-it could not be. The pressure increased, it was beginning to hurt. Not able to growl, Elizaveta shifted with painful instinct-another cough ripped through her chest. \"Hey,\" said something again, and she summoned what was left of the moisture in the moss to flick her eyes open-it hurt: her eyes stung in white with water, but she knew it would come to pass. Everything comes to pass. Everything-absolutely everything: she had to keep on telling herself that, for though it passed, it took its very sweet time doing so; so that she could almost taste the bitter sparks on her tongue; it was parched, and thus drier. Spice. \"Fuck you,\" she whistled through her throat. It stung. It could not be. The pressure increased, not unexpectedly; it squeezed upon her shoulder, and it took a large muster of strength to finally blink the fluids away from the eyes, so that they were a clear green again-the first sight was white, as it always was-the second blink brought the sight of red, and some part of her-somewhere, deep down or hidden-despaired: agony nudged at her again, and she knew that those papers would not have been so kind as to let her go: no, she had to confront; it was a gift of something...that would not irk her for the rest of eternity, and yet a curse of more pain. The choice of selfishness or selflessness, when both loosed their boundaries and came together. And that hurt. More than anything, that hurt-the scorch of disappointment; denial, anxiety, fear-there was too much of it. And yet, she did not want him dead. It had taken her time, so much time to realize that...but she did not wish death upon anyone, having seen too much of it as the clock ticked away-she had never wanted anyone to truly die. Gilbert Beilschmidt, though she hated him above all, was no exception. But in times such as now, when war tore the world apart-when history decided to twist itself about-when the nations crumbled-how could death not be a blessing?-at this point she could almost want them all to be dead. Roderich, Gilbert, Veneziano, Ludwig...and yet she would watch with relief on the day that each of them would pick themselves up, and charge into the distance with life. She hated war. She blinked rapidly, staring, always watching; though she ached, she let the next batter of coughing come to pass-shock, it overcame her then. Charging upward, body screaming in protest, she could only slap him with strength that came by habit, before wrapping both arms around him, wondering how and why in hell- \"Get off me, woman!\" he protested, attempting to flail; she saw now that the tin had been stripped away, or at least most of it, as she felt him, flesh and cloth and hair-from the unhealthy pallor of his skin, from the dried hard uniform, to the pinked and browned hair, silver still shining boldly beneath the blood. He was unusually warm-hot even-when she felt him; clearly the cold had been warded off, though his hands still felt like ice; remembering the documents found in Ludwig\"s office, she realized that it was fever. But his head-feeling about the neck, she knew it was there-desperately feeling, just to know how cruel death was, she felt it, finding no seam-with a thin cry of joy and pain she kissed it, squeezing him till he was strangled- \"You\"re alive,\" she breathed, even as garbled speech flew from his lips. She was going into spasms-this was too unreal! And yet it was. He was so, so solid. His eyes were ruby. No petty pink glaze upon the Kingdom of Prussia\"s gaze-no death frosting them over. Clinging to him, something told her that she would never let go-a stupid little piece of wishful thought, no doubt: never let go, how ridiculous; and yet she did not release him, as he calmed between her limbs, resigning with guilty pleasure, rigid with denial. She could not even loosen about him-there was nothing but the jail scene playing and replaying itself in her mind-letting their hands drop, parting, and then the sickening sound of the guillotine\"s strike. Water, red, pink, silver, white, black. The swastika rose over all, as if to mock... \"Where in Isten\"s name have you been?\" she muttered against his shoulder, before lifting her head away hastily; still, though, she did not let go; she wanted to savor it. As the vampire feasts on blood. The scent of metal clung to him. \"Get off,\" was the obstinate reply; she lifted her hand and slapped him again, not knowing what else to do. \"Ow!\" \"Where\"ve you been?\" she said again. \"You were supposed to be dead-\" \"Well, I\"m so freaking not-\" \"I saw your head!\" she said, voice reaching a higher octave. \"It was a fake!\" \"Impossible,\" she declared, eyes widening before she finished; it came to her, suddenly-the way it had fallen, the sudden hush of death, the blindfold of stars, the blood-she had seen it, touched it, waded in the water it buried itself in.... She had suffered with him at death. \"You were dead...,\" she whispered; it gave way to coughing, and he only watched as she did; held onto her and she held onto him. \"I heard the thud. If you were dead-\" He grunted. When she looked up, his eyes were a bitter red. \"The head was fake. They...held me down.\" Scowling, he looked away; admittance was ignominy. \"They held me down up there. There were lots of them, Hungary-scheiße, there was a lot of back-up that we didn\"t notice; I couldn\"t beat off all of them. And my gun ran out...\" His voice faded; still, his scowl deepened, and he finished to his own satisfaction. \"Their leader was fun to kill though.\" He laughed, cruelly, forcefully-he found no love for death, though he had seen enough of it to mind less. Elizaveta decided against shaking her head-it could only be true; she had known him for years, since they were incomplete nations, just children running about with swords of both wood and steel. Just as he had sifted out her identity from that of Elisabeth Wertheim\"s, it was with ease that she found that this man in front of her was real: as nations in human form, they were allowed the same detached senses as those immortal. Stupid, she scolded herself, knowing not to trust so easily; but it was what it was. She noticed the shards of tin still upon his flesh then-of course, he could not have been thrown out so easily-time was needed, so much time; some things did not change, but could. They trapped him. Shackled his person. Still not releasing-he was too real, too solid, to let go-she let the glimpses of his uniform and body form in her mind; she looked about, saw the blood, the bruises, the sickly pallor of his skin. Dread formed with it, in a way almost instinctive, be it Gilbert or not: \"What did they do to you.\" It was not a question-it was an exclamation, asking, wondering, but not questioning. The papers came to mind again. A pause-it was too long, in Elizaveta\"s mind. With a ferociousness that came at will, that sapped her meager strength as well as supplied it, she asked, this time, demanded, \"What did they do to you?\" He was biting his lips, not speaking; still, obstinately, she took him by the shoulders again, harder, saying, \"What did they do to you?\" The papers came to mind again...how Ludwig had admitted it, how Gilbert had been so emotionless for the past year.... A protectiveness that she had never felt before, for but Roderich and Veneziano, but never this man, emerged; it reared its head menacingly-some maternal side of her glared outwards, and she shook him. \"Tell me!\" He only bit his lips harder. \"Tell me, God damn it,\" she said. \"I found documents in Ludwig\"s office. Is it true...\" he looked at her \"...that, throughout the war....\" \"Ja,\" he said, finally; his tone shook at the slightest, but was steely at the same time. His eyes grew hard. Elizaveta had never seen him like this, before the war-so close to tiredness, so close to a sort of trauma; he spread trauma, he did not suffer from it. She had known him for so long, and yet finally.... Not noticing how hard she was holding onto him, as if to crush him, she leaned in with complete urgency, green pools of eyes reflecting the cracked image of Gilbert Beilschmidt. \"Russia...hurt my people. So much.\" He snorted softly, in disgust. \"And der Führer\"-derision-\"doesn\"t like me a lot.\" The line along his brows became harsh, harsher than they needed to be. \"My people aren\"t West\"s. They\"re different. And they don\"t like der fucking Führer. \"West didn\"t know; he only knew later, but they told him I was dead. He was pissed and everything; he lost my awesomeness after all.\" The grin curled along his chapped lips. There was no humor in it. \"I\"m just a small state now; I\"m the most freaking awesome state that existed, but I\"m still just a state. \"They experimented on me,\" he continued; Elizaveta could see the anger etched along his face, and she felt it too; she had suffered, though not as much, by the way it sounded-her Jews were still her people, no matter what the Germans said. She could never understand why others could do this to people.... \"Russia\"s people and West\"s people. They raped the women and killed the children.\" A shudder passed through him, in painful memory; again, Elizaveta noted his love as a nation for his people; Prussian, Crusader, Knight he may be, he still had people. \"Well, mostly Russia\"s. West\"s did too, but mostly they just did those experiments and sent them off to work.\" Another sour laugh. \"Hitler thought I wasn\"t really important later on-before that he just sat around glaring and all. I had to go to jail several times-they said I was encouraging sedition against him, and that\"s when it happened.\" \"They...\" Elizaveta spoke at last. \"Torture,\" he said, nodding coolly. \"Later Hitler started doing it outright-he thought that I wasn\"t good enough, and didn\"t deserve his shithole of a Reich. What a failure,\" he added darkly. She scowled at him, alarmed, angered, bewildered; \"Why didn\"t you tell Ludwig?\" \"And what would he have done?\" he answered cuttingly. \"Kicked him off and told the Allies and Jews that he was sorry?-West\"s a stubborn arschloch, and he loves his Führer so much.\" \"Oh Gilbert...,\" was all she could say, and she could only blink aside from that. \"Was?\" he snapped, silver locks bouncing. \"Is this why...\" \"Ja. Haven\"t you noticed that this Gott-forsaken war is tearing the world apart?\" \"I have,\" she said quietly, not protesting; his statement was horribly obvious. \"I don\"t think it\"d be easy to miss.\" Now it was her turn to smile, so she did; it was bitter as his, and the worn grinning soldiers were twins. She sucked in a breath before wheezing at the slightest; the image shattered. \"And,\" he added, though almost hastily, \"I\"ve always wanted to know\"-she looked at him, albeit with some anxiety for the topic-\"what in hell do you see in Roderich?\" She should\"ve slapped him. She should\"ve pummeled him into the ground. She should\"ve left him then and there. She should\"ve. She could\"ve. In the end she did not. She saw it coming. She knew it had to-it was bound to, heading her way; the circumstances catapulted them at her; the tension crackling in the air, like electricity powered it-I should have come sooner, but now...she had never been able to measure the distance from whence it came. Now it was laid before, and she wondered why this exchange had never occurred between them-they were too busy fighting. Hating each other. And she still hated him, but they had enough now, to ceasefire for the moment. Enough of what, she could not say. Roderich. How could she tell him...as she stared wistfully at Gilbert\"s crimson eyes, some part of her wished that she had never met him, nor Roderich-if only one should be nothing to her, she would be happy; he would be happy-no tumbling love, no turmoil with the blood split between them. If she had only grown up to be a boy after all; if only it would be when she was still the wild girl on the plains (not that she would ever miss Mongolia, Turkey, or having to carry a bow and arrows out with her from so young an age...), beating Roderich-Austria-back till he could not even move; even before Gilbert began to defend her land. But no. In the end she had met someone so kind, someone who had given her love in a hate-filled life; someone who gave her a second glance, and more, not in hostility or for the sake of land-he was fortunate Austria, who valued peace. Perfection did not exist-but to Elizaveta, he was the closest to achieving it; never had anyone been so positively unreal. She loved him. She could trust him. Gilbert had been hell-sent. He had made fun of all the trials of her life-hurt Roderich...was a barbarian who cared for none for himself; there was nothing but power, and all who even stumbled in his path were gleefully slaughtered. Studying his face now, she could see the years imprinted upon his face; the stupid boy, the hateful man, dishonorable dog he was. And yet-in the end, she had been proven wrong about his care: he loved Ludwig. His people. In some way, there were binds tying them together. If not loved, then cared for; in the end, he was proven to be human, if not a ruthless one. In the end, however...they were both merely tired nations, one about to drop dead; it was painful to think of. Had she fallen in love with this man? This man...who was merely one step away from even raping Roderich-she had thought it so when he came back speaking of lost Silesia, though she had been quick in recalling the pious side of her Prussian foe-could she have fallen in love? It was not impossible to love two-and it was only now that she thought it, thought hard. Unthinkable! she snapped. She proved herself wrong when she put their mouths together. \"Roderich is better than you,\" she hissed through their teeth; his lips were cold, pale, chapped; chapped and cold as hers. He was complying coolly, almost thoughtfully. \"You may have claimed my vital regions first\"-they smirked in unison-\"but my heart is still Austrian territory.\" She then muttered against his tongue all that she thought, of him, of Roderich-of Roderich\"s kindness and heaven-sent presence, of Gilbert\"s disgusting being. They were all true, they both knew; but hate and love were married in a balanced union: thus she hated him, and did not all at once.'"
      ]
     },
     "execution_count": 10,
     "metadata": {},
     "output_type": "execute_result"
    }
   ],
   "source": [
    "x0['pair'][1]"
   ]
  },
  {
   "cell_type": "code",
   "execution_count": 11,
   "metadata": {},
   "outputs": [],
   "source": [
    "with open('data/attribution/train_small_truth.jsonl') as f:\n",
    "    truth = [json.loads(l) for l in f.readlines()]"
   ]
  },
  {
   "cell_type": "code",
   "execution_count": 12,
   "metadata": {},
   "outputs": [
    {
     "data": {
      "text/plain": [
       "{'id': '6cced668-6e51-5212-873c-717f2bc91ce6',\n",
       " 'same': True,\n",
       " 'authors': ['1446633', '1446633']}"
      ]
     },
     "execution_count": 12,
     "metadata": {},
     "output_type": "execute_result"
    }
   ],
   "source": [
    "truth[0]"
   ]
  }
 ],
 "metadata": {
  "kernelspec": {
   "display_name": "news",
   "language": "python",
   "name": "news"
  },
  "language_info": {
   "codemirror_mode": {
    "name": "ipython",
    "version": 3
   },
   "file_extension": ".py",
   "mimetype": "text/x-python",
   "name": "python",
   "nbconvert_exporter": "python",
   "pygments_lexer": "ipython3",
   "version": "3.7.6"
  }
 },
 "nbformat": 4,
 "nbformat_minor": 2
}
