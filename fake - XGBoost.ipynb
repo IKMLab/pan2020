{
 "cells": [
  {
   "cell_type": "code",
   "execution_count": 1,
   "metadata": {},
   "outputs": [],
   "source": [
    "import joblib\n",
    "import numpy as np\n",
    "import pandas as pd\n",
    "from sklearn import metrics, model_selection, preprocessing\n",
    "import xgboost as xgb\n",
    "\n",
    "from pan20 import util"
   ]
  },
  {
   "cell_type": "code",
   "execution_count": 2,
   "metadata": {},
   "outputs": [],
   "source": [
    "df = pd.read_csv('data/fake/feats.csv')"
   ]
  },
  {
   "cell_type": "code",
   "execution_count": 3,
   "metadata": {},
   "outputs": [],
   "source": [
    "def get_X_y(cols=None, no_cols=None):\n",
    "    X = df.groupby(['author', 'label']).mean().reset_index()\n",
    "    y = X.label.values\n",
    "    a = list(X.author.values)\n",
    "    X.drop(columns=['author', 'n'], inplace=True)\n",
    "    if cols:\n",
    "        X = X.loc[:, [c in cols for c in X.columns]]\n",
    "    elif no_cols:\n",
    "        X = X.loc[:, [c not in no_cols for c in X.columns]]\n",
    "    else:\n",
    "        X = X.loc[:, [c != 'label' for c in X.columns]]\n",
    "    feat_dict = util.IxDict(X.columns)\n",
    "    # normalize features to be between 0 and 1\n",
    "    x = X.values\n",
    "    min_max_scaler = preprocessing.MinMaxScaler()\n",
    "    X = min_max_scaler.fit_transform(x)\n",
    "    return X, y, feat_dict, a"
   ]
  },
  {
   "cell_type": "code",
   "execution_count": 4,
   "metadata": {},
   "outputs": [],
   "source": [
    "feats = [\n",
    "    'adverbs', \n",
    "    'impersonal_pronouns',\n",
    "    'personal_pronouns', \n",
    "    'function_words',\n",
    "    'avg_bf', \n",
    "    'max_np_height', \n",
    "    'max_vp_height',\n",
    "    'senti', \n",
    "    'senti_neg', \n",
    "    'anger', \n",
    "    'distrust'\n",
    "]"
   ]
  },
  {
   "cell_type": "code",
   "execution_count": 5,
   "metadata": {},
   "outputs": [],
   "source": [
    "X, y, feat_dict, a = get_X_y(feats)"
   ]
  },
  {
   "cell_type": "code",
   "execution_count": 6,
   "metadata": {},
   "outputs": [
    {
     "name": "stderr",
     "output_type": "stream",
     "text": [
      "/usr/local/anaconda3/lib/python3.7/site-packages/sklearn/base.py:318: UserWarning: Trying to unpickle estimator SVC from version 0.22.2.post1 when using version 0.22.2. This might lead to breaking code or invalid results. Use at your own risk.\n",
      "  UserWarning)\n",
      "/usr/local/anaconda3/lib/python3.7/site-packages/sklearn/base.py:318: UserWarning: Trying to unpickle estimator DecisionTreeClassifier from version 0.22.2.post1 when using version 0.22.2. This might lead to breaking code or invalid results. Use at your own risk.\n",
      "  UserWarning)\n",
      "/usr/local/anaconda3/lib/python3.7/site-packages/sklearn/base.py:318: UserWarning: Trying to unpickle estimator RandomForestClassifier from version 0.22.2.post1 when using version 0.22.2. This might lead to breaking code or invalid results. Use at your own risk.\n",
      "  UserWarning)\n",
      "/usr/local/anaconda3/lib/python3.7/site-packages/sklearn/base.py:318: UserWarning: Trying to unpickle estimator SVC from version 0.22.2.post1 when using version 0.22.2. This might lead to breaking code or invalid results. Use at your own risk.\n",
      "  UserWarning)\n"
     ]
    }
   ],
   "source": [
    "svc = joblib.load('pan20/fake/svc.model')\n",
    "rf = joblib.load('pan20/fake/rf.model')\n",
    "nb = joblib.load('pan20/fake/nb.model')"
   ]
  },
  {
   "cell_type": "code",
   "execution_count": 7,
   "metadata": {},
   "outputs": [],
   "source": [
    "p_svc = list(np.exp(svc.predict_log_proba(X))[:, 1])\n",
    "p_rf = list(np.exp(rf.predict_log_proba(X))[:, 1])\n",
    "p_nb = list(np.exp(nb.predict_log_proba(X))[:, 1])"
   ]
  },
  {
   "cell_type": "code",
<<<<<<< HEAD
   "execution_count": 146,
   "metadata": {},
   "outputs": [],
   "source": [
    "#p_bert = pd.read_csv('tmp/bert_encoded.csv')\n",
    "#p_bert = pd.read_csv('tmp/bert_large_svm_070.csv')\n",
    "p_bert = pd.read_csv('tmp/bert_large_svm_070.csv')\n",
    "p_roberta = pd.read_csv('tmp/roberta_svm_071.csv')\n",
    "#p_electra = pd.read_csv('tmp/electra_base_svm_066.csv')"
   ]
  },
  {
   "cell_type": "code",
   "execution_count": 147,
   "metadata": {},
   "outputs": [],
   "source": [
    "#p_bert.drop(columns=['label'], inplace=True)\n",
    "p_roberta.drop(columns=['label'], inplace=True)"
   ]
  },
  {
   "cell_type": "code",
   "execution_count": 148,
   "metadata": {},
   "outputs": [],
   "source": [
    "xgb_in = pd.DataFrame({\n",
    "    'author': a,\n",
    "    'label': y,\n",
    "    'svc': p_svc,\n",
    "    'rf': p_rf,\n",
    "    'nb': p_nb,\n",
    "})"
   ]
  },
  {
   "cell_type": "code",
   "execution_count": 149,
=======
   "execution_count": 135,
>>>>>>> 3b703984bbdf70217d4df1c3899a14d3f73da52b
   "metadata": {},
   "outputs": [],
   "source": [
    "xgb_in.set_index('author')\n",
    "p_bert.set_index('author')\n",
    "xgb_in = xgb_in.merge(p_bert, on='author')\n",
    "xgb_in = xgb_in.merge(p_roberta, on='author')\n",
    "#xgb_in = xgb_in.merge(p_electra, on='author')"
   ]
  },
  {
   "cell_type": "code",
   "execution_count": 142,
   "metadata": {},
   "outputs": [
    {
     "data": {
      "text/html": [
       "<div>\n",
       "<style scoped>\n",
       "    .dataframe tbody tr th:only-of-type {\n",
       "        vertical-align: middle;\n",
       "    }\n",
       "\n",
       "    .dataframe tbody tr th {\n",
       "        vertical-align: top;\n",
       "    }\n",
       "\n",
       "    .dataframe thead th {\n",
       "        text-align: right;\n",
       "    }\n",
       "</style>\n",
       "<table border=\"1\" class=\"dataframe\">\n",
       "  <thead>\n",
       "    <tr style=\"text-align: right;\">\n",
       "      <th></th>\n",
       "      <th>author</th>\n",
       "      <th>label_x</th>\n",
       "      <th>svc</th>\n",
       "      <th>rf</th>\n",
       "      <th>nb</th>\n",
       "      <th>label_y</th>\n",
       "      <th>probability_x</th>\n",
       "      <th>probability_y</th>\n",
       "    </tr>\n",
       "  </thead>\n",
       "  <tbody>\n",
       "    <tr>\n",
       "      <th>0</th>\n",
       "      <td>06ct0t68y1acizh9eow3g5rhancrppr8</td>\n",
       "      <td>1</td>\n",
       "      <td>0.714161</td>\n",
       "      <td>0.867710</td>\n",
       "      <td>0.706297</td>\n",
       "      <td>1</td>\n",
       "      <td>0.941727</td>\n",
       "      <td>0.686610</td>\n",
       "    </tr>\n",
       "    <tr>\n",
       "      <th>1</th>\n",
       "      <td>071nxc49ihpd0jlfmvn2lghtayy3b5n9</td>\n",
       "      <td>0</td>\n",
       "      <td>0.595813</td>\n",
       "      <td>0.445694</td>\n",
       "      <td>0.591051</td>\n",
       "      <td>0</td>\n",
       "      <td>0.842279</td>\n",
       "      <td>0.736981</td>\n",
       "    </tr>\n",
       "    <tr>\n",
       "      <th>2</th>\n",
       "      <td>09py5qescynpnnckmzueqzr2y49moh1o</td>\n",
       "      <td>0</td>\n",
       "      <td>0.511316</td>\n",
       "      <td>0.361854</td>\n",
       "      <td>0.509568</td>\n",
       "      <td>0</td>\n",
       "      <td>0.429073</td>\n",
       "      <td>0.244102</td>\n",
       "    </tr>\n",
       "    <tr>\n",
       "      <th>3</th>\n",
       "      <td>0dwovd7nj6yg9m795ng2c629me0ccmrh</td>\n",
       "      <td>0</td>\n",
       "      <td>0.475750</td>\n",
       "      <td>0.260155</td>\n",
       "      <td>0.475279</td>\n",
       "      <td>0</td>\n",
       "      <td>0.308907</td>\n",
       "      <td>0.356693</td>\n",
       "    </tr>\n",
       "    <tr>\n",
       "      <th>4</th>\n",
       "      <td>0ibi364m7i7l01xi4xqafyathrmrrnll</td>\n",
       "      <td>1</td>\n",
       "      <td>0.680197</td>\n",
       "      <td>0.752722</td>\n",
       "      <td>0.673100</td>\n",
       "      <td>1</td>\n",
       "      <td>0.612581</td>\n",
       "      <td>0.673037</td>\n",
       "    </tr>\n",
       "  </tbody>\n",
       "</table>\n",
       "</div>"
      ],
      "text/plain": [
       "                             author  label_x       svc        rf        nb  \\\n",
       "0  06ct0t68y1acizh9eow3g5rhancrppr8        1  0.714161  0.867710  0.706297   \n",
       "1  071nxc49ihpd0jlfmvn2lghtayy3b5n9        0  0.595813  0.445694  0.591051   \n",
       "2  09py5qescynpnnckmzueqzr2y49moh1o        0  0.511316  0.361854  0.509568   \n",
       "3  0dwovd7nj6yg9m795ng2c629me0ccmrh        0  0.475750  0.260155  0.475279   \n",
       "4  0ibi364m7i7l01xi4xqafyathrmrrnll        1  0.680197  0.752722  0.673100   \n",
       "\n",
       "   label_y  probability_x  probability_y  \n",
       "0        1       0.941727       0.686610  \n",
       "1        0       0.842279       0.736981  \n",
       "2        0       0.429073       0.244102  \n",
       "3        0       0.308907       0.356693  \n",
       "4        1       0.612581       0.673037  "
      ]
     },
     "execution_count": 142,
     "metadata": {},
     "output_type": "execute_result"
    }
   ],
   "source": [
<<<<<<< HEAD
    "xgb_in.head()"
=======
    "p_bert.head()"
   ]
  },
  {
   "cell_type": "code",
   "execution_count": 119,
   "metadata": {},
   "outputs": [],
   "source": [
    "rob = pd.read_csv('tmp/yingjia/roberta_svm_072.csv')"
   ]
  },
  {
   "cell_type": "code",
   "execution_count": 120,
   "metadata": {},
   "outputs": [
    {
     "data": {
      "text/html": [
       "<div>\n",
       "<style scoped>\n",
       "    .dataframe tbody tr th:only-of-type {\n",
       "        vertical-align: middle;\n",
       "    }\n",
       "\n",
       "    .dataframe tbody tr th {\n",
       "        vertical-align: top;\n",
       "    }\n",
       "\n",
       "    .dataframe thead th {\n",
       "        text-align: right;\n",
       "    }\n",
       "</style>\n",
       "<table border=\"1\" class=\"dataframe\">\n",
       "  <thead>\n",
       "    <tr style=\"text-align: right;\">\n",
       "      <th></th>\n",
       "      <th>author</th>\n",
       "      <th>label</th>\n",
       "      <th>probability</th>\n",
       "    </tr>\n",
       "  </thead>\n",
       "  <tbody>\n",
       "    <tr>\n",
       "      <th>0</th>\n",
       "      <td>h0icm6kusqcb4tajgiafnkw6490426e9</td>\n",
       "      <td>1</td>\n",
       "      <td>0.472721</td>\n",
       "    </tr>\n",
       "    <tr>\n",
       "      <th>1</th>\n",
       "      <td>8vp74g6kssomu1a6akix6y3hqy6552t7</td>\n",
       "      <td>1</td>\n",
       "      <td>0.511446</td>\n",
       "    </tr>\n",
       "    <tr>\n",
       "      <th>2</th>\n",
       "      <td>z9sjtv730uwrqxjtr4gc6l9w0j1oczgq</td>\n",
       "      <td>0</td>\n",
       "      <td>0.406618</td>\n",
       "    </tr>\n",
       "    <tr>\n",
       "      <th>3</th>\n",
       "      <td>4fl04aqn59zudhd6f1908ydqlrzewjr0</td>\n",
       "      <td>0</td>\n",
       "      <td>0.590230</td>\n",
       "    </tr>\n",
       "    <tr>\n",
       "      <th>4</th>\n",
       "      <td>06ct0t68y1acizh9eow3g5rhancrppr8</td>\n",
       "      <td>1</td>\n",
       "      <td>0.737762</td>\n",
       "    </tr>\n",
       "  </tbody>\n",
       "</table>\n",
       "</div>"
      ],
      "text/plain": [
       "                             author  label  probability\n",
       "0  h0icm6kusqcb4tajgiafnkw6490426e9      1     0.472721\n",
       "1  8vp74g6kssomu1a6akix6y3hqy6552t7      1     0.511446\n",
       "2  z9sjtv730uwrqxjtr4gc6l9w0j1oczgq      0     0.406618\n",
       "3  4fl04aqn59zudhd6f1908ydqlrzewjr0      0     0.590230\n",
       "4  06ct0t68y1acizh9eow3g5rhancrppr8      1     0.737762"
      ]
     },
     "execution_count": 120,
     "metadata": {},
     "output_type": "execute_result"
    }
   ],
   "source": [
    "rob.head()"
   ]
  },
  {
   "cell_type": "code",
   "execution_count": 140,
   "metadata": {},
   "outputs": [],
   "source": [
    "xgb_in = pd.DataFrame({\n",
    "    'author': a,\n",
    "    'label': y,\n",
    "    'svc': p_svc,\n",
    "    'rf': p_rf,\n",
    "    'nb': p_nb,\n",
    "})"
>>>>>>> 3b703984bbdf70217d4df1c3899a14d3f73da52b
   ]
  },
  {
   "cell_type": "code",
<<<<<<< HEAD
   "execution_count": 150,
=======
   "execution_count": 127,
   "metadata": {},
   "outputs": [],
   "source": [
    "xgb_in.set_index('author')\n",
    "rob.set_index('author')\n",
    "xgb_in = xgb_in.merge(rob, on='author')"
   ]
  },
  {
   "cell_type": "code",
   "execution_count": 137,
   "metadata": {},
   "outputs": [],
   "source": [
    "xgb_in.set_index('author')\n",
    "p_bert.set_index('author')\n",
    "xgb_in = xgb_in.merge(p_bert, on='author')"
   ]
  },
  {
   "cell_type": "code",
   "execution_count": 138,
>>>>>>> 3b703984bbdf70217d4df1c3899a14d3f73da52b
   "metadata": {},
   "outputs": [],
   "source": [
    "xgb_in.drop(columns=['label_y'], inplace=True)\n",
    "#xgb_in.rename(columns={'label_x': 'label', 'probability': 'bert'}, inplace=True)\n",
    "xgb_in.rename(columns={'label_x': 'label', 'probability_x': 'bert', 'probability_y': 'roberta'}, inplace=True)"
   ]
  },
  {
   "cell_type": "code",
   "execution_count": 141,
   "metadata": {},
   "outputs": [
    {
     "data": {
      "text/html": [
       "<div>\n",
       "<style scoped>\n",
       "    .dataframe tbody tr th:only-of-type {\n",
       "        vertical-align: middle;\n",
       "    }\n",
       "\n",
       "    .dataframe tbody tr th {\n",
       "        vertical-align: top;\n",
       "    }\n",
       "\n",
       "    .dataframe thead th {\n",
       "        text-align: right;\n",
       "    }\n",
       "</style>\n",
       "<table border=\"1\" class=\"dataframe\">\n",
       "  <thead>\n",
       "    <tr style=\"text-align: right;\">\n",
       "      <th></th>\n",
       "      <th>author</th>\n",
       "      <th>label</th>\n",
       "      <th>svc</th>\n",
       "      <th>rf</th>\n",
       "      <th>nb</th>\n",
       "    </tr>\n",
       "  </thead>\n",
       "  <tbody>\n",
       "    <tr>\n",
       "      <th>0</th>\n",
       "      <td>06ct0t68y1acizh9eow3g5rhancrppr8</td>\n",
       "      <td>1</td>\n",
       "      <td>0.714161</td>\n",
       "      <td>0.867710</td>\n",
       "      <td>0.706297</td>\n",
       "    </tr>\n",
       "    <tr>\n",
       "      <th>1</th>\n",
       "      <td>071nxc49ihpd0jlfmvn2lghtayy3b5n9</td>\n",
       "      <td>0</td>\n",
       "      <td>0.595813</td>\n",
       "      <td>0.445694</td>\n",
       "      <td>0.591051</td>\n",
       "    </tr>\n",
       "    <tr>\n",
       "      <th>2</th>\n",
       "      <td>09py5qescynpnnckmzueqzr2y49moh1o</td>\n",
       "      <td>0</td>\n",
       "      <td>0.511316</td>\n",
       "      <td>0.361854</td>\n",
       "      <td>0.509568</td>\n",
       "    </tr>\n",
       "    <tr>\n",
       "      <th>3</th>\n",
       "      <td>0dwovd7nj6yg9m795ng2c629me0ccmrh</td>\n",
       "      <td>0</td>\n",
       "      <td>0.475750</td>\n",
       "      <td>0.260155</td>\n",
       "      <td>0.475279</td>\n",
       "    </tr>\n",
       "    <tr>\n",
       "      <th>4</th>\n",
       "      <td>0ibi364m7i7l01xi4xqafyathrmrrnll</td>\n",
       "      <td>1</td>\n",
       "      <td>0.680197</td>\n",
       "      <td>0.752722</td>\n",
       "      <td>0.673100</td>\n",
       "    </tr>\n",
       "  </tbody>\n",
       "</table>\n",
       "</div>"
      ],
      "text/plain": [
       "                             author  label       svc        rf        nb\n",
       "0  06ct0t68y1acizh9eow3g5rhancrppr8      1  0.714161  0.867710  0.706297\n",
       "1  071nxc49ihpd0jlfmvn2lghtayy3b5n9      0  0.595813  0.445694  0.591051\n",
       "2  09py5qescynpnnckmzueqzr2y49moh1o      0  0.511316  0.361854  0.509568\n",
       "3  0dwovd7nj6yg9m795ng2c629me0ccmrh      0  0.475750  0.260155  0.475279\n",
       "4  0ibi364m7i7l01xi4xqafyathrmrrnll      1  0.680197  0.752722  0.673100"
      ]
     },
     "execution_count": 141,
     "metadata": {},
     "output_type": "execute_result"
    }
   ],
   "source": [
    "xgb_in.head()"
   ]
  },
  {
   "cell_type": "code",
   "execution_count": 62,
   "metadata": {},
   "outputs": [],
   "source": [
    "xgb_in.to_csv('tmp/xgb_in.csv', index=False)"
   ]
  },
  {
   "cell_type": "code",
<<<<<<< HEAD
   "execution_count": 151,
=======
   "execution_count": 133,
>>>>>>> 3b703984bbdf70217d4df1c3899a14d3f73da52b
   "metadata": {},
   "outputs": [],
   "source": [
    "def to_txt(feats, file_path, test=False):\n",
    "    with open(file_path, 'w+') as f:\n",
    "        for _, x in feats.iterrows():\n",
    "            if not test:\n",
<<<<<<< HEAD
    "                row = f'{x.label} 0:{x.svc} 1:{x.rf} 2:{x.nb} 3:{x.bert} 4:{x.roberta}\\n'\n",
    "            else:\n",
    "                row = f'0:{x.svc} 1:{x.rf} 2:{x.nb} 3:{x.bert} 4:{x.roberta}\\n'\n",
=======
    "                row = f'{x.label} 0:{x.svc} 1:{x.rf} 2:{x.nb} 3:{x.roberta}\\n'\n",
    "            else:\n",
    "                row = f'0:{x.svc} 1:{x.rf} 2:{x.nb} 3:{x.roberta}\\n'\n",
>>>>>>> 3b703984bbdf70217d4df1c3899a14d3f73da52b
    "            f.write(row)"
   ]
  },
  {
   "cell_type": "code",
<<<<<<< HEAD
   "execution_count": 152,
=======
   "execution_count": 134,
>>>>>>> 3b703984bbdf70217d4df1c3899a14d3f73da52b
   "metadata": {},
   "outputs": [
    {
     "name": "stdout",
     "output_type": "stream",
     "text": [
<<<<<<< HEAD
      "[15:57:12] 240x5 matrix with 1200 entries loaded from tmp/xgb_train.txt\n",
      "[15:57:12] 60x5 matrix with 240 entries loaded from tmp/xgb_test.txt\n",
      "[15:57:12] 240x5 matrix with 1200 entries loaded from tmp/xgb_train.txt\n",
      "[15:57:12] 60x5 matrix with 240 entries loaded from tmp/xgb_test.txt\n",
      "[15:57:12] 240x5 matrix with 1200 entries loaded from tmp/xgb_train.txt\n",
      "[15:57:12] 60x5 matrix with 240 entries loaded from tmp/xgb_test.txt\n",
      "[15:57:12] 240x5 matrix with 1200 entries loaded from tmp/xgb_train.txt\n",
      "[15:57:12] 60x5 matrix with 240 entries loaded from tmp/xgb_test.txt\n",
      "[15:57:12] 240x5 matrix with 1200 entries loaded from tmp/xgb_train.txt\n",
      "[15:57:12] 60x5 matrix with 240 entries loaded from tmp/xgb_test.txt\n",
      "[0.95, 0.9166666666666666, 0.9, 0.8666666666666667, 0.8833333333333333]\n",
      "0.9033333333333333\n"
=======
      "[14:50:41] 240x3 matrix with 720 entries loaded from tmp/xgb_train.txt\n",
      "[14:50:41] 60x3 matrix with 120 entries loaded from tmp/xgb_test.txt\n",
      "[14:50:41] 240x3 matrix with 720 entries loaded from tmp/xgb_train.txt\n",
      "[14:50:41] 60x3 matrix with 120 entries loaded from tmp/xgb_test.txt\n",
      "[14:50:41] 240x3 matrix with 720 entries loaded from tmp/xgb_train.txt\n",
      "[14:50:41] 60x3 matrix with 120 entries loaded from tmp/xgb_test.txt\n",
      "[14:50:41] 240x3 matrix with 720 entries loaded from tmp/xgb_train.txt\n",
      "[14:50:41] 60x3 matrix with 120 entries loaded from tmp/xgb_test.txt\n",
      "[14:50:41] 240x3 matrix with 720 entries loaded from tmp/xgb_train.txt\n",
      "[14:50:41] 60x3 matrix with 120 entries loaded from tmp/xgb_test.txt\n",
      "[0.9333333333333333, 0.9, 0.9, 0.8333333333333334, 0.9]\n",
      "0.8933333333333333\n"
>>>>>>> 3b703984bbdf70217d4df1c3899a14d3f73da52b
     ]
    }
   ],
   "source": [
    "accs = []\n",
    "skf = model_selection.StratifiedKFold(n_splits=5)\n",
    "for tr_ix, ts_ix in skf.split(X, y):\n",
    "    tr = xgb_in.iloc[tr_ix]\n",
    "    ts = xgb_in.iloc[ts_ix]\n",
    "    to_txt(tr, 'tmp/xgb_train.txt')\n",
    "    to_txt(ts, 'tmp/xgb_test.txt', test=True)\n",
    "    dtrain = xgb.DMatrix('tmp/xgb_train.txt')\n",
    "    dtest = xgb.DMatrix('tmp/xgb_test.txt')\n",
    "    params = {\n",
    "        'max_depth': 2,\n",
    "        'eta': 1,\n",
    "        'objective': 'binary:logistic',\n",
    "    }\n",
    "    num_round = 2\n",
    "    bst = xgb.train(params, dtrain, num_round)\n",
    "    preds = bst.predict(dtest)\n",
    "    preds = [p > 0.5 for p in preds]\n",
    "    accs.append(metrics.accuracy_score(ts.label.values, preds))\n",
    "print(accs)\n",
    "print(np.mean(accs))"
   ]
  },
  {
   "cell_type": "code",
<<<<<<< HEAD
=======
   "execution_count": 108,
   "metadata": {},
   "outputs": [],
   "source": [
    "xgbtr = xgb_in[['label', 'svc', 'rf', 'nb']]"
   ]
  },
  {
   "cell_type": "code",
   "execution_count": 111,
   "metadata": {},
   "outputs": [
    {
     "name": "stdout",
     "output_type": "stream",
     "text": [
      "[14:41:25] 300x3 matrix with 900 entries loaded from tmp/xgb_train.txt\n",
      "[14:41:25] 300x3 matrix with 600 entries loaded from tmp/xgb_test.txt\n"
     ]
    }
   ],
   "source": [
    "to_txt(xgbtr, 'tmp/xgb_train.txt', test=False)\n",
    "to_txt(xgbtr, 'tmp/xgb_test.txt', test=True)\n",
    "dtrain = xgb.DMatrix('tmp/xgb_train.txt')\n",
    "dtest = xgb.DMatrix('tmp/xgb_test.txt')"
   ]
  },
  {
   "cell_type": "code",
   "execution_count": 112,
   "metadata": {},
   "outputs": [],
   "source": [
    "params = {\n",
    "    'max_depth': 3,\n",
    "    'eta': 1,\n",
    "    'objective': 'binary:logistic',\n",
    "}\n",
    "num_round = 2\n",
    "bst = xgb.train(params, dtrain, num_round)"
   ]
  },
  {
   "cell_type": "code",
   "execution_count": 113,
   "metadata": {},
   "outputs": [
    {
     "data": {
      "text/plain": [
       "0.9533333333333334"
      ]
     },
     "execution_count": 113,
     "metadata": {},
     "output_type": "execute_result"
    }
   ],
   "source": [
    "preds = bst.predict(dtrain)\n",
    "preds = [p > 0.5 for p in preds]\n",
    "metrics.accuracy_score(xgb_in.label.values, preds)"
   ]
  },
  {
   "cell_type": "code",
   "execution_count": 118,
   "metadata": {},
   "outputs": [
    {
     "data": {
      "text/plain": [
       "['pan20/fake/bst.model']"
      ]
     },
     "execution_count": 118,
     "metadata": {},
     "output_type": "execute_result"
    }
   ],
   "source": [
    "joblib.dump(bst, 'pan20/fake/bst.model')"
   ]
  },
  {
   "cell_type": "code",
   "execution_count": 116,
   "metadata": {},
   "outputs": [],
   "source": [
    "bst2 = joblib.load('bst.model')"
   ]
  },
  {
   "cell_type": "code",
   "execution_count": 117,
   "metadata": {},
   "outputs": [
    {
     "data": {
      "text/plain": [
       "0.9533333333333334"
      ]
     },
     "execution_count": 117,
     "metadata": {},
     "output_type": "execute_result"
    }
   ],
   "source": [
    "preds = bst2.predict(dtrain)\n",
    "preds = [p > 0.5 for p in preds]\n",
    "metrics.accuracy_score(xgb_in.label.values, preds)"
   ]
  },
  {
   "cell_type": "code",
>>>>>>> 3b703984bbdf70217d4df1c3899a14d3f73da52b
   "execution_count": null,
   "metadata": {},
   "outputs": [],
   "source": []
  }
 ],
 "metadata": {
  "kernelspec": {
   "display_name": "Python 3",
   "language": "python",
   "name": "python3"
  },
  "language_info": {
   "codemirror_mode": {
    "name": "ipython",
    "version": 3
   },
   "file_extension": ".py",
   "mimetype": "text/x-python",
   "name": "python",
   "nbconvert_exporter": "python",
   "pygments_lexer": "ipython3",
   "version": "3.7.3"
  }
 },
 "nbformat": 4,
 "nbformat_minor": 4
}
