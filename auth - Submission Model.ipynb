{
 "cells": [
  {
   "cell_type": "code",
   "execution_count": 1,
   "metadata": {},
   "outputs": [],
   "source": [
    "import random\n",
    "\n",
    "import joblib\n",
    "import numpy as np\n",
    "from sklearn import discriminant_analysis, ensemble, metrics, naive_bayes, svm\n",
    "from tqdm.notebook import tqdm\n",
    "import xgboost as xgb\n",
    "\n",
    "from pan20 import auth\n",
    "from pan20.util import topkfreqs, text\n",
    "from pan20.fake import models"
   ]
  },
  {
   "cell_type": "code",
   "execution_count": 2,
   "metadata": {},
   "outputs": [],
   "source": [
    "X, y = auth.load_small()"
   ]
  },
  {
   "cell_type": "code",
   "execution_count": 3,
   "metadata": {},
   "outputs": [],
   "source": [
    "data = list(zip(X, y))"
   ]
  },
  {
   "cell_type": "code",
   "execution_count": 4,
   "metadata": {},
   "outputs": [],
   "source": [
    "random.shuffle(data)"
   ]
  },
  {
   "cell_type": "code",
   "execution_count": 5,
   "metadata": {},
   "outputs": [],
   "source": [
    "data = data[0:10000]"
   ]
  },
  {
   "cell_type": "code",
   "execution_count": 6,
   "metadata": {},
   "outputs": [],
   "source": [
    "X = [x[0] for x in data]\n",
    "y = [x[1] for x in data]"
   ]
  },
  {
   "cell_type": "code",
   "execution_count": 7,
   "metadata": {},
   "outputs": [],
   "source": [
    "y = np.array([y_['same'] for y_ in y])"
   ]
  },
  {
   "cell_type": "code",
   "execution_count": 8,
   "metadata": {},
   "outputs": [],
   "source": [
    "vz1 = topkfreqs.Vectorizer(k=1024, n=1)\n",
    "vz2 = topkfreqs.Vectorizer(k=2048, n=2)\n",
    "vz3 = topkfreqs.Vectorizer(k=2048, n=3)"
   ]
  },
  {
   "cell_type": "code",
   "execution_count": 9,
   "metadata": {},
   "outputs": [],
   "source": [
    "def get_feats1(x):\n",
    "    d0 = x['pair'][0]\n",
    "    d1 = x['pair'][1]\n",
    "    d0 = text.simple_tokenize(d0)\n",
    "    d1 = text.simple_tokenize(d1)\n",
    "    v0 = vz1(d0)\n",
    "    v1 = vz1(d1)\n",
    "    d = np.abs(v0 - v1)\n",
    "    d = np.expand_dims(d, 0)\n",
    "    return d\n",
    "\n",
    "def get_feats2(x):\n",
    "    d0 = x['pair'][0]\n",
    "    d1 = x['pair'][1]\n",
    "    v0 = vz2(d0)\n",
    "    v1 = vz2(d1)\n",
    "    d = np.abs(v0 - v1)\n",
    "    d = np.expand_dims(d, 0)\n",
    "    return d\n",
    "\n",
    "def get_feats3(x):\n",
    "    d0 = x['pair'][0]\n",
    "    d1 = x['pair'][1]\n",
    "    v0 = vz3(d0)\n",
    "    v1 = vz3(d1)\n",
    "    d = np.abs(v0 - v1)\n",
    "    d = np.expand_dims(d, 0)\n",
    "    return d"
   ]
  },
  {
   "cell_type": "markdown",
   "metadata": {},
   "source": [
    "## Unigrams"
   ]
  },
  {
   "cell_type": "code",
   "execution_count": 10,
   "metadata": {},
   "outputs": [],
   "source": [
    "X1 = np.concatenate([get_feats1(x) for x in X])"
   ]
  },
  {
   "cell_type": "code",
   "execution_count": null,
   "metadata": {},
   "outputs": [],
   "source": [
    "svc1 = svm.SVC(C=1., kernel='rbf', probability=True)\n",
    "svc1.fit(X1, y)\n",
    "metrics.accuracy_score(y, svc1.predict(X1))"
   ]
  },
  {
   "cell_type": "code",
   "execution_count": null,
   "metadata": {},
   "outputs": [],
   "source": [
    "rf1 = ensemble.RandomForestClassifier(n_estimators=200, max_depth=15)\n",
    "rf1.fit(X1, y)\n",
    "metrics.accuracy_score(y, rf1.predict(X1))"
   ]
  },
  {
   "cell_type": "code",
   "execution_count": null,
   "metadata": {},
   "outputs": [],
   "source": [
    "nb1 = naive_bayes.GaussianNB()\n",
    "nb1.fit(X1, y)\n",
    "metrics.accuracy_score(y, nb1.predict(X1))"
   ]
  },
  {
   "cell_type": "code",
   "execution_count": null,
   "metadata": {},
   "outputs": [],
   "source": [
    "joblib.dump(svc1, 'pan20/auth/svc1.model')\n",
    "joblib.dump(rf1, 'pan20/auth/rf1.model')\n",
    "joblib.dump(nb1, 'pan20/auth/nb1.model')"
   ]
  },
  {
   "cell_type": "code",
   "execution_count": null,
   "metadata": {},
   "outputs": [],
   "source": [
    "p_svc1 = models.get_preds(svc1, X1)\n",
    "p_rf1 = models.get_preds(rf1, X1)\n",
    "p_nb1 = models.get_preds(nb1, X1)"
   ]
  },
  {
   "cell_type": "markdown",
   "metadata": {},
   "source": [
    "## Bigrams"
   ]
  },
  {
   "cell_type": "code",
   "execution_count": 42,
   "metadata": {},
   "outputs": [],
   "source": [
    "X2 = np.concatenate([get_feats2(x) for x in X])"
   ]
  },
  {
   "cell_type": "code",
   "execution_count": null,
   "metadata": {},
   "outputs": [],
   "source": [
    "svc2 = svm.SVC(C=1., kernel='rbf', probability=True)\n",
    "svc2.fit(X2, y)\n",
    "metrics.accuracy_score(y, svc2.predict(X2))"
   ]
  },
  {
   "cell_type": "code",
   "execution_count": 44,
   "metadata": {},
   "outputs": [
    {
     "data": {
      "text/plain": [
       "0.5233"
      ]
     },
     "execution_count": 44,
     "metadata": {},
     "output_type": "execute_result"
    }
   ],
   "source": [
    "rf2 = ensemble.RandomForestClassifier(n_estimators=200, max_depth=15)\n",
    "rf2.fit(X2, y)\n",
    "metrics.accuracy_score(y, rf2.predict(X2))"
   ]
  },
  {
   "cell_type": "code",
   "execution_count": 43,
   "metadata": {},
   "outputs": [
    {
     "name": "stderr",
     "output_type": "stream",
     "text": [
      "/home/hanshan/anaconda3/envs/pan20/lib/python3.7/site-packages/sklearn/naive_bayes.py:450: RuntimeWarning: divide by zero encountered in log\n",
      "  n_ij = - 0.5 * np.sum(np.log(2. * np.pi * self.sigma_[i, :]))\n",
      "/home/hanshan/anaconda3/envs/pan20/lib/python3.7/site-packages/sklearn/naive_bayes.py:452: RuntimeWarning: invalid value encountered in true_divide\n",
      "  (self.sigma_[i, :]), 1)\n"
     ]
    },
    {
     "data": {
      "text/plain": [
       "0.4767"
      ]
     },
     "execution_count": 43,
     "metadata": {},
     "output_type": "execute_result"
    }
   ],
   "source": [
    "nb2 = naive_bayes.GaussianNB()\n",
    "nb2.fit(X2, y)\n",
    "metrics.accuracy_score(y, nb2.predict(X2))"
   ]
  },
  {
   "cell_type": "code",
   "execution_count": null,
   "metadata": {},
   "outputs": [],
   "source": [
    "joblib.dump(svc2, 'pan20/auth/svc2.model')\n",
    "joblib.dump(rf2, 'pan20/auth/rf2.model')\n",
    "joblib.dump(nb2, 'pan20/auth/nb2.model')"
   ]
  },
  {
   "cell_type": "code",
   "execution_count": null,
   "metadata": {},
   "outputs": [],
   "source": []
  },
  {
   "cell_type": "markdown",
   "metadata": {},
   "source": [
    "## Trigrams"
   ]
  },
  {
   "cell_type": "code",
   "execution_count": null,
   "metadata": {},
   "outputs": [],
   "source": []
  },
  {
   "cell_type": "code",
   "execution_count": null,
   "metadata": {},
   "outputs": [],
   "source": []
  },
  {
   "cell_type": "code",
   "execution_count": null,
   "metadata": {},
   "outputs": [],
   "source": []
  },
  {
   "cell_type": "code",
   "execution_count": 4,
   "metadata": {},
   "outputs": [],
   "source": [
    "def get_feats(x):\n",
    "    d0 = x['pair'][0]\n",
    "    d1 = x['pair'][1]\n",
    "    v01 = vz1(d0)\n",
    "    v02 = vz2(d0)\n",
    "    v11 = vz1(d1)\n",
    "    v12 = vz2(d1)\n",
    "    d1 = np.abs(v01 - v11)\n",
    "    d2 = np.abs(v02 - v12)\n",
    "    d = np.concatenate([d1, d2], axis=0)\n",
    "    d = np.expand_dims(d, 0)\n",
    "    return d"
   ]
  },
  {
   "cell_type": "code",
   "execution_count": 5,
   "metadata": {},
   "outputs": [
    {
     "data": {
      "application/vnd.jupyter.widget-view+json": {
       "model_id": "e4036e6288294d41afbe40624168ecc8",
       "version_major": 2,
       "version_minor": 0
      },
      "text/plain": [
       "HBox(children=(FloatProgress(value=0.0, max=52601.0), HTML(value='')))"
      ]
     },
     "metadata": {},
     "output_type": "display_data"
    },
    {
     "name": "stdout",
     "output_type": "stream",
     "text": [
      "\n"
     ]
    }
   ],
   "source": [
    "# get vector for X\n",
    "feats = []\n",
    "with tqdm(total=len(X)) as pbar:\n",
    "    for x in X:\n",
    "        feats.append(get_feats(x))\n",
    "        pbar.update()\n",
    "X = np.concatenate(feats, axis=0)\n",
    "y = np.array([y_['same'] for y_ in y])"
   ]
  },
  {
   "cell_type": "code",
   "execution_count": 6,
   "metadata": {},
   "outputs": [],
   "source": [
    "np.save('data/auth/X.npy', X)"
   ]
  },
  {
   "cell_type": "code",
   "execution_count": 7,
   "metadata": {},
   "outputs": [],
   "source": [
    "np.save('data/auth/y.npy', y)"
   ]
  },
  {
   "cell_type": "code",
   "execution_count": 8,
   "metadata": {},
   "outputs": [
    {
     "data": {
      "text/plain": [
       "(52601, 3072)"
      ]
     },
     "execution_count": 8,
     "metadata": {},
     "output_type": "execute_result"
    }
   ],
   "source": [
    "X.shape"
   ]
  },
  {
   "cell_type": "code",
   "execution_count": 9,
   "metadata": {},
   "outputs": [],
   "source": [
    "svc = svm.SVC(C=1., kernel='rbf', probability=True)\n",
    "rf = ensemble.RandomForestClassifier(n_estimators=200, max_depth=15)\n",
    "nb = naive_bayes.GaussianNB()\n",
    "lda = discriminant_analysis.LinearDiscriminantAnalysis(solver='eigen')"
   ]
  },
  {
   "cell_type": "code",
   "execution_count": null,
   "metadata": {},
   "outputs": [],
   "source": [
    "svc.fit(X, y)  # 16:32"
   ]
  },
  {
   "cell_type": "code",
   "execution_count": null,
   "metadata": {},
   "outputs": [],
   "source": [
    "metrics.accuracy_score(y, svc.predict(X))"
   ]
  },
  {
   "cell_type": "code",
   "execution_count": null,
   "metadata": {},
   "outputs": [],
   "source": []
  },
  {
   "cell_type": "code",
   "execution_count": null,
   "metadata": {},
   "outputs": [],
   "source": [
    "rf.fit(X, y)\n",
    "metrics.accuracy_score(y, )"
   ]
  },
  {
   "cell_type": "code",
   "execution_count": 10,
   "metadata": {},
   "outputs": [
    {
     "data": {
      "text/plain": [
       "GaussianNB(priors=None, var_smoothing=1e-09)"
      ]
     },
     "execution_count": 10,
     "metadata": {},
     "output_type": "execute_result"
    }
   ],
   "source": [
    "nb.fit(X, y)"
   ]
  },
  {
   "cell_type": "code",
   "execution_count": 11,
   "metadata": {},
   "outputs": [
    {
     "data": {
      "text/plain": [
       "0.6308435200851695"
      ]
     },
     "execution_count": 11,
     "metadata": {},
     "output_type": "execute_result"
    }
   ],
   "source": [
    "metrics.accuracy_score(y, nb.predict(X))"
   ]
  },
  {
   "cell_type": "code",
   "execution_count": 12,
   "metadata": {},
   "outputs": [
    {
     "ename": "LinAlgError",
     "evalue": "the leading minor of order 9 of 'b' is not positive definite. The factorization of 'b' could not be completed and no eigenvalues or eigenvectors were computed.",
     "output_type": "error",
     "traceback": [
      "\u001b[0;31m---------------------------------------------------------------------------\u001b[0m",
      "\u001b[0;31mLinAlgError\u001b[0m                               Traceback (most recent call last)",
      "\u001b[0;32m<ipython-input-12-17c06cbf7334>\u001b[0m in \u001b[0;36m<module>\u001b[0;34m\u001b[0m\n\u001b[0;32m----> 1\u001b[0;31m \u001b[0mlda\u001b[0m\u001b[0;34m.\u001b[0m\u001b[0mfit\u001b[0m\u001b[0;34m(\u001b[0m\u001b[0mX\u001b[0m\u001b[0;34m,\u001b[0m \u001b[0my\u001b[0m\u001b[0;34m)\u001b[0m\u001b[0;34m\u001b[0m\u001b[0;34m\u001b[0m\u001b[0m\n\u001b[0m",
      "\u001b[0;32m~/anaconda3/envs/pan20/lib/python3.7/site-packages/sklearn/discriminant_analysis.py\u001b[0m in \u001b[0;36mfit\u001b[0;34m(self, X, y)\u001b[0m\n\u001b[1;32m    479\u001b[0m             \u001b[0mself\u001b[0m\u001b[0;34m.\u001b[0m\u001b[0m_solve_lsqr\u001b[0m\u001b[0;34m(\u001b[0m\u001b[0mX\u001b[0m\u001b[0;34m,\u001b[0m \u001b[0my\u001b[0m\u001b[0;34m,\u001b[0m \u001b[0mshrinkage\u001b[0m\u001b[0;34m=\u001b[0m\u001b[0mself\u001b[0m\u001b[0;34m.\u001b[0m\u001b[0mshrinkage\u001b[0m\u001b[0;34m)\u001b[0m\u001b[0;34m\u001b[0m\u001b[0;34m\u001b[0m\u001b[0m\n\u001b[1;32m    480\u001b[0m         \u001b[0;32melif\u001b[0m \u001b[0mself\u001b[0m\u001b[0;34m.\u001b[0m\u001b[0msolver\u001b[0m \u001b[0;34m==\u001b[0m \u001b[0;34m'eigen'\u001b[0m\u001b[0;34m:\u001b[0m\u001b[0;34m\u001b[0m\u001b[0;34m\u001b[0m\u001b[0m\n\u001b[0;32m--> 481\u001b[0;31m             \u001b[0mself\u001b[0m\u001b[0;34m.\u001b[0m\u001b[0m_solve_eigen\u001b[0m\u001b[0;34m(\u001b[0m\u001b[0mX\u001b[0m\u001b[0;34m,\u001b[0m \u001b[0my\u001b[0m\u001b[0;34m,\u001b[0m \u001b[0mshrinkage\u001b[0m\u001b[0;34m=\u001b[0m\u001b[0mself\u001b[0m\u001b[0;34m.\u001b[0m\u001b[0mshrinkage\u001b[0m\u001b[0;34m)\u001b[0m\u001b[0;34m\u001b[0m\u001b[0;34m\u001b[0m\u001b[0m\n\u001b[0m\u001b[1;32m    482\u001b[0m         \u001b[0;32melse\u001b[0m\u001b[0;34m:\u001b[0m\u001b[0;34m\u001b[0m\u001b[0;34m\u001b[0m\u001b[0m\n\u001b[1;32m    483\u001b[0m             raise ValueError(\"unknown solver {} (valid solvers are 'svd', \"\n",
      "\u001b[0;32m~/anaconda3/envs/pan20/lib/python3.7/site-packages/sklearn/discriminant_analysis.py\u001b[0m in \u001b[0;36m_solve_eigen\u001b[0;34m(self, X, y, shrinkage)\u001b[0m\n\u001b[1;32m    335\u001b[0m         \u001b[0mSb\u001b[0m \u001b[0;34m=\u001b[0m \u001b[0mSt\u001b[0m \u001b[0;34m-\u001b[0m \u001b[0mSw\u001b[0m  \u001b[0;31m# between scatter\u001b[0m\u001b[0;34m\u001b[0m\u001b[0;34m\u001b[0m\u001b[0m\n\u001b[1;32m    336\u001b[0m \u001b[0;34m\u001b[0m\u001b[0m\n\u001b[0;32m--> 337\u001b[0;31m         \u001b[0mevals\u001b[0m\u001b[0;34m,\u001b[0m \u001b[0mevecs\u001b[0m \u001b[0;34m=\u001b[0m \u001b[0mlinalg\u001b[0m\u001b[0;34m.\u001b[0m\u001b[0meigh\u001b[0m\u001b[0;34m(\u001b[0m\u001b[0mSb\u001b[0m\u001b[0;34m,\u001b[0m \u001b[0mSw\u001b[0m\u001b[0;34m)\u001b[0m\u001b[0;34m\u001b[0m\u001b[0;34m\u001b[0m\u001b[0m\n\u001b[0m\u001b[1;32m    338\u001b[0m         self.explained_variance_ratio_ = np.sort(evals / np.sum(evals)\n\u001b[1;32m    339\u001b[0m                                                  )[::-1][:self._max_components]\n",
      "\u001b[0;32m~/anaconda3/envs/pan20/lib/python3.7/site-packages/scipy/linalg/decomp.py\u001b[0m in \u001b[0;36meigh\u001b[0;34m(a, b, lower, eigvals_only, overwrite_a, overwrite_b, turbo, eigvals, type, check_finite)\u001b[0m\n\u001b[1;32m    491\u001b[0m                           \u001b[0;34m\" factorization of 'b' could not be completed\"\u001b[0m\u001b[0;34m\u001b[0m\u001b[0;34m\u001b[0m\u001b[0m\n\u001b[1;32m    492\u001b[0m                           \u001b[0;34m\" and no eigenvalues or eigenvectors were\"\u001b[0m\u001b[0;34m\u001b[0m\u001b[0;34m\u001b[0m\u001b[0m\n\u001b[0;32m--> 493\u001b[0;31m                           \" computed.\" % (info-b1.shape[0]))\n\u001b[0m\u001b[1;32m    494\u001b[0m \u001b[0;34m\u001b[0m\u001b[0m\n\u001b[1;32m    495\u001b[0m \u001b[0;34m\u001b[0m\u001b[0m\n",
      "\u001b[0;31mLinAlgError\u001b[0m: the leading minor of order 9 of 'b' is not positive definite. The factorization of 'b' could not be completed and no eigenvalues or eigenvectors were computed."
     ]
    }
   ],
   "source": [
    "lda.fit(X, y)"
   ]
  },
  {
   "cell_type": "code",
   "execution_count": null,
   "metadata": {},
   "outputs": [],
   "source": [
    "metrics.accuracy_score(y, lda.predict(X))"
   ]
  },
  {
   "cell_type": "code",
   "execution_count": null,
   "metadata": {},
   "outputs": [],
   "source": []
  }
 ],
 "metadata": {
  "kernelspec": {
   "display_name": "pan20",
   "language": "python",
   "name": "pan20"
  },
  "language_info": {
   "codemirror_mode": {
    "name": "ipython",
    "version": 3
   },
   "file_extension": ".py",
   "mimetype": "text/x-python",
   "name": "python",
   "nbconvert_exporter": "python",
   "pygments_lexer": "ipython3",
   "version": "3.7.7"
  }
 },
 "nbformat": 4,
 "nbformat_minor": 4
}
