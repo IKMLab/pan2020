{
 "cells": [
  {
   "cell_type": "code",
   "execution_count": 32,
   "metadata": {},
   "outputs": [],
   "source": [
    "import random\n",
    "\n",
    "import joblib\n",
    "import numpy as np\n",
    "import pandas as pd\n",
    "from sklearn import discriminant_analysis, ensemble, metrics, model_selection, naive_bayes, svm\n",
    "from tqdm.notebook import tqdm\n",
    "import xgboost as xgb\n",
    "\n",
    "from pan20 import auth\n",
    "from pan20.util import topkfreqs, text\n",
    "from pan20.fake import models"
   ]
  },
  {
   "cell_type": "code",
   "execution_count": 2,
   "metadata": {},
   "outputs": [],
   "source": [
    "X, y = auth.load_small()"
   ]
  },
  {
   "cell_type": "code",
   "execution_count": 3,
   "metadata": {},
   "outputs": [],
   "source": [
    "data = list(zip(X, y))"
   ]
  },
  {
   "cell_type": "code",
   "execution_count": 4,
   "metadata": {},
   "outputs": [],
   "source": [
    "random.shuffle(data)"
   ]
  },
  {
   "cell_type": "code",
   "execution_count": 5,
   "metadata": {},
   "outputs": [],
   "source": [
    "data = data[0:10000]"
   ]
  },
  {
   "cell_type": "code",
   "execution_count": 6,
   "metadata": {},
   "outputs": [],
   "source": [
    "X = [x[0] for x in data]\n",
    "y = [x[1] for x in data]"
   ]
  },
  {
   "cell_type": "code",
   "execution_count": 7,
   "metadata": {},
   "outputs": [],
   "source": [
    "y = np.array([y_['same'] for y_ in y])"
   ]
  },
  {
   "cell_type": "code",
   "execution_count": 8,
   "metadata": {},
   "outputs": [],
   "source": [
    "vz1 = topkfreqs.Vectorizer(k=1024, n=1)\n",
    "vz2 = topkfreqs.Vectorizer(k=2048, n=2)\n",
    "vz3 = topkfreqs.Vectorizer(k=2048, n=3)"
   ]
  },
  {
   "cell_type": "code",
   "execution_count": 16,
   "metadata": {},
   "outputs": [],
   "source": [
    "def get_feats1(x):\n",
    "    d0 = x['pair'][0]\n",
    "    d1 = x['pair'][1]\n",
    "    d0 = text.simple_tokenize(d0)\n",
    "    d1 = text.simple_tokenize(d1)\n",
    "    v0 = vz1(d0)\n",
    "    v1 = vz1(d1)\n",
    "    d = np.abs(v0 - v1)\n",
    "    d = np.expand_dims(d, 0)\n",
    "    return d\n",
    "\n",
    "def get_feats2(x):\n",
    "    d0 = x['pair'][0]\n",
    "    d1 = x['pair'][1]\n",
    "    d0 = text.simple_tokenize(d0, n=2)\n",
    "    d1 = text.simple_tokenize(d1, n=2)\n",
    "    v0 = vz2(d0)\n",
    "    v1 = vz2(d1)\n",
    "    d = np.abs(v0 - v1)\n",
    "    d = np.expand_dims(d, 0)\n",
    "    return d\n",
    "\n",
    "def get_feats3(x):\n",
    "    d0 = x['pair'][0]\n",
    "    d1 = x['pair'][1]\n",
    "    v0 = vz3(d0)\n",
    "    v1 = vz3(d1)\n",
    "    d = np.abs(v0 - v1)\n",
    "    d = np.expand_dims(d, 0)\n",
    "    return d"
   ]
  },
  {
   "cell_type": "markdown",
   "metadata": {},
   "source": [
    "## Unigrams"
   ]
  },
  {
   "cell_type": "code",
   "execution_count": 10,
   "metadata": {},
   "outputs": [],
   "source": [
    "X1 = np.concatenate([get_feats1(x) for x in X])"
   ]
  },
  {
   "cell_type": "code",
   "execution_count": 11,
   "metadata": {},
   "outputs": [
    {
     "data": {
      "text/plain": [
       "0.8799"
      ]
     },
     "execution_count": 11,
     "metadata": {},
     "output_type": "execute_result"
    }
   ],
   "source": [
    "svc1 = svm.SVC(C=1., kernel='rbf', probability=True)\n",
    "svc1.fit(X1, y)\n",
    "metrics.accuracy_score(y, svc1.predict(X1))"
   ]
  },
  {
   "cell_type": "code",
   "execution_count": 12,
   "metadata": {},
   "outputs": [
    {
     "data": {
      "text/plain": [
       "1.0"
      ]
     },
     "execution_count": 12,
     "metadata": {},
     "output_type": "execute_result"
    }
   ],
   "source": [
    "rf1 = ensemble.RandomForestClassifier(n_estimators=200, max_depth=15)\n",
    "rf1.fit(X1, y)\n",
    "metrics.accuracy_score(y, rf1.predict(X1))"
   ]
  },
  {
   "cell_type": "code",
   "execution_count": 13,
   "metadata": {},
   "outputs": [
    {
     "data": {
      "text/plain": [
       "0.7057"
      ]
     },
     "execution_count": 13,
     "metadata": {},
     "output_type": "execute_result"
    }
   ],
   "source": [
    "nb1 = naive_bayes.GaussianNB()\n",
    "nb1.fit(X1, y)\n",
    "metrics.accuracy_score(y, nb1.predict(X1))"
   ]
  },
  {
   "cell_type": "code",
   "execution_count": null,
   "metadata": {},
   "outputs": [],
   "source": [
    "lda1 = discriminant_analysis.LinearDiscriminantAnalysis(solver='eigen')\n",
    "lda1.fit(X1, y)\n",
    "metrics.accuracy_score(y, lda1.predict(X1))"
   ]
  },
  {
   "cell_type": "code",
   "execution_count": null,
   "metadata": {},
   "outputs": [],
   "source": [
    "joblib.dump(svc1, 'pan20/auth/svc1.model')\n",
    "joblib.dump(rf1, 'pan20/auth/rf1.model')\n",
    "joblib.dump(nb1, 'pan20/auth/nb1.model')\n",
    "#joblib.dump(lda1, 'pan20/auth/lda1.model')"
   ]
  },
  {
   "cell_type": "code",
   "execution_count": 15,
   "metadata": {},
   "outputs": [],
   "source": [
    "p_svc1 = models.get_preds(svc1, X1)\n",
    "p_rf1 = models.get_preds(rf1, X1)\n",
    "p_nb1 = models.get_preds(nb1, X1)"
   ]
  },
  {
   "cell_type": "code",
   "execution_count": null,
   "metadata": {},
   "outputs": [],
   "source": [
    "#p_lda1 = models.get_preds(lda1, X1)"
   ]
  },
  {
   "cell_type": "markdown",
   "metadata": {},
   "source": [
    "## Bigrams"
   ]
  },
  {
   "cell_type": "code",
   "execution_count": 17,
   "metadata": {},
   "outputs": [],
   "source": [
    "X2 = np.concatenate([get_feats2(x) for x in X])"
   ]
  },
  {
   "cell_type": "code",
   "execution_count": 18,
   "metadata": {},
   "outputs": [
    {
     "data": {
      "text/plain": [
       "0.8843"
      ]
     },
     "execution_count": 18,
     "metadata": {},
     "output_type": "execute_result"
    }
   ],
   "source": [
    "svc2 = svm.SVC(C=1., kernel='rbf', probability=True)\n",
    "svc2.fit(X2, y)\n",
    "metrics.accuracy_score(y, svc2.predict(X2))"
   ]
  },
  {
   "cell_type": "code",
   "execution_count": 19,
   "metadata": {},
   "outputs": [
    {
     "data": {
      "text/plain": [
       "1.0"
      ]
     },
     "execution_count": 19,
     "metadata": {},
     "output_type": "execute_result"
    }
   ],
   "source": [
    "rf2 = ensemble.RandomForestClassifier(n_estimators=200, max_depth=15)\n",
    "rf2.fit(X2, y)\n",
    "metrics.accuracy_score(y, rf2.predict(X2))"
   ]
  },
  {
   "cell_type": "code",
   "execution_count": 20,
   "metadata": {},
   "outputs": [
    {
     "data": {
      "text/plain": [
       "0.6023"
      ]
     },
     "execution_count": 20,
     "metadata": {},
     "output_type": "execute_result"
    }
   ],
   "source": [
    "nb2 = naive_bayes.GaussianNB()\n",
    "nb2.fit(X2, y)\n",
    "metrics.accuracy_score(y, nb2.predict(X2))"
   ]
  },
  {
   "cell_type": "code",
   "execution_count": null,
   "metadata": {},
   "outputs": [],
   "source": [
    "lda2 = discriminant_analysis.LinearDiscriminantAnalysis(solver='eigen')\n",
    "lda2.fit(X2, y)\n",
    "metrics.accuracy_score(y, lda2.predict(X2))"
   ]
  },
  {
   "cell_type": "code",
   "execution_count": null,
   "metadata": {},
   "outputs": [],
   "source": [
    "joblib.dump(svc2, 'pan20/auth/svc2.model')\n",
    "joblib.dump(rf2, 'pan20/auth/rf2.model')\n",
    "joblib.dump(nb2, 'pan20/auth/nb2.model')\n",
    "#joblib.dump(lda2, 'pan20/auth/lda2.model')"
   ]
  },
  {
   "cell_type": "code",
   "execution_count": null,
   "metadata": {},
   "outputs": [],
   "source": [
    "p_svc2 = models.get_preds(svc2, X2)\n",
    "p_rf2 = models.get_preds(rf2, X2)\n",
    "p_nb2 = models.get_preds(nb2, X2)\n",
    "#p_lda2 = models.get_preds(lda2, X2)"
   ]
  },
  {
   "cell_type": "markdown",
   "metadata": {},
   "source": [
    "### XGBoost"
   ]
  },
  {
   "cell_type": "code",
   "execution_count": 29,
   "metadata": {},
   "outputs": [],
   "source": [
    "x_in = pd.DataFrame({\n",
    "    'label': y,\n",
    "    'svc1': p_svc1,\n",
    "    'rf1': p_rf1,\n",
    "    'nb1': p_nb1,\n",
    "    'svc2': p_svc2,\n",
    "    'rf2': p_rf2,\n",
    "    'nb2': p_nb2,\n",
    "})"
   ]
  },
  {
   "cell_type": "code",
   "execution_count": 38,
   "metadata": {},
   "outputs": [
    {
     "data": {
      "text/html": [
       "<div>\n",
       "<style scoped>\n",
       "    .dataframe tbody tr th:only-of-type {\n",
       "        vertical-align: middle;\n",
       "    }\n",
       "\n",
       "    .dataframe tbody tr th {\n",
       "        vertical-align: top;\n",
       "    }\n",
       "\n",
       "    .dataframe thead th {\n",
       "        text-align: right;\n",
       "    }\n",
       "</style>\n",
       "<table border=\"1\" class=\"dataframe\">\n",
       "  <thead>\n",
       "    <tr style=\"text-align: right;\">\n",
       "      <th></th>\n",
       "      <th>label</th>\n",
       "      <th>svc1</th>\n",
       "      <th>rf1</th>\n",
       "      <th>nb1</th>\n",
       "      <th>svc2</th>\n",
       "      <th>rf2</th>\n",
       "      <th>nb2</th>\n",
       "    </tr>\n",
       "  </thead>\n",
       "  <tbody>\n",
       "    <tr>\n",
       "      <th>0</th>\n",
       "      <td>True</td>\n",
       "      <td>0.573122</td>\n",
       "      <td>0.822132</td>\n",
       "      <td>9.999971e-01</td>\n",
       "      <td>0.575577</td>\n",
       "      <td>0.746626</td>\n",
       "      <td>1.000000e+00</td>\n",
       "    </tr>\n",
       "    <tr>\n",
       "      <th>1</th>\n",
       "      <td>False</td>\n",
       "      <td>0.044934</td>\n",
       "      <td>0.099680</td>\n",
       "      <td>4.646370e-24</td>\n",
       "      <td>0.063139</td>\n",
       "      <td>0.181055</td>\n",
       "      <td>1.000000e+00</td>\n",
       "    </tr>\n",
       "    <tr>\n",
       "      <th>2</th>\n",
       "      <td>True</td>\n",
       "      <td>0.981972</td>\n",
       "      <td>0.827597</td>\n",
       "      <td>1.000000e+00</td>\n",
       "      <td>0.888151</td>\n",
       "      <td>0.800154</td>\n",
       "      <td>1.000000e+00</td>\n",
       "    </tr>\n",
       "    <tr>\n",
       "      <th>3</th>\n",
       "      <td>True</td>\n",
       "      <td>0.926003</td>\n",
       "      <td>0.836402</td>\n",
       "      <td>1.000000e+00</td>\n",
       "      <td>0.887176</td>\n",
       "      <td>0.773269</td>\n",
       "      <td>1.000000e+00</td>\n",
       "    </tr>\n",
       "    <tr>\n",
       "      <th>4</th>\n",
       "      <td>False</td>\n",
       "      <td>0.158100</td>\n",
       "      <td>0.230936</td>\n",
       "      <td>4.934542e-26</td>\n",
       "      <td>0.108087</td>\n",
       "      <td>0.224703</td>\n",
       "      <td>3.247435e-108</td>\n",
       "    </tr>\n",
       "  </tbody>\n",
       "</table>\n",
       "</div>"
      ],
      "text/plain": [
       "   label      svc1       rf1           nb1      svc2       rf2            nb2\n",
       "0   True  0.573122  0.822132  9.999971e-01  0.575577  0.746626   1.000000e+00\n",
       "1  False  0.044934  0.099680  4.646370e-24  0.063139  0.181055   1.000000e+00\n",
       "2   True  0.981972  0.827597  1.000000e+00  0.888151  0.800154   1.000000e+00\n",
       "3   True  0.926003  0.836402  1.000000e+00  0.887176  0.773269   1.000000e+00\n",
       "4  False  0.158100  0.230936  4.934542e-26  0.108087  0.224703  3.247435e-108"
      ]
     },
     "execution_count": 38,
     "metadata": {},
     "output_type": "execute_result"
    }
   ],
   "source": [
    "x_in.head()"
   ]
  },
  {
   "cell_type": "code",
   "execution_count": 52,
   "metadata": {},
   "outputs": [],
   "source": [
    "def to_txt(feats, file_path, test=False):\n",
    "    with open(file_path, 'w+') as f:\n",
    "        for _, x in feats.iterrows():\n",
    "            if not test:\n",
    "                row = f'{int(x.label)} 0:{x.svc1} 1:{x.rf1} 2:{x.nb1} 3:{x.svc2} 4:{x.rf2} 5:{x.nb2}\\n'\n",
    "            else:\n",
    "                row = f'0:{x.svc1} 1:{x.rf1} 2:{x.nb1} 3:{x.svc2} 4:{x.rf2} 5:{x.nb2}\\n'\n",
    "            f.write(row)"
   ]
  },
  {
   "cell_type": "code",
   "execution_count": 53,
   "metadata": {},
   "outputs": [
    {
     "name": "stdout",
     "output_type": "stream",
     "text": [
      "[19:05:10] 8000x6 matrix with 48000 entries loaded from tmp/xgb_train.txt\n",
      "[19:05:10] 2000x6 matrix with 10000 entries loaded from tmp/xgb_test.txt\n",
      "[0.74339575 0.25662777 0.74339575 ... 0.74339575 0.25662777 0.25662777]\n",
      "[19:05:11] 8000x6 matrix with 48000 entries loaded from tmp/xgb_train.txt\n",
      "[19:05:11] 2000x6 matrix with 10000 entries loaded from tmp/xgb_test.txt\n",
      "[0.74339575 0.74339575 0.74339575 ... 0.74339575 0.74339575 0.74339575]\n",
      "[19:05:13] 8000x6 matrix with 48000 entries loaded from tmp/xgb_train.txt\n",
      "[19:05:13] 2000x6 matrix with 10000 entries loaded from tmp/xgb_test.txt\n",
      "[0.25662777 0.25662777 0.25662777 ... 0.74339575 0.74339575 0.74339575]\n",
      "[19:05:14] 8000x6 matrix with 48000 entries loaded from tmp/xgb_train.txt\n",
      "[19:05:14] 2000x6 matrix with 10000 entries loaded from tmp/xgb_test.txt\n",
      "[0.25662777 0.25662777 0.25662777 ... 0.74339575 0.74339575 0.74339575]\n",
      "[19:05:16] 8000x6 matrix with 48000 entries loaded from tmp/xgb_train.txt\n",
      "[19:05:16] 2000x6 matrix with 10000 entries loaded from tmp/xgb_test.txt\n",
      "[0.25662777 0.25662777 0.25662777 ... 0.74339575 0.74339575 0.74339575]\n",
      "[1.0, 1.0, 1.0, 1.0, 1.0]\n",
      "1.0\n"
     ]
    }
   ],
   "source": [
    "accs = []\n",
    "skf = model_selection.StratifiedKFold(n_splits=5)\n",
    "for tr_ix, ts_ix in skf.split(range(len(x_in)), y):\n",
    "    tr = x_in.iloc[tr_ix]\n",
    "    ts = x_in.iloc[ts_ix]\n",
    "    to_txt(tr, 'tmp/xgb_train.txt')\n",
    "    to_txt(ts, 'tmp/xgb_test.txt', test=True)\n",
    "    dtrain = xgb.DMatrix('tmp/xgb_train.txt')\n",
    "    dtest = xgb.DMatrix('tmp/xgb_test.txt')\n",
    "    params = {\n",
    "        'max_depth': 3,\n",
    "        'eta': 0.3,\n",
    "        'objective': 'binary:logistic',\n",
    "    }\n",
    "    num_round = 2\n",
    "    bst = xgb.train(params, dtrain, num_round)\n",
    "    preds = bst.predict(dtest)\n",
    "    preds = [p > 0.5 for p in preds]\n",
    "    accs.append(metrics.accuracy_score(ts.label.values, preds))\n",
    "print(accs)\n",
    "print(np.mean(accs))"
   ]
  },
  {
   "cell_type": "code",
   "execution_count": 64,
   "metadata": {},
   "outputs": [
    {
     "name": "stdout",
     "output_type": "stream",
     "text": [
      "[19:09:40] 10000x6 matrix with 60000 entries loaded from tmp/xgb_train.txt\n",
      "[19:09:40] 10000x6 matrix with 50000 entries loaded from tmp/xgb_test.txt\n"
     ]
    }
   ],
   "source": [
    "to_txt(x_in, 'tmp/xgb_train.txt', test=False)\n",
    "to_txt(x_in, 'tmp/xgb_test.txt', test=True)\n",
    "dtrain = xgb.DMatrix('tmp/xgb_train.txt')\n",
    "dtest = xgb.DMatrix('tmp/xgb_test.txt')"
   ]
  },
  {
   "cell_type": "code",
   "execution_count": 65,
   "metadata": {},
   "outputs": [],
   "source": [
    "params = {\n",
    "    'max_depth': 3,\n",
    "    'eta': 0.3,\n",
    "    'objective': 'binary:logistic',\n",
    "}\n",
    "num_round = 2\n",
    "bst = xgb.train(params, dtrain, num_round)"
   ]
  },
  {
   "cell_type": "code",
   "execution_count": 66,
   "metadata": {},
   "outputs": [
    {
     "data": {
      "text/plain": [
       "1.0"
      ]
     },
     "execution_count": 66,
     "metadata": {},
     "output_type": "execute_result"
    }
   ],
   "source": [
    "preds = bst.predict(dtest)\n",
    "preds = [p > 0.5 for p in preds]\n",
    "metrics.accuracy_score(x_in.label.values, preds)"
   ]
  },
  {
   "cell_type": "code",
   "execution_count": 67,
   "metadata": {},
   "outputs": [
    {
     "data": {
      "text/plain": [
       "['pan20/auth/bst.model']"
      ]
     },
     "execution_count": 67,
     "metadata": {},
     "output_type": "execute_result"
    }
   ],
   "source": [
    "joblib.dump(bst, 'pan20/auth/bst.model')"
   ]
  },
  {
   "cell_type": "code",
   "execution_count": null,
   "metadata": {},
   "outputs": [],
   "source": []
  },
  {
   "cell_type": "code",
   "execution_count": null,
   "metadata": {},
   "outputs": [],
   "source": []
  },
  {
   "cell_type": "markdown",
   "metadata": {},
   "source": [
    "## Trigrams"
   ]
  },
  {
   "cell_type": "code",
   "execution_count": null,
   "metadata": {},
   "outputs": [],
   "source": []
  },
  {
   "cell_type": "code",
   "execution_count": null,
   "metadata": {},
   "outputs": [],
   "source": []
  },
  {
   "cell_type": "code",
   "execution_count": null,
   "metadata": {},
   "outputs": [],
   "source": []
  },
  {
   "cell_type": "code",
   "execution_count": 4,
   "metadata": {},
   "outputs": [],
   "source": [
    "def get_feats(x):\n",
    "    d0 = x['pair'][0]\n",
    "    d1 = x['pair'][1]\n",
    "    v01 = vz1(d0)\n",
    "    v02 = vz2(d0)\n",
    "    v11 = vz1(d1)\n",
    "    v12 = vz2(d1)\n",
    "    d1 = np.abs(v01 - v11)\n",
    "    d2 = np.abs(v02 - v12)\n",
    "    d = np.concatenate([d1, d2], axis=0)\n",
    "    d = np.expand_dims(d, 0)\n",
    "    return d"
   ]
  },
  {
   "cell_type": "code",
   "execution_count": 5,
   "metadata": {},
   "outputs": [
    {
     "data": {
      "application/vnd.jupyter.widget-view+json": {
       "model_id": "e4036e6288294d41afbe40624168ecc8",
       "version_major": 2,
       "version_minor": 0
      },
      "text/plain": [
       "HBox(children=(FloatProgress(value=0.0, max=52601.0), HTML(value='')))"
      ]
     },
     "metadata": {},
     "output_type": "display_data"
    },
    {
     "name": "stdout",
     "output_type": "stream",
     "text": [
      "\n"
     ]
    }
   ],
   "source": [
    "# get vector for X\n",
    "feats = []\n",
    "with tqdm(total=len(X)) as pbar:\n",
    "    for x in X:\n",
    "        feats.append(get_feats(x))\n",
    "        pbar.update()\n",
    "X = np.concatenate(feats, axis=0)\n",
    "y = np.array([y_['same'] for y_ in y])"
   ]
  },
  {
   "cell_type": "code",
   "execution_count": 6,
   "metadata": {},
   "outputs": [],
   "source": [
    "np.save('data/auth/X.npy', X)"
   ]
  },
  {
   "cell_type": "code",
   "execution_count": 7,
   "metadata": {},
   "outputs": [],
   "source": [
    "np.save('data/auth/y.npy', y)"
   ]
  },
  {
   "cell_type": "code",
   "execution_count": 8,
   "metadata": {},
   "outputs": [
    {
     "data": {
      "text/plain": [
       "(52601, 3072)"
      ]
     },
     "execution_count": 8,
     "metadata": {},
     "output_type": "execute_result"
    }
   ],
   "source": [
    "X.shape"
   ]
  },
  {
   "cell_type": "code",
   "execution_count": 9,
   "metadata": {},
   "outputs": [],
   "source": [
    "svc = svm.SVC(C=1., kernel='rbf', probability=True)\n",
    "rf = ensemble.RandomForestClassifier(n_estimators=200, max_depth=15)\n",
    "nb = naive_bayes.GaussianNB()\n",
    "lda = discriminant_analysis.LinearDiscriminantAnalysis(solver='eigen')"
   ]
  },
  {
   "cell_type": "code",
   "execution_count": null,
   "metadata": {},
   "outputs": [],
   "source": [
    "svc.fit(X, y)  # 16:32"
   ]
  },
  {
   "cell_type": "code",
   "execution_count": null,
   "metadata": {},
   "outputs": [],
   "source": [
    "metrics.accuracy_score(y, svc.predict(X))"
   ]
  },
  {
   "cell_type": "code",
   "execution_count": null,
   "metadata": {},
   "outputs": [],
   "source": []
  },
  {
   "cell_type": "code",
   "execution_count": null,
   "metadata": {},
   "outputs": [],
   "source": [
    "rf.fit(X, y)\n",
    "metrics.accuracy_score(y, )"
   ]
  },
  {
   "cell_type": "code",
   "execution_count": 10,
   "metadata": {},
   "outputs": [
    {
     "data": {
      "text/plain": [
       "GaussianNB(priors=None, var_smoothing=1e-09)"
      ]
     },
     "execution_count": 10,
     "metadata": {},
     "output_type": "execute_result"
    }
   ],
   "source": [
    "nb.fit(X, y)"
   ]
  },
  {
   "cell_type": "code",
   "execution_count": 11,
   "metadata": {},
   "outputs": [
    {
     "data": {
      "text/plain": [
       "0.6308435200851695"
      ]
     },
     "execution_count": 11,
     "metadata": {},
     "output_type": "execute_result"
    }
   ],
   "source": [
    "metrics.accuracy_score(y, nb.predict(X))"
   ]
  },
  {
   "cell_type": "code",
   "execution_count": 12,
   "metadata": {},
   "outputs": [
    {
     "ename": "LinAlgError",
     "evalue": "the leading minor of order 9 of 'b' is not positive definite. The factorization of 'b' could not be completed and no eigenvalues or eigenvectors were computed.",
     "output_type": "error",
     "traceback": [
      "\u001b[0;31m---------------------------------------------------------------------------\u001b[0m",
      "\u001b[0;31mLinAlgError\u001b[0m                               Traceback (most recent call last)",
      "\u001b[0;32m<ipython-input-12-17c06cbf7334>\u001b[0m in \u001b[0;36m<module>\u001b[0;34m\u001b[0m\n\u001b[0;32m----> 1\u001b[0;31m \u001b[0mlda\u001b[0m\u001b[0;34m.\u001b[0m\u001b[0mfit\u001b[0m\u001b[0;34m(\u001b[0m\u001b[0mX\u001b[0m\u001b[0;34m,\u001b[0m \u001b[0my\u001b[0m\u001b[0;34m)\u001b[0m\u001b[0;34m\u001b[0m\u001b[0;34m\u001b[0m\u001b[0m\n\u001b[0m",
      "\u001b[0;32m~/anaconda3/envs/pan20/lib/python3.7/site-packages/sklearn/discriminant_analysis.py\u001b[0m in \u001b[0;36mfit\u001b[0;34m(self, X, y)\u001b[0m\n\u001b[1;32m    479\u001b[0m             \u001b[0mself\u001b[0m\u001b[0;34m.\u001b[0m\u001b[0m_solve_lsqr\u001b[0m\u001b[0;34m(\u001b[0m\u001b[0mX\u001b[0m\u001b[0;34m,\u001b[0m \u001b[0my\u001b[0m\u001b[0;34m,\u001b[0m \u001b[0mshrinkage\u001b[0m\u001b[0;34m=\u001b[0m\u001b[0mself\u001b[0m\u001b[0;34m.\u001b[0m\u001b[0mshrinkage\u001b[0m\u001b[0;34m)\u001b[0m\u001b[0;34m\u001b[0m\u001b[0;34m\u001b[0m\u001b[0m\n\u001b[1;32m    480\u001b[0m         \u001b[0;32melif\u001b[0m \u001b[0mself\u001b[0m\u001b[0;34m.\u001b[0m\u001b[0msolver\u001b[0m \u001b[0;34m==\u001b[0m \u001b[0;34m'eigen'\u001b[0m\u001b[0;34m:\u001b[0m\u001b[0;34m\u001b[0m\u001b[0;34m\u001b[0m\u001b[0m\n\u001b[0;32m--> 481\u001b[0;31m             \u001b[0mself\u001b[0m\u001b[0;34m.\u001b[0m\u001b[0m_solve_eigen\u001b[0m\u001b[0;34m(\u001b[0m\u001b[0mX\u001b[0m\u001b[0;34m,\u001b[0m \u001b[0my\u001b[0m\u001b[0;34m,\u001b[0m \u001b[0mshrinkage\u001b[0m\u001b[0;34m=\u001b[0m\u001b[0mself\u001b[0m\u001b[0;34m.\u001b[0m\u001b[0mshrinkage\u001b[0m\u001b[0;34m)\u001b[0m\u001b[0;34m\u001b[0m\u001b[0;34m\u001b[0m\u001b[0m\n\u001b[0m\u001b[1;32m    482\u001b[0m         \u001b[0;32melse\u001b[0m\u001b[0;34m:\u001b[0m\u001b[0;34m\u001b[0m\u001b[0;34m\u001b[0m\u001b[0m\n\u001b[1;32m    483\u001b[0m             raise ValueError(\"unknown solver {} (valid solvers are 'svd', \"\n",
      "\u001b[0;32m~/anaconda3/envs/pan20/lib/python3.7/site-packages/sklearn/discriminant_analysis.py\u001b[0m in \u001b[0;36m_solve_eigen\u001b[0;34m(self, X, y, shrinkage)\u001b[0m\n\u001b[1;32m    335\u001b[0m         \u001b[0mSb\u001b[0m \u001b[0;34m=\u001b[0m \u001b[0mSt\u001b[0m \u001b[0;34m-\u001b[0m \u001b[0mSw\u001b[0m  \u001b[0;31m# between scatter\u001b[0m\u001b[0;34m\u001b[0m\u001b[0;34m\u001b[0m\u001b[0m\n\u001b[1;32m    336\u001b[0m \u001b[0;34m\u001b[0m\u001b[0m\n\u001b[0;32m--> 337\u001b[0;31m         \u001b[0mevals\u001b[0m\u001b[0;34m,\u001b[0m \u001b[0mevecs\u001b[0m \u001b[0;34m=\u001b[0m \u001b[0mlinalg\u001b[0m\u001b[0;34m.\u001b[0m\u001b[0meigh\u001b[0m\u001b[0;34m(\u001b[0m\u001b[0mSb\u001b[0m\u001b[0;34m,\u001b[0m \u001b[0mSw\u001b[0m\u001b[0;34m)\u001b[0m\u001b[0;34m\u001b[0m\u001b[0;34m\u001b[0m\u001b[0m\n\u001b[0m\u001b[1;32m    338\u001b[0m         self.explained_variance_ratio_ = np.sort(evals / np.sum(evals)\n\u001b[1;32m    339\u001b[0m                                                  )[::-1][:self._max_components]\n",
      "\u001b[0;32m~/anaconda3/envs/pan20/lib/python3.7/site-packages/scipy/linalg/decomp.py\u001b[0m in \u001b[0;36meigh\u001b[0;34m(a, b, lower, eigvals_only, overwrite_a, overwrite_b, turbo, eigvals, type, check_finite)\u001b[0m\n\u001b[1;32m    491\u001b[0m                           \u001b[0;34m\" factorization of 'b' could not be completed\"\u001b[0m\u001b[0;34m\u001b[0m\u001b[0;34m\u001b[0m\u001b[0m\n\u001b[1;32m    492\u001b[0m                           \u001b[0;34m\" and no eigenvalues or eigenvectors were\"\u001b[0m\u001b[0;34m\u001b[0m\u001b[0;34m\u001b[0m\u001b[0m\n\u001b[0;32m--> 493\u001b[0;31m                           \" computed.\" % (info-b1.shape[0]))\n\u001b[0m\u001b[1;32m    494\u001b[0m \u001b[0;34m\u001b[0m\u001b[0m\n\u001b[1;32m    495\u001b[0m \u001b[0;34m\u001b[0m\u001b[0m\n",
      "\u001b[0;31mLinAlgError\u001b[0m: the leading minor of order 9 of 'b' is not positive definite. The factorization of 'b' could not be completed and no eigenvalues or eigenvectors were computed."
     ]
    }
   ],
   "source": [
    "lda.fit(X, y)"
   ]
  },
  {
   "cell_type": "code",
   "execution_count": null,
   "metadata": {},
   "outputs": [],
   "source": [
    "metrics.accuracy_score(y, lda.predict(X))"
   ]
  },
  {
   "cell_type": "code",
   "execution_count": null,
   "metadata": {},
   "outputs": [],
   "source": []
  }
 ],
 "metadata": {
  "kernelspec": {
   "display_name": "pan20",
   "language": "python",
   "name": "pan20"
  },
  "language_info": {
   "codemirror_mode": {
    "name": "ipython",
    "version": 3
   },
   "file_extension": ".py",
   "mimetype": "text/x-python",
   "name": "python",
   "nbconvert_exporter": "python",
   "pygments_lexer": "ipython3",
   "version": "3.7.7"
  }
 },
 "nbformat": 4,
 "nbformat_minor": 4
}
