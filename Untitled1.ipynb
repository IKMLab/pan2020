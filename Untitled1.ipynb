{
 "cells": [
  {
   "cell_type": "code",
   "execution_count": 13,
   "metadata": {},
   "outputs": [
    {
     "data": {
      "text/plain": [
       "67440"
      ]
     },
     "execution_count": 13,
     "metadata": {},
     "output_type": "execute_result"
    }
   ],
   "source": [
    "with open('/home/hanshan/dev/news/data/twint_dl/angry_face.txt') as f:\n",
    "    ll = f.readlines()\n",
    "len(ll)"
   ]
  },
  {
   "cell_type": "code",
   "execution_count": null,
   "metadata": {},
   "outputs": [],
   "source": []
  },
  {
   "cell_type": "code",
   "execution_count": null,
   "metadata": {},
   "outputs": [],
   "source": []
  },
  {
   "cell_type": "code",
   "execution_count": 19,
   "metadata": {
    "scrolled": true
   },
   "outputs": [],
   "source": [
    "from pan20 import fake\n",
    "from pan20.fake import inputs, feats"
   ]
  },
  {
   "cell_type": "code",
   "execution_count": 16,
   "metadata": {},
   "outputs": [],
   "source": [
    "data = inputs.parse('data/fake/train.zip')"
   ]
  },
  {
   "cell_type": "code",
   "execution_count": 18,
   "metadata": {},
   "outputs": [],
   "source": [
    "df = feats.early_bird(data)"
   ]
  },
  {
   "cell_type": "code",
   "execution_count": 20,
   "metadata": {},
   "outputs": [],
   "source": [
    "\n",
    "\n",
    "truth = {x['author']: x['label'] for x in fake.load_truth()}\n",
    "\n",
    "df['label'] = df.author.apply(lambda x: truth[x])"
   ]
  },
  {
   "cell_type": "code",
   "execution_count": 29,
   "metadata": {},
   "outputs": [
    {
     "name": "stdout",
     "output_type": "stream",
     "text": [
      "[0.50516667 0.54733333 0.539      0.533      0.55266667]\n",
      "0.5354333333333333\n"
     ]
    },
    {
     "data": {
      "text/plain": [
       "GaussianNB(priors=None, var_smoothing=1e-09)"
      ]
     },
     "execution_count": 29,
     "metadata": {},
     "output_type": "execute_result"
    }
   ],
   "source": [
    "from sklearn.model_selection import cross_val_score\n",
    "import numpy as np\n",
    "from sklearn import svm\n",
    "from sklearn.naive_bayes import GaussianNB\n",
    "from sklearn.linear_model import LogisticRegression\n",
    "\n",
    "x_feats = [c for c in df.columns if c not in ['author', 'label']]\n",
    "X = df[x_feats].values\n",
    "y = df.label.values\n",
    "\n",
    "#clf = svm.SVC(kernel='linear', C=1)\n",
    "clf = GaussianNB()\n",
    "#clf = LogisticRegression()\n",
    "\n",
    "scores = cross_val_score(clf, X, y, cv=5)\n",
    "print(scores)\n",
    "print(np.mean(scores))\n",
    "\n",
    "clf.fit(X, y)"
   ]
  },
  {
   "cell_type": "code",
   "execution_count": 30,
   "metadata": {},
   "outputs": [],
   "source": [
    "import pickle\n",
    "\n",
    "s = pickle.dumps(clf)"
   ]
  },
  {
   "cell_type": "code",
   "execution_count": 31,
   "metadata": {},
   "outputs": [
    {
     "data": {
      "text/plain": [
       "b'\\x80\\x03csklearn.naive_bayes\\nGaussianNB\\nq\\x00)\\x81q\\x01}q\\x02(X\\x06\\x00\\x00\\x00priorsq\\x03NX\\r\\x00\\x00\\x00var_smoothingq\\x04G>\\x11.\\x0b\\xe8&\\xd6\\x95X\\x08\\x00\\x00\\x00epsilon_q\\x05cnumpy.core.multiarray\\nscalar\\nq\\x06cnumpy\\ndtype\\nq\\x07X\\x02\\x00\\x00\\x00f8q\\x08K\\x00K\\x01\\x87q\\tRq\\n(K\\x03X\\x01\\x00\\x00\\x00<q\\x0bNNNJ\\xff\\xff\\xff\\xffJ\\xff\\xff\\xff\\xffK\\x00tq\\x0cbC\\x08}@\\xc7\\x88\\x86\\xf1\\xb3=q\\r\\x86q\\x0eRq\\x0fX\\x08\\x00\\x00\\x00classes_q\\x10cnumpy.core.multiarray\\n_reconstruct\\nq\\x11cnumpy\\nndarray\\nq\\x12K\\x00\\x85q\\x13C\\x01bq\\x14\\x87q\\x15Rq\\x16(K\\x01K\\x02\\x85q\\x17h\\x07X\\x02\\x00\\x00\\x00i8q\\x18K\\x00K\\x01\\x87q\\x19Rq\\x1a(K\\x03h\\x0bNNNJ\\xff\\xff\\xff\\xffJ\\xff\\xff\\xff\\xffK\\x00tq\\x1bb\\x89C\\x10\\x00\\x00\\x00\\x00\\x00\\x00\\x00\\x00\\x01\\x00\\x00\\x00\\x00\\x00\\x00\\x00q\\x1ctq\\x1dbX\\x06\\x00\\x00\\x00theta_q\\x1eh\\x11h\\x12K\\x00\\x85q\\x1fh\\x14\\x87q Rq!(K\\x01K\\x02K\\x0c\\x86q\"h\\n\\x89C\\xc0\\xe3\\xfa&\\xd0\\xd8\\xc4\\x9c?\\xa4m\\xabi:P\\x95?9\\xf7\\xa4\\xd0\\x85\\xc8\\x91?,\\xdd\\x0c!\\x85/\\x97?\\t \\xe9\\xac;\\xf3x?!\\x7f\\xf6\\x10N\\x94\\x8c?J\\xd8#\\x85\\n\\x14\\xac?a\\xdbs!\\xdc\\xb9o?\\x9d\\xfd\\xb5\\x95lv\\xc5?\\x0b\\x8f\\xd4\\\\\\xb3\"\\xd8?\\xef\\'<\\xb5\\xbeA\\xb3?\\xc7\"k\\xa9\\t\\x13\\xaf?\\x9c/~\\x0b4n\\x9a?\\xef4\\x07\\xf7\\xf6<\\x93?\\x13\\x9e=\\xcfxD\\x8e?\\xad<19\\x86\\xf5\\x94?\\x1d\\xb8\\x03\\xfe\\xa5\\xcbs?\\xcf\\\\\\\\\\x86\\xa9\\n\\x86?\\xc1V\\xdd*7!\\xae?Ex\\x06\\x1c\\xcb\\x04d?\\xe2\\x00\\xe8s\\xc6\\x0f\\xc4?\\x83_\\xb8\\x8cL\\xb7\\xd7?\\xe6\\xfb\\x1a\\xc1\\xcc\\xa3\\xb6?\\xacW\\x80L*\\xb0\\xad?q#tq$bX\\x06\\x00\\x00\\x00sigma_q%h\\x11h\\x12K\\x00\\x85q&h\\x14\\x87q\\'Rq((K\\x01K\\x02K\\x0c\\x86q)h\\n\\x89C\\xc0\\xf9U\\xa5\\xef<hZ?\\x94o\\x02Oo\\xecQ?bx>\\xf2X\\xeaR?\\n\\xa3\\xcf~\\xe9\\xf0R?\\xb9\\xc2J\\x93\\xb9M7?\\xb0C9\\xf8\\xea-Q?\\x92e\\x82\\x857\\xbfe?\\x1c\\xc7\\xdc\\x16\\r\\xe4)?\\x8fY\\xb3\\xf1l\\xf5\\x92?\\xdd\\xd8\\x8c/7\\x85i?\\r\\xa2\\x1bB]A\\x86?\\xa9\\x8b_\\x1f\\x94|t?QZ\\xdbBZiY?\\xa3\\xb2\\xb5\\x19\\x03(Q?\\xcb\\x95\\xf3\\xe5(hP?\\xa0\\x1a\\x15\\xe1\\x9f\\xfcP?\\xaaHKH\\xf4\\x9a3?\\xde\\n\\xc7\\xa5\\xff\\xa4M?h]\\x08Pp\\xecg?>b\\xa4\\xc8\\n\\xca!?f/\\x9c\\xae\\xa7 \\x92?-v\\xa3\\xa55\\xfbk?\\xfen#\\xdcN[\\x8b?(\\xe4\\xd5\\xc3\\x106t?q*tq+bX\\x0c\\x00\\x00\\x00class_count_q,h\\x11h\\x12K\\x00\\x85q-h\\x14\\x87q.Rq/(K\\x01K\\x02\\x85q0h\\n\\x89C\\x10\\x00\\x00\\x00\\x00\\x00L\\xcd@\\x00\\x00\\x00\\x00\\x00L\\xcd@q1tq2bX\\x0c\\x00\\x00\\x00class_prior_q3h\\x11h\\x12K\\x00\\x85q4h\\x14\\x87q5Rq6(K\\x01K\\x02\\x85q7h\\n\\x89C\\x10\\x00\\x00\\x00\\x00\\x00\\x00\\xe0?\\x00\\x00\\x00\\x00\\x00\\x00\\xe0?q8tq9bX\\x10\\x00\\x00\\x00_sklearn_versionq:X\\x0c\\x00\\x00\\x000.22.2.post1q;ub.'"
      ]
     },
     "execution_count": 31,
     "metadata": {},
     "output_type": "execute_result"
    }
   ],
   "source": [
    "s"
   ]
  },
  {
   "cell_type": "code",
   "execution_count": 43,
   "metadata": {},
   "outputs": [],
   "source": [
    "with open('tmp/clf', 'wb') as f:\n",
    "    f.write(s)"
   ]
  },
  {
   "cell_type": "code",
   "execution_count": 44,
   "metadata": {},
   "outputs": [],
   "source": [
    "with open('tmp/clf', 'rb') as f:\n",
    "    t = f.read()"
   ]
  },
  {
   "cell_type": "code",
   "execution_count": 45,
   "metadata": {},
   "outputs": [
    {
     "data": {
      "text/plain": [
       "b'\\x80\\x03csklearn.naive_bayes\\nGaussianNB\\nq\\x00)\\x81q\\x01}q\\x02(X\\x06\\x00\\x00\\x00priorsq\\x03NX\\r\\x00\\x00\\x00var_smoothingq\\x04G>\\x11.\\x0b\\xe8&\\xd6\\x95X\\x08\\x00\\x00\\x00epsilon_q\\x05cnumpy.core.multiarray\\nscalar\\nq\\x06cnumpy\\ndtype\\nq\\x07X\\x02\\x00\\x00\\x00f8q\\x08K\\x00K\\x01\\x87q\\tRq\\n(K\\x03X\\x01\\x00\\x00\\x00<q\\x0bNNNJ\\xff\\xff\\xff\\xffJ\\xff\\xff\\xff\\xffK\\x00tq\\x0cbC\\x08}@\\xc7\\x88\\x86\\xf1\\xb3=q\\r\\x86q\\x0eRq\\x0fX\\x08\\x00\\x00\\x00classes_q\\x10cnumpy.core.multiarray\\n_reconstruct\\nq\\x11cnumpy\\nndarray\\nq\\x12K\\x00\\x85q\\x13C\\x01bq\\x14\\x87q\\x15Rq\\x16(K\\x01K\\x02\\x85q\\x17h\\x07X\\x02\\x00\\x00\\x00i8q\\x18K\\x00K\\x01\\x87q\\x19Rq\\x1a(K\\x03h\\x0bNNNJ\\xff\\xff\\xff\\xffJ\\xff\\xff\\xff\\xffK\\x00tq\\x1bb\\x89C\\x10\\x00\\x00\\x00\\x00\\x00\\x00\\x00\\x00\\x01\\x00\\x00\\x00\\x00\\x00\\x00\\x00q\\x1ctq\\x1dbX\\x06\\x00\\x00\\x00theta_q\\x1eh\\x11h\\x12K\\x00\\x85q\\x1fh\\x14\\x87q Rq!(K\\x01K\\x02K\\x0c\\x86q\"h\\n\\x89C\\xc0\\xe3\\xfa&\\xd0\\xd8\\xc4\\x9c?\\xa4m\\xabi:P\\x95?9\\xf7\\xa4\\xd0\\x85\\xc8\\x91?,\\xdd\\x0c!\\x85/\\x97?\\t \\xe9\\xac;\\xf3x?!\\x7f\\xf6\\x10N\\x94\\x8c?J\\xd8#\\x85\\n\\x14\\xac?a\\xdbs!\\xdc\\xb9o?\\x9d\\xfd\\xb5\\x95lv\\xc5?\\x0b\\x8f\\xd4\\\\\\xb3\"\\xd8?\\xef\\'<\\xb5\\xbeA\\xb3?\\xc7\"k\\xa9\\t\\x13\\xaf?\\x9c/~\\x0b4n\\x9a?\\xef4\\x07\\xf7\\xf6<\\x93?\\x13\\x9e=\\xcfxD\\x8e?\\xad<19\\x86\\xf5\\x94?\\x1d\\xb8\\x03\\xfe\\xa5\\xcbs?\\xcf\\\\\\\\\\x86\\xa9\\n\\x86?\\xc1V\\xdd*7!\\xae?Ex\\x06\\x1c\\xcb\\x04d?\\xe2\\x00\\xe8s\\xc6\\x0f\\xc4?\\x83_\\xb8\\x8cL\\xb7\\xd7?\\xe6\\xfb\\x1a\\xc1\\xcc\\xa3\\xb6?\\xacW\\x80L*\\xb0\\xad?q#tq$bX\\x06\\x00\\x00\\x00sigma_q%h\\x11h\\x12K\\x00\\x85q&h\\x14\\x87q\\'Rq((K\\x01K\\x02K\\x0c\\x86q)h\\n\\x89C\\xc0\\xf9U\\xa5\\xef<hZ?\\x94o\\x02Oo\\xecQ?bx>\\xf2X\\xeaR?\\n\\xa3\\xcf~\\xe9\\xf0R?\\xb9\\xc2J\\x93\\xb9M7?\\xb0C9\\xf8\\xea-Q?\\x92e\\x82\\x857\\xbfe?\\x1c\\xc7\\xdc\\x16\\r\\xe4)?\\x8fY\\xb3\\xf1l\\xf5\\x92?\\xdd\\xd8\\x8c/7\\x85i?\\r\\xa2\\x1bB]A\\x86?\\xa9\\x8b_\\x1f\\x94|t?QZ\\xdbBZiY?\\xa3\\xb2\\xb5\\x19\\x03(Q?\\xcb\\x95\\xf3\\xe5(hP?\\xa0\\x1a\\x15\\xe1\\x9f\\xfcP?\\xaaHKH\\xf4\\x9a3?\\xde\\n\\xc7\\xa5\\xff\\xa4M?h]\\x08Pp\\xecg?>b\\xa4\\xc8\\n\\xca!?f/\\x9c\\xae\\xa7 \\x92?-v\\xa3\\xa55\\xfbk?\\xfen#\\xdcN[\\x8b?(\\xe4\\xd5\\xc3\\x106t?q*tq+bX\\x0c\\x00\\x00\\x00class_count_q,h\\x11h\\x12K\\x00\\x85q-h\\x14\\x87q.Rq/(K\\x01K\\x02\\x85q0h\\n\\x89C\\x10\\x00\\x00\\x00\\x00\\x00L\\xcd@\\x00\\x00\\x00\\x00\\x00L\\xcd@q1tq2bX\\x0c\\x00\\x00\\x00class_prior_q3h\\x11h\\x12K\\x00\\x85q4h\\x14\\x87q5Rq6(K\\x01K\\x02\\x85q7h\\n\\x89C\\x10\\x00\\x00\\x00\\x00\\x00\\x00\\xe0?\\x00\\x00\\x00\\x00\\x00\\x00\\xe0?q8tq9bX\\x10\\x00\\x00\\x00_sklearn_versionq:X\\x0c\\x00\\x00\\x000.22.2.post1q;ub.'"
      ]
     },
     "execution_count": 45,
     "metadata": {},
     "output_type": "execute_result"
    }
   ],
   "source": [
    "t"
   ]
  },
  {
   "cell_type": "code",
   "execution_count": null,
   "metadata": {},
   "outputs": [],
   "source": []
  },
  {
   "cell_type": "code",
   "execution_count": 46,
   "metadata": {},
   "outputs": [],
   "source": [
    "clf2 = pickle.loads(t)"
   ]
  },
  {
   "cell_type": "code",
   "execution_count": 47,
   "metadata": {},
   "outputs": [
    {
     "data": {
      "text/plain": [
       "GaussianNB(priors=None, var_smoothing=1e-09)"
      ]
     },
     "execution_count": 47,
     "metadata": {},
     "output_type": "execute_result"
    }
   ],
   "source": [
    "clf2"
   ]
  },
  {
   "cell_type": "code",
   "execution_count": 48,
   "metadata": {},
   "outputs": [
    {
     "data": {
      "text/plain": [
       "array([1, 1, 1, ..., 1, 1, 0])"
      ]
     },
     "execution_count": 48,
     "metadata": {},
     "output_type": "execute_result"
    }
   ],
   "source": [
    "clf2.predict(X)"
   ]
  },
  {
   "cell_type": "code",
   "execution_count": 49,
   "metadata": {},
   "outputs": [],
   "source": [
    "from pan20.fake import models\n",
    "\n",
    "clf3 = models.early_bird()"
   ]
  },
  {
   "cell_type": "code",
   "execution_count": 50,
   "metadata": {},
   "outputs": [
    {
     "data": {
      "text/plain": [
       "array([1, 1, 1, ..., 1, 1, 0])"
      ]
     },
     "execution_count": 50,
     "metadata": {},
     "output_type": "execute_result"
    }
   ],
   "source": [
    "clf.predict(X)"
   ]
  },
  {
   "cell_type": "code",
   "execution_count": null,
   "metadata": {},
   "outputs": [],
   "source": []
  }
 ],
 "metadata": {
  "kernelspec": {
   "display_name": "pan20",
   "language": "python",
   "name": "pan20"
  },
  "language_info": {
   "codemirror_mode": {
    "name": "ipython",
    "version": 3
   },
   "file_extension": ".py",
   "mimetype": "text/x-python",
   "name": "python",
   "nbconvert_exporter": "python",
   "pygments_lexer": "ipython3",
   "version": "3.7.7"
  }
 },
 "nbformat": 4,
 "nbformat_minor": 4
}
