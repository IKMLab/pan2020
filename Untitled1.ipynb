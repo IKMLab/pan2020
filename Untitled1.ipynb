{
 "cells": [
  {
   "cell_type": "code",
   "execution_count": null,
   "metadata": {
    "scrolled": true
   },
   "outputs": [],
   "source": [
    "from pan20.fake import inputs, feats"
   ]
  },
  {
   "cell_type": "code",
   "execution_count": 6,
   "metadata": {},
   "outputs": [],
   "source": [
    "data = inputs.parse('data/fake/train.zip')"
   ]
  },
  {
   "cell_type": "code",
   "execution_count": 7,
   "metadata": {},
   "outputs": [
    {
     "data": {
      "text/html": [
       "<div>\n",
       "<style scoped>\n",
       "    .dataframe tbody tr th:only-of-type {\n",
       "        vertical-align: middle;\n",
       "    }\n",
       "\n",
       "    .dataframe tbody tr th {\n",
       "        vertical-align: top;\n",
       "    }\n",
       "\n",
       "    .dataframe thead th {\n",
       "        text-align: right;\n",
       "    }\n",
       "</style>\n",
       "<table border=\"1\" class=\"dataframe\">\n",
       "  <thead>\n",
       "    <tr style=\"text-align: right;\">\n",
       "      <th></th>\n",
       "      <th>author</th>\n",
       "      <th>tweet</th>\n",
       "    </tr>\n",
       "  </thead>\n",
       "  <tbody>\n",
       "    <tr>\n",
       "      <th>0</th>\n",
       "      <td>f4zgi7ym7829iqld6x77q6mh30s0rf86</td>\n",
       "      <td>Thanks \"ArtistRack\" For Following Me !!! #URL#</td>\n",
       "    </tr>\n",
       "    <tr>\n",
       "      <th>1</th>\n",
       "      <td>f4zgi7ym7829iqld6x77q6mh30s0rf86</td>\n",
       "      <td>Thanks \"Sally Mansfield\" For Following Me !!! ...</td>\n",
       "    </tr>\n",
       "    <tr>\n",
       "      <th>2</th>\n",
       "      <td>f4zgi7ym7829iqld6x77q6mh30s0rf86</td>\n",
       "      <td>Thanks \"Simão\" For Following Me !!! #URL#</td>\n",
       "    </tr>\n",
       "    <tr>\n",
       "      <th>3</th>\n",
       "      <td>f4zgi7ym7829iqld6x77q6mh30s0rf86</td>\n",
       "      <td>RT BBCWorld \"Danish prince refuses to be burie...</td>\n",
       "    </tr>\n",
       "    <tr>\n",
       "      <th>4</th>\n",
       "      <td>f4zgi7ym7829iqld6x77q6mh30s0rf86</td>\n",
       "      <td>RT Reuters \"Bieber says he's 'never going to b...</td>\n",
       "    </tr>\n",
       "  </tbody>\n",
       "</table>\n",
       "</div>"
      ],
      "text/plain": [
       "                             author  \\\n",
       "0  f4zgi7ym7829iqld6x77q6mh30s0rf86   \n",
       "1  f4zgi7ym7829iqld6x77q6mh30s0rf86   \n",
       "2  f4zgi7ym7829iqld6x77q6mh30s0rf86   \n",
       "3  f4zgi7ym7829iqld6x77q6mh30s0rf86   \n",
       "4  f4zgi7ym7829iqld6x77q6mh30s0rf86   \n",
       "\n",
       "                                               tweet  \n",
       "0     Thanks \"ArtistRack\" For Following Me !!! #URL#  \n",
       "1  Thanks \"Sally Mansfield\" For Following Me !!! ...  \n",
       "2          Thanks \"Simão\" For Following Me !!! #URL#  \n",
       "3  RT BBCWorld \"Danish prince refuses to be burie...  \n",
       "4  RT Reuters \"Bieber says he's 'never going to b...  "
      ]
     },
     "execution_count": 7,
     "metadata": {},
     "output_type": "execute_result"
    }
   ],
   "source": [
    "data.head()"
   ]
  },
  {
   "cell_type": "code",
   "execution_count": null,
   "metadata": {},
   "outputs": [
    {
     "name": "stdout",
     "output_type": "stream",
     "text": [
      "WARNING:tensorflow:From /home/hanshan/anaconda3/envs/pan20/lib/python3.7/site-packages/benepar/base_parser.py:197: The name tf.GraphDef is deprecated. Please use tf.compat.v1.GraphDef instead.\n",
      "\n",
      "WARNING:tensorflow:From /home/hanshan/anaconda3/envs/pan20/lib/python3.7/site-packages/benepar/base_parser.py:202: The name tf.Session is deprecated. Please use tf.compat.v1.Session instead.\n",
      "\n"
     ]
    },
    {
     "data": {
      "application/vnd.jupyter.widget-view+json": {
       "model_id": "42c05f364997426ab1f965fc9e67273b",
       "version_major": 2,
       "version_minor": 0
      },
      "text/plain": [
       "HBox(children=(FloatProgress(value=0.0, max=30000.0), HTML(value='')))"
      ]
     },
     "metadata": {},
     "output_type": "display_data"
    }
   ],
   "source": [
    "df = feats.early_bird(data)"
   ]
  },
  {
   "cell_type": "code",
   "execution_count": null,
   "metadata": {},
   "outputs": [],
   "source": [
    "df.head()"
   ]
  },
  {
   "cell_type": "code",
   "execution_count": null,
   "metadata": {},
   "outputs": [],
   "source": [
    "from pan20 import fake\n",
    "\n",
    "truth = {x['author']: x['label'] for x in fake.load_truth()}\n",
    "\n",
    "df['label'] = df.author.apply(lambda x: truth[x])"
   ]
  },
  {
   "cell_type": "code",
   "execution_count": null,
   "metadata": {},
   "outputs": [],
   "source": [
    "from sklearn.model_selection import cross_val_score\n",
    "import numpy as np\n",
    "from sklearn import svm\n",
    "from sklearn.naive_bayes import GaussianNB\n",
    "from sklearn.linear_model import LogisticRegression\n",
    "\n",
    "x_feats = [c for c in df.columns if c not in ['author', 'label']]\n",
    "X = rr[x_feats].values\n",
    "y = rr.label.values\n",
    "\n",
    "# clf = svm.SVC(kernel='linear', C=1)\n",
    "clf = GaussianNB()\n",
    "# clf = LogisticRegression()\n",
    "\n",
    "scores = cross_val_score(clf, X, y, cv=5)\n",
    "print(scores)\n",
    "np.mean(scores)"
   ]
  }
 ],
 "metadata": {
  "kernelspec": {
   "display_name": "pan20",
   "language": "python",
   "name": "pan20"
  },
  "language_info": {
   "codemirror_mode": {
    "name": "ipython",
    "version": 3
   },
   "file_extension": ".py",
   "mimetype": "text/x-python",
   "name": "python",
   "nbconvert_exporter": "python",
   "pygments_lexer": "ipython3",
   "version": "3.7.7"
  }
 },
 "nbformat": 4,
 "nbformat_minor": 4
}
