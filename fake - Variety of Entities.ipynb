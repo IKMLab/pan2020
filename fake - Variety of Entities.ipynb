{
 "cells": [
  {
   "cell_type": "code",
   "execution_count": 17,
   "metadata": {},
   "outputs": [],
   "source": [
    "import pandas as pd\n",
    "import matplotlib.pyplot as plt\n",
    "import seaborn as sns; sns.set()\n",
    "from tqdm.notebook import tqdm\n",
    "\n",
    "from pan20 import fake, util"
   ]
  },
  {
   "cell_type": "code",
   "execution_count": 4,
   "metadata": {},
   "outputs": [],
   "source": [
    "nlp = spacy.load('en_core_web_sm')"
   ]
  },
  {
   "cell_type": "code",
   "execution_count": 2,
   "metadata": {},
   "outputs": [],
   "source": [
    "df = fake.load()"
   ]
  },
  {
   "cell_type": "code",
   "execution_count": 5,
   "metadata": {},
   "outputs": [],
   "source": [
    "media = [\n",
    "    'ABC',\n",
    "    'BBC',\n",
    "    'Bloomberg',\n",
    "    'CBS',\n",
    "    'CNBC',\n",
    "    'CNN',\n",
    "    'Fox News',\n",
    "    'Fox',\n",
    "    'NBC News',\n",
    "    'NBC',\n",
    "    'RCN America',\n",
    "    'RCN America - Maine',\n",
    "    'Reuters',\n",
    "    'The New York Times',\n",
    "    'The Washington Post',\n",
    "    'Washington Post',\n",
    "]"
   ]
  },
  {
   "cell_type": "code",
   "execution_count": 6,
   "metadata": {},
   "outputs": [],
   "source": [
    "truth = {}\n",
    "for _, x in df.iterrows():\n",
    "    truth[x.author] = x.label"
   ]
  },
  {
   "cell_type": "code",
   "execution_count": 9,
   "metadata": {},
   "outputs": [],
   "source": [
    "author_dict = util.IxDict(df.author.unique())\n",
    "media_dict = util.IxDict(media)"
   ]
  },
  {
   "cell_type": "code",
   "execution_count": 19,
   "metadata": {},
   "outputs": [
    {
     "data": {
      "application/vnd.jupyter.widget-view+json": {
       "model_id": "95f1003ced5146e9976ba2be2aaf4975",
       "version_major": 2,
       "version_minor": 0
      },
      "text/plain": [
       "HBox(children=(FloatProgress(value=0.0, max=300.0), HTML(value='')))"
      ]
     },
     "metadata": {},
     "output_type": "display_data"
    },
    {
     "name": "stdout",
     "output_type": "stream",
     "text": [
      "\n"
     ]
    }
   ],
   "source": [
    "data = []\n",
    "with tqdm(total=len(author_dict)) as pbar:\n",
    "    for author in df.author.unique():\n",
    "        tweets = df[df.author == author]\n",
    "        tweets = ' '.join([x.tweet for _, x in tweets.iterrows()])\n",
    "        x = {\n",
    "            'author': author, \n",
    "            'label': truth[author],\n",
    "            'org_count': sum(1 for m in media if m in tweets),\n",
    "        } \n",
    "        data.append(x)\n",
    "        pbar.update()\n",
    "data = pd.DataFrame(data)"
   ]
  },
  {
   "cell_type": "code",
   "execution_count": 20,
   "metadata": {},
   "outputs": [
    {
     "data": {
      "image/png": "[encoded data removed]",
      "text/plain": [
       "<Figure size 432x288 with 1 Axes>"
      ]
     },
     "metadata": {},
     "output_type": "display_data"
    }
   ],
   "source": [
    "sns.distplot(data[data.label == False].org_count, label='Not Spreader')\n",
    "sns.distplot(data[data.label == True].org_count, label='Spreader')\n",
    "plt.show()"
   ]
  },
  {
   "cell_type": "code",
   "execution_count": null,
   "metadata": {},
   "outputs": [],
   "source": []
  }
 ],
 "metadata": {
  "kernelspec": {
   "display_name": "Python 3",
   "language": "python",
   "name": "python3"
  },
  "language_info": {
   "codemirror_mode": {
    "name": "ipython",
    "version": 3
   },
   "file_extension": ".py",
   "mimetype": "text/x-python",
   "name": "python",
   "nbconvert_exporter": "python",
   "pygments_lexer": "ipython3",
   "version": "3.7.3"
  }
 },
 "nbformat": 4,
 "nbformat_minor": 4
}
