{
 "cells": [
  {
   "cell_type": "code",
   "execution_count": 79,
   "metadata": {},
   "outputs": [],
   "source": [
    "import json\n",
    "\n",
    "import nltk\n",
    "from nltk import stem\n",
    "import numpy as np\n",
    "import pandas as pd\n",
    "import matplotlib.pyplot as plt\n",
    "import seaborn as sns; sns.set()\n",
    "from tqdm.notebook import tqdm\n",
    "\n",
    "from pan20 import fake, util\n",
    "from pan20.util import lexicons, text"
   ]
  },
  {
   "cell_type": "code",
   "execution_count": 2,
   "metadata": {},
   "outputs": [],
   "source": [
    "df = fake.load()\n",
    "df['toks'] = df.tweet.apply(text.tokenize)"
   ]
  },
  {
   "cell_type": "code",
   "execution_count": 36,
   "metadata": {},
   "outputs": [],
   "source": [
    "with open('data/fake/al.json') as f:\n",
    "    lex = json.loads(f.read())['w'][0:1000]\n",
    "stems = []\n",
    "for l in lex:\n",
    "    stems.append(ps.stem(l))\n",
    "lex += stems\n",
    "lex = list(set(stems))"
   ]
  },
  {
   "cell_type": "code",
   "execution_count": 134,
   "metadata": {},
   "outputs": [],
   "source": [
    "def anger_score(toks):\n",
    "    n = len(toks)\n",
    "    c = sum(1 for t in toks \n",
    "            if t in lex2\n",
    "            or ps.stem(t) in lex2)\n",
    "    return c / n\n",
    "\n",
    "df['anger'] = df.toks.apply(anger_score)"
   ]
  },
  {
   "cell_type": "code",
   "execution_count": 133,
   "metadata": {},
   "outputs": [],
   "source": [
    "lex2 = [l for l in lex if l not in ['donald', 'trump', 'obama']]"
   ]
  },
  {
   "cell_type": "code",
   "execution_count": 136,
   "metadata": {},
   "outputs": [],
   "source": [
    "with open('data/fake/lex2.json', 'w+') as f:\n",
    "    f.write(json.dumps({'stems': lex2}))"
   ]
  },
  {
   "cell_type": "code",
   "execution_count": 135,
   "metadata": {},
   "outputs": [
    {
     "data": {
      "image/png": "[encoded data removed]",
      "text/plain": [
       "<Figure size 432x288 with 1 Axes>"
      ]
     },
     "metadata": {},
     "output_type": "display_data"
    }
   ],
   "source": [
    "dfg = df.groupby(['author', 'label']).mean().reset_index()\n",
    "_ = sns.distplot(dfg[dfg.label == False].langer, label='Not Spreader')\n",
    "_ = sns.distplot(dfg[dfg.label == True].langer, label='Spreader')\n",
    "plt.legend()\n",
    "plt.show()"
   ]
  },
  {
   "cell_type": "markdown",
   "metadata": {},
   "source": [
    "LIWC has spreaders averaging 1 anger word per tweet, with non-spreaders mean close to zero. Given the mean of 12 tokens per tweet, that is a frequency of around 0.08.\n",
    "\n",
    "This plot at k=300, and looking at others for larger k, indicates:\n",
    "- Too many non-anger words pulling non-spreader class up.\n",
    "- Too few anger words in the set pushing spreaders forward."
   ]
  },
  {
   "cell_type": "markdown",
   "metadata": {},
   "source": [
    "Looks like we are ready to try and learn weights over the top-k to maximally separate the means of these groups."
   ]
  },
  {
   "cell_type": "code",
   "execution_count": 49,
   "metadata": {},
   "outputs": [],
   "source": [
    "vocab = util.IxDict(stems)"
   ]
  },
  {
   "cell_type": "code",
   "execution_count": 51,
   "metadata": {},
   "outputs": [],
   "source": [
    "users = util.IxDict(df.author.unique())"
   ]
  },
  {
   "cell_type": "code",
   "execution_count": 69,
   "metadata": {},
   "outputs": [
    {
     "data": {
      "application/vnd.jupyter.widget-view+json": {
       "model_id": "2e3b2cbc1b9045509af7717195783b4f",
       "version_major": 2,
       "version_minor": 0
      },
      "text/plain": [
       "HBox(children=(FloatProgress(value=0.0, max=300.0), HTML(value='')))"
      ]
     },
     "metadata": {},
     "output_type": "display_data"
    },
    {
     "name": "stdout",
     "output_type": "stream",
     "text": [
      "\n"
     ]
    }
   ],
   "source": [
    "# feature vectors\n",
    "def get_vec(toks):\n",
    "    vec = np.zeros((1, len(vocab)))\n",
    "    stems = [ps.stem(t) for t in toks]\n",
    "    for s in stems:\n",
    "        if s not in vocab:\n",
    "            continue\n",
    "        ix = vocab[s]\n",
    "        vec[0, ix] += 1\n",
    "    vec /= len(toks)\n",
    "    return vec\n",
    "\n",
    "feats = []\n",
    "labels = []\n",
    "with tqdm(total=len(df.author.unique())) as pbar:\n",
    "    for author in df.author.unique():\n",
    "        aix = users[author]\n",
    "        dfa = df[df.author == author]\n",
    "        vecs = [get_vec(x.toks) for _, x in dfa.iterrows()]\n",
    "        vecs = np.concatenate(vecs, axis=0)\n",
    "        vec = np.expand_dims(vecs.mean(axis=0), 0)\n",
    "        feats.append(vec)\n",
    "        labels.append(dfa.iloc[0].label)\n",
    "        pbar.update()\n",
    "feats = np.concatenate(feats, axis=0)\n",
    "labels = np.array(labels)"
   ]
  },
  {
   "cell_type": "code",
   "execution_count": 90,
   "metadata": {},
   "outputs": [
    {
     "name": "stdout",
     "output_type": "stream",
     "text": [
      "----\n",
      "0.6416666666666667\n",
      "0.6\n",
      "----\n",
      "0.6333333333333333\n",
      "0.5833333333333334\n",
      "----\n",
      "0.6416666666666667\n",
      "0.55\n",
      "----\n",
      "0.6416666666666667\n",
      "0.6666666666666666\n",
      "----\n",
      "0.6666666666666666\n",
      "0.6333333333333333\n"
     ]
    }
   ],
   "source": [
    "from sklearn import model_selection\n",
    "\n",
    "skf = model_selection.StratifiedKFold(n_splits=5)\n",
    "coef = []\n",
    "accs = []\n",
    "for tr_ix, ts_ix in skf.split(feats, labels):\n",
    "    X_train, X_test = feats[tr_ix], feats[ts_ix]\n",
    "    y_train, y_test = labels[tr_ix], labels[ts_ix]\n",
    "    svc = svm.SVC(C=1., kernel='linear')\n",
    "    svc.fit(X_train, y_train)\n",
    "    tr_acc = metrics.accuracy_score(y_train, svc.predict(X_train))\n",
    "    ts_acc = metrics.accuracy_score(y_test, svc.predict(X_test))\n",
    "    coef.append(svc.coef_)\n",
    "    print('----')\n",
    "    print(tr_acc)\n",
    "    print(ts_acc)\n",
    "    accs.append(ts_acc)"
   ]
  },
  {
   "cell_type": "code",
   "execution_count": 91,
   "metadata": {},
   "outputs": [
    {
     "data": {
      "text/plain": [
       "0.6066666666666667"
      ]
     },
     "execution_count": 91,
     "metadata": {},
     "output_type": "execute_result"
    }
   ],
   "source": [
    "np.mean(accs)"
   ]
  },
  {
   "cell_type": "code",
   "execution_count": 93,
   "metadata": {},
   "outputs": [],
   "source": [
    "coef = np.concatenate(coef, axis=0)"
   ]
  },
  {
   "cell_type": "code",
   "execution_count": 95,
   "metadata": {},
   "outputs": [
    {
     "data": {
      "text/plain": [
       "array([ 1.26003412e-03,  0.00000000e+00, -6.51329065e-03,  5.66434336e-03,\n",
       "        0.00000000e+00, -4.02850845e-03,  9.29842391e-03,  7.81819603e-04,\n",
       "       -5.01785796e-05,  5.05689596e-03,  2.77900197e-02,  4.73992674e-04,\n",
       "        6.15384615e-04, -2.11558442e-03, -8.44137415e-02,  1.33333333e-03,\n",
       "        0.00000000e+00,  1.13390466e-02,  2.71491597e-03, -4.82938459e-02,\n",
       "        0.00000000e+00,  5.06128461e-02, -6.49548310e-02, -1.39876934e-01,\n",
       "        2.87167652e-03, -2.37769398e-03, -1.23019386e-02,  0.00000000e+00,\n",
       "       -2.51339086e-02,  0.00000000e+00,  0.00000000e+00, -6.92906107e-04,\n",
       "       -2.88560120e-03, -7.43859709e-03, -2.06627326e-03,  1.03879320e-02,\n",
       "       -1.87998104e-05, -9.12498393e-02,  0.00000000e+00,  1.40053993e-03,\n",
       "        0.00000000e+00,  4.91080554e-02,  0.00000000e+00,  7.70308123e-05,\n",
       "        0.00000000e+00,  4.48819345e-03,  2.85170118e-02,  1.26060606e-03,\n",
       "       -2.63838384e-03,  2.17777778e-03, -2.28649158e-03, -1.17695237e-02,\n",
       "        1.46240527e-03,  7.53690368e-03,  0.00000000e+00,  0.00000000e+00,\n",
       "       -1.35844471e-03,  9.73622410e-03, -2.43016206e-02, -6.23418151e-02,\n",
       "       -8.80287945e-04, -2.97562622e-03,  4.75309782e-03,  6.28279101e-03,\n",
       "       -2.80952381e-03, -2.01221969e-02, -2.05218126e-03, -8.22638530e-03,\n",
       "       -3.56863137e-03,  8.06837607e-04,  3.77852474e-03,  1.00930556e-01,\n",
       "        8.47431042e-04,  2.30783252e-03, -1.35519506e-02,  2.32470862e-03,\n",
       "        0.00000000e+00,  0.00000000e+00,  5.11607025e-03,  7.13860993e-04,\n",
       "        9.44108294e-04,  6.05635300e-05, -7.92129439e-05,  3.25327222e-03,\n",
       "        1.37167041e-02,  2.11952305e-03, -6.07983898e-02,  5.99887109e-02,\n",
       "       -5.80461005e-02,  0.00000000e+00, -9.46256014e-04,  1.63139465e-02,\n",
       "        1.19412435e-03,  1.29784270e-02,  1.11554885e-02,  8.31883731e-03,\n",
       "        0.00000000e+00,  2.12168394e-02, -2.04162178e-03,  2.23838384e-03,\n",
       "        1.38113351e-02,  4.07980497e-02,  2.61100525e-03,  8.84360622e-02,\n",
       "        1.05122268e-02,  2.22008289e-02, -9.01388942e-04, -7.68794097e-03,\n",
       "        1.89096974e-02, -7.63677408e-03,  1.70150177e-03,  2.01077708e-02,\n",
       "        0.00000000e+00,  2.01264207e-02,  0.00000000e+00,  2.04987505e-02,\n",
       "       -1.49889816e-03, -8.88888889e-04, -1.37779693e-03,  2.61437908e-05,\n",
       "        7.60927961e-04,  1.19816021e-02,  6.44023428e-03,  0.00000000e+00,\n",
       "        1.11554321e-02, -6.85972851e-04,  0.00000000e+00, -7.90882777e-03,\n",
       "       -7.48190990e-04, -8.00000000e-04,  0.00000000e+00, -8.82499028e-04,\n",
       "        1.22138189e-03,  1.60445928e-02, -4.39661589e-02,  2.33088756e-02,\n",
       "        4.25181899e-03,  5.41200320e-03,  2.76550199e-03,  7.08426333e-03,\n",
       "        2.04761905e-03,  9.60132465e-03,  0.00000000e+00, -5.07474012e-03,\n",
       "        6.66666667e-04, -7.27272727e-04,  0.00000000e+00,  1.29484714e-02,\n",
       "        0.00000000e+00, -6.51620272e-03,  0.00000000e+00,  1.05672515e-03,\n",
       "        0.00000000e+00,  1.60199076e-03, -2.82828283e-04,  0.00000000e+00,\n",
       "        3.95620066e-04,  2.77411477e-03,  0.00000000e+00, -7.32932865e-02,\n",
       "        1.10486014e-02, -1.17620591e-04,  1.08691584e-01,  2.61081959e-03,\n",
       "        1.78104225e-02, -2.87991788e-02,  0.00000000e+00,  1.20032866e-03,\n",
       "        1.63509125e-02,  9.47262363e-03, -6.63636364e-04,  3.13365015e-02,\n",
       "        2.67541348e-03,  2.21014364e-02,  0.00000000e+00,  5.27116544e-03,\n",
       "        0.00000000e+00, -3.03548940e-03,  8.25430125e-04,  5.79603298e-03,\n",
       "        5.63180445e-03, -3.91219845e-03, -8.68257601e-04,  6.02531878e-03,\n",
       "        4.24599409e-03, -8.48871241e-03, -1.84399905e-02,  2.15944788e-02,\n",
       "       -9.76835762e-03,  5.98334004e-03,  4.54794875e-02, -1.01532496e-02,\n",
       "        0.00000000e+00,  2.31715678e-03,  3.30607811e-02,  5.10421356e-03,\n",
       "        0.00000000e+00, -6.87521645e-03,  0.00000000e+00,  2.30147382e-03,\n",
       "        1.27965145e-03,  3.16917127e-03, -5.84263046e-03,  0.00000000e+00,\n",
       "       -3.57181596e-02, -5.75715344e-03,  1.65751893e-02, -5.10712669e-03,\n",
       "       -1.87920170e-03,  0.00000000e+00, -1.17793518e-03, -1.94289976e-02,\n",
       "        0.00000000e+00,  0.00000000e+00,  2.79826840e-03,  0.00000000e+00,\n",
       "        0.00000000e+00, -6.52641874e-03,  0.00000000e+00,  0.00000000e+00,\n",
       "        1.06666667e-03,  1.16042781e-04,  0.00000000e+00, -1.75125530e-02,\n",
       "        0.00000000e+00,  0.00000000e+00,  8.47605198e-03,  3.13524642e-02,\n",
       "        7.34857080e-04,  0.00000000e+00,  1.58279891e-02,  2.18452989e-02,\n",
       "       -5.95026281e-03,  3.51522913e-02,  2.06499780e-03, -5.71428571e-04,\n",
       "        0.00000000e+00,  0.00000000e+00,  4.72234074e-02,  0.00000000e+00,\n",
       "       -2.44896844e-03,  0.00000000e+00,  1.55289333e-02, -1.37266955e-03,\n",
       "       -5.68493714e-02, -1.40268620e-03,  1.92247051e-03,  2.84311299e-02,\n",
       "       -3.52212704e-03,  1.91856771e-03,  6.15384615e-04,  3.03981165e-03,\n",
       "        3.30154407e-03,  4.83840843e-02, -5.18692869e-04, -9.88087175e-03,\n",
       "        0.00000000e+00,  4.44444444e-04,  1.12727273e-03,  1.49633700e-03,\n",
       "        0.00000000e+00,  6.97316980e-03,  2.95402496e-02, -1.38745976e-01,\n",
       "        0.00000000e+00,  0.00000000e+00,  4.69789506e-04, -3.42857143e-03,\n",
       "       -2.41965281e-04, -2.04479578e-03,  2.32245532e-04,  0.00000000e+00,\n",
       "        1.61400739e-03,  8.57400604e-03,  0.00000000e+00,  0.00000000e+00,\n",
       "        1.34590264e-03,  3.31521058e-02,  8.41633405e-04,  9.72370730e-03,\n",
       "       -3.60712129e-03,  1.33333333e-03,  5.50476190e-03,  5.18853695e-03,\n",
       "        1.99890402e-03, -1.52747253e-03,  2.06785401e-03,  2.05132832e-03,\n",
       "       -2.07290885e-03,  2.09445621e-02,  0.00000000e+00,  0.00000000e+00,\n",
       "        8.00000000e-04, -3.49592305e-02,  1.02242333e-02,  1.06179774e-02,\n",
       "        1.51515838e-02,  0.00000000e+00,  3.22872439e-03, -2.84603084e-02,\n",
       "       -1.39236694e-03,  8.37398273e-03,  3.37254902e-04, -1.37032510e-03,\n",
       "        0.00000000e+00,  2.53959549e-02,  6.35954372e-03,  0.00000000e+00,\n",
       "        0.00000000e+00, -4.43755334e-03, -1.88235294e-03,  8.24017259e-03,\n",
       "        0.00000000e+00,  0.00000000e+00,  3.25826245e-02,  3.43193800e-03,\n",
       "       -3.84966471e-03,  0.00000000e+00,  4.91284483e-02,  1.52341543e-02,\n",
       "        6.77791918e-03,  0.00000000e+00,  0.00000000e+00,  1.23359155e-02,\n",
       "        3.06165960e-02,  1.00536179e-04,  0.00000000e+00, -2.32336081e-03,\n",
       "       -4.38562238e-03,  5.71428571e-04,  0.00000000e+00,  1.94147060e-02,\n",
       "       -2.92717192e-03, -1.66066940e-03, -1.65527689e-03, -7.86802413e-03,\n",
       "        0.00000000e+00,  1.37085614e-02, -6.15384615e-04, -8.27356483e-03,\n",
       "        1.13299034e-02,  3.44611331e-03, -5.76131178e-03,  1.53250492e-02,\n",
       "        5.05407795e-03,  1.20993706e-02,  0.00000000e+00, -4.20553360e-04,\n",
       "        1.23296596e-03,  1.15281186e-02,  6.03689859e-05,  0.00000000e+00,\n",
       "       -9.87565067e-04, -6.06060606e-05, -9.25038319e-02,  1.43923445e-03,\n",
       "       -2.23156579e-02,  0.00000000e+00,  4.76111655e-03, -2.79987505e-04,\n",
       "       -9.63103549e-03,  0.00000000e+00,  3.27592869e-02,  1.98212898e-04,\n",
       "       -1.04021365e-01,  3.87486140e-03, -4.70588235e-04, -4.74208145e-04,\n",
       "        0.00000000e+00,  2.89012294e-02, -8.66234110e-04, -4.70588235e-04,\n",
       "        0.00000000e+00,  3.72154442e-02,  3.51376212e-04, -3.02222222e-03,\n",
       "       -2.57368364e-02, -6.97552561e-03, -1.45853144e-02,  7.34859341e-03,\n",
       "        6.15384615e-04,  0.00000000e+00, -3.82116167e-03,  2.27543860e-03,\n",
       "        7.25868235e-02,  4.63478661e-03, -2.60477234e-02,  0.00000000e+00,\n",
       "        0.00000000e+00,  9.72410302e-02,  4.78409678e-02,  9.42451703e-03,\n",
       "        0.00000000e+00,  0.00000000e+00,  1.87500806e-02,  6.61176649e-02,\n",
       "        1.17440363e-02,  0.00000000e+00, -7.97697491e-03, -1.23490340e-03,\n",
       "       -9.35279962e-03, -4.75729133e-02, -3.91191815e-03,  7.14386559e-02,\n",
       "       -1.36883448e-03,  4.04250033e-03,  6.69152924e-03, -2.41269841e-04,\n",
       "       -1.77777778e-03,  1.47295091e-02,  0.00000000e+00,  4.21634343e-02,\n",
       "        6.78512690e-03,  5.81958695e-03,  1.25630523e-02,  2.56951048e-03,\n",
       "        0.00000000e+00,  0.00000000e+00,  0.00000000e+00,  3.98588780e-03,\n",
       "        0.00000000e+00, -8.61902495e-03, -7.34547945e-03,  8.27076469e-03,\n",
       "       -8.69505955e-03,  5.64732832e-03,  2.66259231e-04,  2.65012600e-02,\n",
       "        1.78274466e-02,  0.00000000e+00,  1.70244761e-02,  3.97313283e-03,\n",
       "        1.16939722e-03,  5.45192326e-04, -2.82051282e-04,  3.21340109e-03,\n",
       "        6.01540482e-02,  1.86980976e-02,  1.28948970e-02,  1.69452713e-04,\n",
       "        2.61217998e-03,  3.12982258e-03,  7.22507467e-03, -1.34265734e-03,\n",
       "       -8.37739870e-03, -6.75680903e-03,  5.95357927e-03,  7.73707892e-03,\n",
       "       -4.64773272e-03,  0.00000000e+00,  7.34274619e-03,  0.00000000e+00,\n",
       "        2.06680740e-02, -3.40814950e-03,  0.00000000e+00, -6.55203620e-04,\n",
       "       -8.52084757e-05,  1.92800472e-02, -2.92538876e-03,  0.00000000e+00,\n",
       "        7.00013279e-02, -4.32415618e-03,  6.13310384e-03, -4.86974800e-03,\n",
       "        1.60767794e-03,  1.37763780e-03,  9.85558102e-03,  0.00000000e+00,\n",
       "        1.57331252e-02,  5.32229827e-03,  0.00000000e+00, -6.77687132e-03,\n",
       "        6.11528822e-04, -5.73224793e-01, -1.01587302e-03,  6.98412698e-04,\n",
       "        0.00000000e+00,  0.00000000e+00,  1.88179504e-03,  7.69977074e-03,\n",
       "        8.81291701e-03,  3.92373583e-04,  6.15384615e-04,  7.77419981e-03,\n",
       "        1.91269350e-03,  5.71428571e-04,  4.44444444e-04, -1.01216705e-02,\n",
       "       -1.76125384e-01,  4.82699932e-03, -7.77777778e-04,  6.88465692e-03,\n",
       "        2.08524395e-03,  0.00000000e+00,  1.58609525e-02, -4.52329483e-03,\n",
       "        0.00000000e+00,  7.51643303e-03,  2.15873016e-04,  1.21150886e-02,\n",
       "       -2.15384615e-04,  5.15255505e-04,  3.61791570e-03,  8.45867721e-03,\n",
       "        5.25140664e-03,  0.00000000e+00, -1.06085540e-02, -6.44527196e-04,\n",
       "       -2.53609315e-03,  0.00000000e+00, -3.63636364e-04, -2.80649351e-03,\n",
       "       -5.14069289e-03,  7.01698302e-04, -3.35904597e-03,  0.00000000e+00,\n",
       "        3.39268135e-03, -3.15778627e-03,  0.00000000e+00,  4.91298677e-02,\n",
       "        6.65873016e-03,  4.83449801e-03, -3.29059829e-04,  1.91691544e-02,\n",
       "        0.00000000e+00,  2.26914523e-03,  2.64529435e-03,  8.74808127e-03,\n",
       "       -5.18114595e-03, -2.96758340e-03,  2.04340362e-02,  2.00632000e-03,\n",
       "        7.54778555e-04,  2.81394968e-03,  0.00000000e+00,  1.09387172e-02,\n",
       "       -1.37272727e-03,  2.68354916e-02,  5.00000000e-04, -1.59138230e-03,\n",
       "        6.89997513e-03,  1.86266133e-02,  0.00000000e+00, -2.35650956e-03,\n",
       "        0.00000000e+00, -6.57953024e-03, -3.65792960e-01, -1.40625387e-02,\n",
       "       -1.52981905e-03,  6.71328577e-03, -3.45209793e-02, -5.18181646e-02,\n",
       "       -5.00945079e-03, -2.24379200e-01,  1.64229413e-02, -7.29879450e-03,\n",
       "        3.46708181e-03,  2.94827264e-03,  7.43386313e-04,  7.24150449e-03,\n",
       "       -1.02802461e-03,  2.08981241e-03,  1.71034428e-01, -2.40969793e-02,\n",
       "       -1.78717441e-02,  4.81538462e-03,  7.42372172e-03, -9.22266140e-05,\n",
       "        7.69490523e-03,  1.33695077e-03, -1.60647880e-03, -2.82619194e-03,\n",
       "       -1.30953936e-03,  8.93243380e-03,  4.92738495e-01, -3.95480080e-03,\n",
       "        0.00000000e+00, -9.88046929e-04,  0.00000000e+00,  0.00000000e+00,\n",
       "        0.00000000e+00, -1.79569082e-02,  8.01293653e-03,  7.12002973e-04,\n",
       "        2.66666667e-03, -5.16488493e-03,  1.33310747e-03,  0.00000000e+00,\n",
       "       -2.33718634e-03,  3.22549252e-03,  0.00000000e+00,  2.90858766e-02,\n",
       "        4.33542768e-03, -4.01002506e-05, -6.22304615e-03,  3.20000000e-04,\n",
       "       -8.04350720e-03,  3.63295541e-02,  1.53873316e-02,  4.83838384e-04,\n",
       "       -6.61055456e-04,  1.71909231e-02,  0.00000000e+00,  0.00000000e+00,\n",
       "        0.00000000e+00,  2.18523309e-02, -1.25482496e-02,  0.00000000e+00,\n",
       "       -1.34859210e-03,  2.58904863e-02, -5.33333333e-04,  1.72784148e-02,\n",
       "        1.47111755e-02, -2.80395160e-03,  0.00000000e+00,  3.16653756e-03,\n",
       "       -1.42813644e-02, -2.20328871e-02, -4.15299374e-02,  3.26335804e-03,\n",
       "       -2.26040616e-02, -1.42587249e-02,  8.55148831e-04,  5.18391120e-02,\n",
       "        5.81796295e-02,  2.38095238e-04,  4.73577884e-04, -5.56854257e-04,\n",
       "        4.08281789e-02,  2.20540488e-03, -1.59813893e-02, -1.59354340e-04,\n",
       "       -9.35272459e-03,  4.21052632e-04,  1.38226776e-02,  4.54596910e-03,\n",
       "        2.29696970e-03, -1.05491015e-02,  0.00000000e+00, -2.53675992e-02,\n",
       "        1.90419805e-02,  3.92946491e-03,  2.18348915e-03,  5.78588293e-03,\n",
       "        1.18087142e-03,  3.26411681e-03,  3.99241787e-03,  8.25081792e-03,\n",
       "        3.08011204e-03, -1.46048501e-01])"
      ]
     },
     "execution_count": 95,
     "metadata": {},
     "output_type": "execute_result"
    }
   ],
   "source": [
    "coef.mean(axis=0)"
   ]
  },
  {
   "cell_type": "code",
   "execution_count": 96,
   "metadata": {},
   "outputs": [],
   "source": [
    "rr2 = []\n",
    "for ix, s in vocab.items():\n",
    "    rr2.append({\n",
    "        'stem': s,\n",
    "        'mean': coef.mean(axis=0)[ix],\n",
    "        'min': coef.min(axis=0)[ix],\n",
    "        'max': coef.max(axis=0)[ix],\n",
    "        'std': coef.std(axis=0)[ix],\n",
    "    })\n",
    "rr2 = pd.DataFrame(rr2)"
   ]
  },
  {
   "cell_type": "code",
   "execution_count": 97,
   "metadata": {},
   "outputs": [
    {
     "data": {
      "text/html": [
       "<div>\n",
       "<style scoped>\n",
       "    .dataframe tbody tr th:only-of-type {\n",
       "        vertical-align: middle;\n",
       "    }\n",
       "\n",
       "    .dataframe tbody tr th {\n",
       "        vertical-align: top;\n",
       "    }\n",
       "\n",
       "    .dataframe thead th {\n",
       "        text-align: right;\n",
       "    }\n",
       "</style>\n",
       "<table border=\"1\" class=\"dataframe\">\n",
       "  <thead>\n",
       "    <tr style=\"text-align: right;\">\n",
       "      <th></th>\n",
       "      <th>stem</th>\n",
       "      <th>mean</th>\n",
       "      <th>min</th>\n",
       "      <th>max</th>\n",
       "      <th>std</th>\n",
       "    </tr>\n",
       "  </thead>\n",
       "  <tbody>\n",
       "    <tr>\n",
       "      <th>0</th>\n",
       "      <td>abl</td>\n",
       "      <td>0.001260</td>\n",
       "      <td>0.000226</td>\n",
       "      <td>0.002213</td>\n",
       "      <td>0.000811</td>\n",
       "    </tr>\n",
       "    <tr>\n",
       "      <th>1</th>\n",
       "      <td>absolut</td>\n",
       "      <td>-0.006513</td>\n",
       "      <td>-0.011689</td>\n",
       "      <td>-0.002018</td>\n",
       "      <td>0.003278</td>\n",
       "    </tr>\n",
       "    <tr>\n",
       "      <th>2</th>\n",
       "      <td>abus</td>\n",
       "      <td>0.005664</td>\n",
       "      <td>-0.000226</td>\n",
       "      <td>0.021689</td>\n",
       "      <td>0.008168</td>\n",
       "    </tr>\n",
       "    <tr>\n",
       "      <th>3</th>\n",
       "      <td>action</td>\n",
       "      <td>-0.004029</td>\n",
       "      <td>-0.011991</td>\n",
       "      <td>0.003861</td>\n",
       "      <td>0.005431</td>\n",
       "    </tr>\n",
       "    <tr>\n",
       "      <th>4</th>\n",
       "      <td>administr</td>\n",
       "      <td>0.009298</td>\n",
       "      <td>0.001977</td>\n",
       "      <td>0.014887</td>\n",
       "      <td>0.004238</td>\n",
       "    </tr>\n",
       "  </tbody>\n",
       "</table>\n",
       "</div>"
      ],
      "text/plain": [
       "        stem      mean       min       max       std\n",
       "0        abl  0.001260  0.000226  0.002213  0.000811\n",
       "1    absolut -0.006513 -0.011689 -0.002018  0.003278\n",
       "2       abus  0.005664 -0.000226  0.021689  0.008168\n",
       "3     action -0.004029 -0.011991  0.003861  0.005431\n",
       "4  administr  0.009298  0.001977  0.014887  0.004238"
      ]
     },
     "execution_count": 97,
     "metadata": {},
     "output_type": "execute_result"
    }
   ],
   "source": [
    "rr2.head()"
   ]
  },
  {
   "cell_type": "code",
   "execution_count": 103,
   "metadata": {},
   "outputs": [
    {
     "data": {
      "text/plain": [
       "565"
      ]
     },
     "execution_count": 103,
     "metadata": {},
     "output_type": "execute_result"
    }
   ],
   "source": [
    "len(rr2)"
   ]
  },
  {
   "cell_type": "code",
   "execution_count": 104,
   "metadata": {},
   "outputs": [
    {
     "data": {
      "text/plain": [
       "414"
      ]
     },
     "execution_count": 104,
     "metadata": {},
     "output_type": "execute_result"
    }
   ],
   "source": [
    "len(rr2[rr2['max'] > 0])"
   ]
  },
  {
   "cell_type": "code",
   "execution_count": 105,
   "metadata": {},
   "outputs": [],
   "source": [
    "dfl = rr2[rr2['max'] > 0]"
   ]
  },
  {
   "cell_type": "code",
   "execution_count": 111,
   "metadata": {},
   "outputs": [],
   "source": [
    "dfl = dfl[dfl['mean'] > 0]"
   ]
  },
  {
   "cell_type": "code",
   "execution_count": 113,
   "metadata": {},
   "outputs": [],
   "source": [
    "dfl['s'] = dfl['mean'] / dfl['std']"
   ]
  },
  {
   "cell_type": "code",
   "execution_count": 120,
   "metadata": {},
   "outputs": [
    {
     "data": {
      "text/plain": [
       "93"
      ]
     },
     "execution_count": 120,
     "metadata": {},
     "output_type": "execute_result"
    }
   ],
   "source": [
    "len(dfl[dfl['min'] < 0])"
   ]
  },
  {
   "cell_type": "code",
   "execution_count": 126,
   "metadata": {},
   "outputs": [],
   "source": [
    "lex = list(dfl[(dfl['std'] < 0.001) & (dfl['min'] > 0)].stem.values)"
   ]
  },
  {
   "cell_type": "code",
   "execution_count": 129,
   "metadata": {},
   "outputs": [],
   "source": [
    "lex = list(dfl[dfl.s > 5].stem.values)"
   ]
  },
  {
   "cell_type": "code",
   "execution_count": 112,
   "metadata": {},
   "outputs": [
    {
     "data": {
      "text/plain": [
       "<matplotlib.axes._subplots.AxesSubplot at 0x7f1ce2ad2dd0>"
      ]
     },
     "execution_count": 112,
     "metadata": {},
     "output_type": "execute_result"
    },
    {
     "data": {
      "image/png": "[encoded data removed]",
      "text/plain": [
       "<Figure size 432x288 with 1 Axes>"
      ]
     },
     "metadata": {},
     "output_type": "display_data"
    }
   ],
   "source": [
    "sns.distplot(dfl['mean'] / dfl['std'])"
   ]
  },
  {
   "cell_type": "code",
   "execution_count": null,
   "metadata": {},
   "outputs": [],
   "source": []
  },
  {
   "cell_type": "code",
   "execution_count": null,
   "metadata": {},
   "outputs": [],
   "source": []
  },
  {
   "cell_type": "code",
   "execution_count": 71,
   "metadata": {},
   "outputs": [
    {
     "data": {
      "text/plain": [
       "SVC(C=1.0, break_ties=False, cache_size=200, class_weight=None, coef0=0.0,\n",
       "    decision_function_shape='ovr', degree=3, gamma='scale', kernel='linear',\n",
       "    max_iter=-1, probability=False, random_state=None, shrinking=True,\n",
       "    tol=0.001, verbose=False)"
      ]
     },
     "execution_count": 71,
     "metadata": {},
     "output_type": "execute_result"
    }
   ],
   "source": [
    "from sklearn import svm\n",
    "\n",
    "svc = svm.SVC(C=1., kernel='linear')\n",
    "svc.fit(feats, labels)"
   ]
  },
  {
   "cell_type": "code",
   "execution_count": 72,
   "metadata": {},
   "outputs": [
    {
     "name": "stdout",
     "output_type": "stream",
     "text": [
      "Help on SVC in module sklearn.svm._classes object:\n",
      "\n",
      "class SVC(sklearn.svm._base.BaseSVC)\n",
      " |  SVC(C=1.0, kernel='rbf', degree=3, gamma='scale', coef0=0.0, shrinking=True, probability=False, tol=0.001, cache_size=200, class_weight=None, verbose=False, max_iter=-1, decision_function_shape='ovr', break_ties=False, random_state=None)\n",
      " |  \n",
      " |  C-Support Vector Classification.\n",
      " |  \n",
      " |  The implementation is based on libsvm. The fit time scales at least\n",
      " |  quadratically with the number of samples and may be impractical\n",
      " |  beyond tens of thousands of samples. For large datasets\n",
      " |  consider using :class:`sklearn.svm.LinearSVC` or\n",
      " |  :class:`sklearn.linear_model.SGDClassifier` instead, possibly after a\n",
      " |  :class:`sklearn.kernel_approximation.Nystroem` transformer.\n",
      " |  \n",
      " |  The multiclass support is handled according to a one-vs-one scheme.\n",
      " |  \n",
      " |  For details on the precise mathematical formulation of the provided\n",
      " |  kernel functions and how `gamma`, `coef0` and `degree` affect each\n",
      " |  other, see the corresponding section in the narrative documentation:\n",
      " |  :ref:`svm_kernels`.\n",
      " |  \n",
      " |  Read more in the :ref:`User Guide <svm_classification>`.\n",
      " |  \n",
      " |  Parameters\n",
      " |  ----------\n",
      " |  C : float, optional (default=1.0)\n",
      " |      Regularization parameter. The strength of the regularization is\n",
      " |      inversely proportional to C. Must be strictly positive. The penalty\n",
      " |      is a squared l2 penalty.\n",
      " |  \n",
      " |  kernel : string, optional (default='rbf')\n",
      " |      Specifies the kernel type to be used in the algorithm.\n",
      " |      It must be one of 'linear', 'poly', 'rbf', 'sigmoid', 'precomputed' or\n",
      " |      a callable.\n",
      " |      If none is given, 'rbf' will be used. If a callable is given it is\n",
      " |      used to pre-compute the kernel matrix from data matrices; that matrix\n",
      " |      should be an array of shape ``(n_samples, n_samples)``.\n",
      " |  \n",
      " |  degree : int, optional (default=3)\n",
      " |      Degree of the polynomial kernel function ('poly').\n",
      " |      Ignored by all other kernels.\n",
      " |  \n",
      " |  gamma : {'scale', 'auto'} or float, optional (default='scale')\n",
      " |      Kernel coefficient for 'rbf', 'poly' and 'sigmoid'.\n",
      " |  \n",
      " |      - if ``gamma='scale'`` (default) is passed then it uses\n",
      " |        1 / (n_features * X.var()) as value of gamma,\n",
      " |      - if 'auto', uses 1 / n_features.\n",
      " |  \n",
      " |      .. versionchanged:: 0.22\n",
      " |         The default value of ``gamma`` changed from 'auto' to 'scale'.\n",
      " |  \n",
      " |  coef0 : float, optional (default=0.0)\n",
      " |      Independent term in kernel function.\n",
      " |      It is only significant in 'poly' and 'sigmoid'.\n",
      " |  \n",
      " |  shrinking : boolean, optional (default=True)\n",
      " |      Whether to use the shrinking heuristic.\n",
      " |  \n",
      " |  probability : boolean, optional (default=False)\n",
      " |      Whether to enable probability estimates. This must be enabled prior\n",
      " |      to calling `fit`, will slow down that method as it internally uses\n",
      " |      5-fold cross-validation, and `predict_proba` may be inconsistent with\n",
      " |      `predict`. Read more in the :ref:`User Guide <scores_probabilities>`.\n",
      " |  \n",
      " |  tol : float, optional (default=1e-3)\n",
      " |      Tolerance for stopping criterion.\n",
      " |  \n",
      " |  cache_size : float, optional\n",
      " |      Specify the size of the kernel cache (in MB).\n",
      " |  \n",
      " |  class_weight : {dict, 'balanced'}, optional\n",
      " |      Set the parameter C of class i to class_weight[i]*C for\n",
      " |      SVC. If not given, all classes are supposed to have\n",
      " |      weight one.\n",
      " |      The \"balanced\" mode uses the values of y to automatically adjust\n",
      " |      weights inversely proportional to class frequencies in the input data\n",
      " |      as ``n_samples / (n_classes * np.bincount(y))``\n",
      " |  \n",
      " |  verbose : bool, default: False\n",
      " |      Enable verbose output. Note that this setting takes advantage of a\n",
      " |      per-process runtime setting in libsvm that, if enabled, may not work\n",
      " |      properly in a multithreaded context.\n",
      " |  \n",
      " |  max_iter : int, optional (default=-1)\n",
      " |      Hard limit on iterations within solver, or -1 for no limit.\n",
      " |  \n",
      " |  decision_function_shape : 'ovo', 'ovr', default='ovr'\n",
      " |      Whether to return a one-vs-rest ('ovr') decision function of shape\n",
      " |      (n_samples, n_classes) as all other classifiers, or the original\n",
      " |      one-vs-one ('ovo') decision function of libsvm which has shape\n",
      " |      (n_samples, n_classes * (n_classes - 1) / 2). However, one-vs-one\n",
      " |      ('ovo') is always used as multi-class strategy.\n",
      " |  \n",
      " |      .. versionchanged:: 0.19\n",
      " |          decision_function_shape is 'ovr' by default.\n",
      " |  \n",
      " |      .. versionadded:: 0.17\n",
      " |         *decision_function_shape='ovr'* is recommended.\n",
      " |  \n",
      " |      .. versionchanged:: 0.17\n",
      " |         Deprecated *decision_function_shape='ovo' and None*.\n",
      " |  \n",
      " |  break_ties : bool, optional (default=False)\n",
      " |      If true, ``decision_function_shape='ovr'``, and number of classes > 2,\n",
      " |      :term:`predict` will break ties according to the confidence values of\n",
      " |      :term:`decision_function`; otherwise the first class among the tied\n",
      " |      classes is returned. Please note that breaking ties comes at a\n",
      " |      relatively high computational cost compared to a simple predict.\n",
      " |  \n",
      " |      .. versionadded:: 0.22\n",
      " |  \n",
      " |  random_state : int, RandomState instance or None, optional (default=None)\n",
      " |      The seed of the pseudo random number generator used when shuffling\n",
      " |      the data for probability estimates. If int, random_state is the\n",
      " |      seed used by the random number generator; If RandomState instance,\n",
      " |      random_state is the random number generator; If None, the random\n",
      " |      number generator is the RandomState instance used by `np.random`.\n",
      " |  \n",
      " |  Attributes\n",
      " |  ----------\n",
      " |  support_ : array-like of shape (n_SV)\n",
      " |      Indices of support vectors.\n",
      " |  \n",
      " |  support_vectors_ : array-like of shape (n_SV, n_features)\n",
      " |      Support vectors.\n",
      " |  \n",
      " |  n_support_ : array-like, dtype=int32, shape = [n_class]\n",
      " |      Number of support vectors for each class.\n",
      " |  \n",
      " |  dual_coef_ : array, shape = [n_class-1, n_SV]\n",
      " |      Coefficients of the support vector in the decision function.\n",
      " |      For multiclass, coefficient for all 1-vs-1 classifiers.\n",
      " |      The layout of the coefficients in the multiclass case is somewhat\n",
      " |      non-trivial. See the section about multi-class classification in the\n",
      " |      SVM section of the User Guide for details.\n",
      " |  \n",
      " |  coef_ : array, shape = [n_class * (n_class-1) / 2, n_features]\n",
      " |      Weights assigned to the features (coefficients in the primal\n",
      " |      problem). This is only available in the case of a linear kernel.\n",
      " |  \n",
      " |      `coef_` is a readonly property derived from `dual_coef_` and\n",
      " |      `support_vectors_`.\n",
      " |  \n",
      " |  intercept_ : ndarray of shape (n_class * (n_class-1) / 2,)\n",
      " |      Constants in decision function.\n",
      " |  \n",
      " |  fit_status_ : int\n",
      " |      0 if correctly fitted, 1 otherwise (will raise warning)\n",
      " |  \n",
      " |  classes_ : array of shape (n_classes,)\n",
      " |      The classes labels.\n",
      " |  \n",
      " |  probA_ : array, shape = [n_class * (n_class-1) / 2]\n",
      " |  probB_ : array, shape = [n_class * (n_class-1) / 2]\n",
      " |      If `probability=True`, it corresponds to the parameters learned in\n",
      " |      Platt scaling to produce probability estimates from decision values.\n",
      " |      If `probability=False`, it's an empty array. Platt scaling uses the\n",
      " |      logistic function\n",
      " |      ``1 / (1 + exp(decision_value * probA_ + probB_))``\n",
      " |      where ``probA_`` and ``probB_`` are learned from the dataset [2]_. For\n",
      " |      more information on the multiclass case and training procedure see\n",
      " |      section 8 of [1]_.\n",
      " |  \n",
      " |  class_weight_ : ndarray of shape (n_class,)\n",
      " |      Multipliers of parameter C for each class.\n",
      " |      Computed based on the ``class_weight`` parameter.\n",
      " |  \n",
      " |  shape_fit_ : tuple of int of shape (n_dimensions_of_X,)\n",
      " |      Array dimensions of training vector ``X``.\n",
      " |  \n",
      " |  Examples\n",
      " |  --------\n",
      " |  >>> import numpy as np\n",
      " |  >>> X = np.array([[-1, -1], [-2, -1], [1, 1], [2, 1]])\n",
      " |  >>> y = np.array([1, 1, 2, 2])\n",
      " |  >>> from sklearn.svm import SVC\n",
      " |  >>> clf = SVC(gamma='auto')\n",
      " |  >>> clf.fit(X, y)\n",
      " |  SVC(gamma='auto')\n",
      " |  >>> print(clf.predict([[-0.8, -1]]))\n",
      " |  [1]\n",
      " |  \n",
      " |  See also\n",
      " |  --------\n",
      " |  SVR\n",
      " |      Support Vector Machine for Regression implemented using libsvm.\n",
      " |  \n",
      " |  LinearSVC\n",
      " |      Scalable Linear Support Vector Machine for classification\n",
      " |      implemented using liblinear. Check the See also section of\n",
      " |      LinearSVC for more comparison element.\n",
      " |  \n",
      " |  References\n",
      " |  ----------\n",
      " |  .. [1] `LIBSVM: A Library for Support Vector Machines\n",
      " |      <http://www.csie.ntu.edu.tw/~cjlin/papers/libsvm.pdf>`_\n",
      " |  \n",
      " |  .. [2] `Platt, John (1999). \"Probabilistic outputs for support vector\n",
      " |      machines and comparison to regularizedlikelihood methods.\"\n",
      " |      <http://citeseer.ist.psu.edu/viewdoc/summary?doi=10.1.1.41.1639>`_\n",
      " |  \n",
      " |  Method resolution order:\n",
      " |      SVC\n",
      " |      sklearn.svm._base.BaseSVC\n",
      " |      sklearn.base.ClassifierMixin\n",
      " |      sklearn.svm._base.BaseLibSVM\n",
      " |      sklearn.base.BaseEstimator\n",
      " |      builtins.object\n",
      " |  \n",
      " |  Methods defined here:\n",
      " |  \n",
      " |  __init__(self, C=1.0, kernel='rbf', degree=3, gamma='scale', coef0=0.0, shrinking=True, probability=False, tol=0.001, cache_size=200, class_weight=None, verbose=False, max_iter=-1, decision_function_shape='ovr', break_ties=False, random_state=None)\n",
      " |      Initialize self.  See help(type(self)) for accurate signature.\n",
      " |  \n",
      " |  ----------------------------------------------------------------------\n",
      " |  Data and other attributes defined here:\n",
      " |  \n",
      " |  __abstractmethods__ = frozenset()\n",
      " |  \n",
      " |  ----------------------------------------------------------------------\n",
      " |  Methods inherited from sklearn.svm._base.BaseSVC:\n",
      " |  \n",
      " |  decision_function(self, X)\n",
      " |      Evaluates the decision function for the samples in X.\n",
      " |      \n",
      " |      Parameters\n",
      " |      ----------\n",
      " |      X : array-like, shape (n_samples, n_features)\n",
      " |      \n",
      " |      Returns\n",
      " |      -------\n",
      " |      X : array-like, shape (n_samples, n_classes * (n_classes-1) / 2)\n",
      " |          Returns the decision function of the sample for each class\n",
      " |          in the model.\n",
      " |          If decision_function_shape='ovr', the shape is (n_samples,\n",
      " |          n_classes).\n",
      " |      \n",
      " |      Notes\n",
      " |      -----\n",
      " |      If decision_function_shape='ovo', the function values are proportional\n",
      " |      to the distance of the samples X to the separating hyperplane. If the\n",
      " |      exact distances are required, divide the function values by the norm of\n",
      " |      the weight vector (``coef_``). See also `this question\n",
      " |      <https://stats.stackexchange.com/questions/14876/\n",
      " |      interpreting-distance-from-hyperplane-in-svm>`_ for further details.\n",
      " |      If decision_function_shape='ovr', the decision function is a monotonic\n",
      " |      transformation of ovo decision function.\n",
      " |  \n",
      " |  predict(self, X)\n",
      " |      Perform classification on samples in X.\n",
      " |      \n",
      " |      For an one-class model, +1 or -1 is returned.\n",
      " |      \n",
      " |      Parameters\n",
      " |      ----------\n",
      " |      X : {array-like, sparse matrix}, shape (n_samples, n_features)\n",
      " |          For kernel=\"precomputed\", the expected shape of X is\n",
      " |          [n_samples_test, n_samples_train]\n",
      " |      \n",
      " |      Returns\n",
      " |      -------\n",
      " |      y_pred : array, shape (n_samples,)\n",
      " |          Class labels for samples in X.\n",
      " |  \n",
      " |  ----------------------------------------------------------------------\n",
      " |  Data descriptors inherited from sklearn.svm._base.BaseSVC:\n",
      " |  \n",
      " |  predict_log_proba\n",
      " |      Compute log probabilities of possible outcomes for samples in X.\n",
      " |      \n",
      " |      The model need to have probability information computed at training\n",
      " |      time: fit with attribute `probability` set to True.\n",
      " |      \n",
      " |      Parameters\n",
      " |      ----------\n",
      " |      X : array-like, shape (n_samples, n_features)\n",
      " |          For kernel=\"precomputed\", the expected shape of X is\n",
      " |          [n_samples_test, n_samples_train]\n",
      " |      \n",
      " |      Returns\n",
      " |      -------\n",
      " |      T : array-like, shape (n_samples, n_classes)\n",
      " |          Returns the log-probabilities of the sample for each class in\n",
      " |          the model. The columns correspond to the classes in sorted\n",
      " |          order, as they appear in the attribute :term:`classes_`.\n",
      " |      \n",
      " |      Notes\n",
      " |      -----\n",
      " |      The probability model is created using cross validation, so\n",
      " |      the results can be slightly different than those obtained by\n",
      " |      predict. Also, it will produce meaningless results on very small\n",
      " |      datasets.\n",
      " |  \n",
      " |  predict_proba\n",
      " |      Compute probabilities of possible outcomes for samples in X.\n",
      " |      \n",
      " |      The model need to have probability information computed at training\n",
      " |      time: fit with attribute `probability` set to True.\n",
      " |      \n",
      " |      Parameters\n",
      " |      ----------\n",
      " |      X : array-like, shape (n_samples, n_features)\n",
      " |          For kernel=\"precomputed\", the expected shape of X is\n",
      " |          [n_samples_test, n_samples_train]\n",
      " |      \n",
      " |      Returns\n",
      " |      -------\n",
      " |      T : array-like, shape (n_samples, n_classes)\n",
      " |          Returns the probability of the sample for each class in\n",
      " |          the model. The columns correspond to the classes in sorted\n",
      " |          order, as they appear in the attribute :term:`classes_`.\n",
      " |      \n",
      " |      Notes\n",
      " |      -----\n",
      " |      The probability model is created using cross validation, so\n",
      " |      the results can be slightly different than those obtained by\n",
      " |      predict. Also, it will produce meaningless results on very small\n",
      " |      datasets.\n",
      " |  \n",
      " |  ----------------------------------------------------------------------\n",
      " |  Methods inherited from sklearn.base.ClassifierMixin:\n",
      " |  \n",
      " |  score(self, X, y, sample_weight=None)\n",
      " |      Return the mean accuracy on the given test data and labels.\n",
      " |      \n",
      " |      In multi-label classification, this is the subset accuracy\n",
      " |      which is a harsh metric since you require for each sample that\n",
      " |      each label set be correctly predicted.\n",
      " |      \n",
      " |      Parameters\n",
      " |      ----------\n",
      " |      X : array-like of shape (n_samples, n_features)\n",
      " |          Test samples.\n",
      " |      \n",
      " |      y : array-like of shape (n_samples,) or (n_samples, n_outputs)\n",
      " |          True labels for X.\n",
      " |      \n",
      " |      sample_weight : array-like of shape (n_samples,), default=None\n",
      " |          Sample weights.\n",
      " |      \n",
      " |      Returns\n",
      " |      -------\n",
      " |      score : float\n",
      " |          Mean accuracy of self.predict(X) wrt. y.\n",
      " |  \n",
      " |  ----------------------------------------------------------------------\n",
      " |  Data descriptors inherited from sklearn.base.ClassifierMixin:\n",
      " |  \n",
      " |  __dict__\n",
      " |      dictionary for instance variables (if defined)\n",
      " |  \n",
      " |  __weakref__\n",
      " |      list of weak references to the object (if defined)\n",
      " |  \n",
      " |  ----------------------------------------------------------------------\n",
      " |  Methods inherited from sklearn.svm._base.BaseLibSVM:\n",
      " |  \n",
      " |  fit(self, X, y, sample_weight=None)\n",
      " |      Fit the SVM model according to the given training data.\n",
      " |      \n",
      " |      Parameters\n",
      " |      ----------\n",
      " |      X : {array-like, sparse matrix}, shape (n_samples, n_features)\n",
      " |          Training vectors, where n_samples is the number of samples\n",
      " |          and n_features is the number of features.\n",
      " |          For kernel=\"precomputed\", the expected shape of X is\n",
      " |          (n_samples, n_samples).\n",
      " |      \n",
      " |      y : array-like, shape (n_samples,)\n",
      " |          Target values (class labels in classification, real numbers in\n",
      " |          regression)\n",
      " |      \n",
      " |      sample_weight : array-like, shape (n_samples,)\n",
      " |          Per-sample weights. Rescale C per sample. Higher weights\n",
      " |          force the classifier to put more emphasis on these points.\n",
      " |      \n",
      " |      Returns\n",
      " |      -------\n",
      " |      self : object\n",
      " |      \n",
      " |      Notes\n",
      " |      -----\n",
      " |      If X and y are not C-ordered and contiguous arrays of np.float64 and\n",
      " |      X is not a scipy.sparse.csr_matrix, X and/or y may be copied.\n",
      " |      \n",
      " |      If X is a dense array, then the other methods will not support sparse\n",
      " |      matrices as input.\n",
      " |  \n",
      " |  ----------------------------------------------------------------------\n",
      " |  Data descriptors inherited from sklearn.svm._base.BaseLibSVM:\n",
      " |  \n",
      " |  coef_\n",
      " |  \n",
      " |  n_support_\n",
      " |  \n",
      " |  ----------------------------------------------------------------------\n",
      " |  Methods inherited from sklearn.base.BaseEstimator:\n",
      " |  \n",
      " |  __getstate__(self)\n",
      " |  \n",
      " |  __repr__(self, N_CHAR_MAX=700)\n",
      " |      Return repr(self).\n",
      " |  \n",
      " |  __setstate__(self, state)\n",
      " |  \n",
      " |  get_params(self, deep=True)\n",
      " |      Get parameters for this estimator.\n",
      " |      \n",
      " |      Parameters\n",
      " |      ----------\n",
      " |      deep : bool, default=True\n",
      " |          If True, will return the parameters for this estimator and\n",
      " |          contained subobjects that are estimators.\n",
      " |      \n",
      " |      Returns\n",
      " |      -------\n",
      " |      params : mapping of string to any\n",
      " |          Parameter names mapped to their values.\n",
      " |  \n",
      " |  set_params(self, **params)\n",
      " |      Set the parameters of this estimator.\n",
      " |      \n",
      " |      The method works on simple estimators as well as on nested objects\n",
      " |      (such as pipelines). The latter have parameters of the form\n",
      " |      ``<component>__<parameter>`` so that it's possible to update each\n",
      " |      component of a nested object.\n",
      " |      \n",
      " |      Parameters\n",
      " |      ----------\n",
      " |      **params : dict\n",
      " |          Estimator parameters.\n",
      " |      \n",
      " |      Returns\n",
      " |      -------\n",
      " |      self : object\n",
      " |          Estimator instance.\n",
      "\n"
     ]
    }
   ],
   "source": [
    "help(svc)"
   ]
  },
  {
   "cell_type": "code",
   "execution_count": 74,
   "metadata": {},
   "outputs": [
    {
     "data": {
      "text/plain": [
       "(1, 650)"
      ]
     },
     "execution_count": 74,
     "metadata": {},
     "output_type": "execute_result"
    }
   ],
   "source": [
    "svc.coef_.shape"
   ]
  },
  {
   "cell_type": "code",
   "execution_count": 75,
   "metadata": {},
   "outputs": [
    {
     "data": {
      "text/plain": [
       "0.6566666666666666"
      ]
     },
     "execution_count": 75,
     "metadata": {},
     "output_type": "execute_result"
    }
   ],
   "source": [
    "from sklearn import metrics\n",
    "\n",
    "metrics.accuracy_score(labels, svc.predict(feats))"
   ]
  },
  {
   "cell_type": "code",
   "execution_count": 76,
   "metadata": {},
   "outputs": [
    {
     "data": {
      "text/plain": [
       "<matplotlib.axes._subplots.AxesSubplot at 0x7f1ce8d8cb50>"
      ]
     },
     "execution_count": 76,
     "metadata": {},
     "output_type": "execute_result"
    },
    {
     "data": {
      "image/png": "[encoded data removed]",
      "text/plain": [
       "<Figure size 432x288 with 1 Axes>"
      ]
     },
     "metadata": {},
     "output_type": "display_data"
    }
   ],
   "source": [
    "sns.distplot(svc.coef_)"
   ]
  },
  {
   "cell_type": "code",
   "execution_count": 80,
   "metadata": {},
   "outputs": [],
   "source": [
    "rr = []\n",
    "for ix, s in vocab.items():\n",
    "    rr.append({\n",
    "        'stem': s,\n",
    "        'weight': svc.coef_[0, ix]\n",
    "    })\n",
    "rr = pd.DataFrame(rr)"
   ]
  },
  {
   "cell_type": "code",
   "execution_count": 82,
   "metadata": {},
   "outputs": [
    {
     "data": {
      "text/plain": [
       "322"
      ]
     },
     "execution_count": 82,
     "metadata": {},
     "output_type": "execute_result"
    }
   ],
   "source": [
    "sel = rr[rr.weight > 0]\n",
    "len(sel)"
   ]
  },
  {
   "cell_type": "code",
   "execution_count": 84,
   "metadata": {},
   "outputs": [
    {
     "data": {
      "text/html": [
       "<div>\n",
       "<style scoped>\n",
       "    .dataframe tbody tr th:only-of-type {\n",
       "        vertical-align: middle;\n",
       "    }\n",
       "\n",
       "    .dataframe tbody tr th {\n",
       "        vertical-align: top;\n",
       "    }\n",
       "\n",
       "    .dataframe thead th {\n",
       "        text-align: right;\n",
       "    }\n",
       "</style>\n",
       "<table border=\"1\" class=\"dataframe\">\n",
       "  <thead>\n",
       "    <tr style=\"text-align: right;\">\n",
       "      <th></th>\n",
       "      <th>stem</th>\n",
       "      <th>weight</th>\n",
       "    </tr>\n",
       "  </thead>\n",
       "  <tbody>\n",
       "    <tr>\n",
       "      <th>0</th>\n",
       "      <td>abl</td>\n",
       "      <td>0.001575</td>\n",
       "    </tr>\n",
       "    <tr>\n",
       "      <th>2</th>\n",
       "      <td>abus</td>\n",
       "      <td>0.007080</td>\n",
       "    </tr>\n",
       "    <tr>\n",
       "      <th>4</th>\n",
       "      <td>administr</td>\n",
       "      <td>0.011623</td>\n",
       "    </tr>\n",
       "    <tr>\n",
       "      <th>5</th>\n",
       "      <td>adult</td>\n",
       "      <td>0.000977</td>\n",
       "    </tr>\n",
       "    <tr>\n",
       "      <th>7</th>\n",
       "      <td>again</td>\n",
       "      <td>0.006321</td>\n",
       "    </tr>\n",
       "    <tr>\n",
       "      <th>8</th>\n",
       "      <td>against</td>\n",
       "      <td>0.034738</td>\n",
       "    </tr>\n",
       "    <tr>\n",
       "      <th>9</th>\n",
       "      <td>agenda</td>\n",
       "      <td>0.000592</td>\n",
       "    </tr>\n",
       "    <tr>\n",
       "      <th>10</th>\n",
       "      <td>aggrav</td>\n",
       "      <td>0.000769</td>\n",
       "    </tr>\n",
       "    <tr>\n",
       "      <th>13</th>\n",
       "      <td>allergi</td>\n",
       "      <td>0.001667</td>\n",
       "    </tr>\n",
       "    <tr>\n",
       "      <th>14</th>\n",
       "      <td>allow</td>\n",
       "      <td>0.014174</td>\n",
       "    </tr>\n",
       "    <tr>\n",
       "      <th>15</th>\n",
       "      <td>alon</td>\n",
       "      <td>0.003394</td>\n",
       "    </tr>\n",
       "    <tr>\n",
       "      <th>17</th>\n",
       "      <td>american</td>\n",
       "      <td>0.063266</td>\n",
       "    </tr>\n",
       "    <tr>\n",
       "      <th>20</th>\n",
       "      <td>anger</td>\n",
       "      <td>0.003590</td>\n",
       "    </tr>\n",
       "    <tr>\n",
       "      <th>28</th>\n",
       "      <td>anyon</td>\n",
       "      <td>0.012985</td>\n",
       "    </tr>\n",
       "    <tr>\n",
       "      <th>32</th>\n",
       "      <td>argu</td>\n",
       "      <td>0.001751</td>\n",
       "    </tr>\n",
       "    <tr>\n",
       "      <th>33</th>\n",
       "      <td>arrest</td>\n",
       "      <td>0.061385</td>\n",
       "    </tr>\n",
       "    <tr>\n",
       "      <th>35</th>\n",
       "      <td>asleep</td>\n",
       "      <td>0.000096</td>\n",
       "    </tr>\n",
       "    <tr>\n",
       "      <th>36</th>\n",
       "      <td>asshol</td>\n",
       "      <td>0.005610</td>\n",
       "    </tr>\n",
       "    <tr>\n",
       "      <th>37</th>\n",
       "      <td>attack</td>\n",
       "      <td>0.035646</td>\n",
       "    </tr>\n",
       "    <tr>\n",
       "      <th>38</th>\n",
       "      <td>attitud</td>\n",
       "      <td>0.001576</td>\n",
       "    </tr>\n",
       "  </tbody>\n",
       "</table>\n",
       "</div>"
      ],
      "text/plain": [
       "         stem    weight\n",
       "0         abl  0.001575\n",
       "2        abus  0.007080\n",
       "4   administr  0.011623\n",
       "5       adult  0.000977\n",
       "7       again  0.006321\n",
       "8     against  0.034738\n",
       "9      agenda  0.000592\n",
       "10     aggrav  0.000769\n",
       "13    allergi  0.001667\n",
       "14      allow  0.014174\n",
       "15       alon  0.003394\n",
       "17   american  0.063266\n",
       "20      anger  0.003590\n",
       "28      anyon  0.012985\n",
       "32       argu  0.001751\n",
       "33     arrest  0.061385\n",
       "35     asleep  0.000096\n",
       "36     asshol  0.005610\n",
       "37     attack  0.035646\n",
       "38    attitud  0.001576"
      ]
     },
     "execution_count": 84,
     "metadata": {},
     "output_type": "execute_result"
    }
   ],
   "source": [
    "sel.head(20)"
   ]
  },
  {
   "cell_type": "code",
   "execution_count": 85,
   "metadata": {},
   "outputs": [],
   "source": [
    "llex = list(sel.stem.values)"
   ]
  },
  {
   "cell_type": "code",
   "execution_count": 130,
   "metadata": {},
   "outputs": [],
   "source": [
    "def anger_score2(toks):\n",
    "    n = len(toks)\n",
    "    ss = [ps.stem(t) for t in toks]\n",
    "    c = sum(1 for s in ss if s in lex)\n",
    "    return c / n\n",
    "\n",
    "df['langer'] = df.toks.apply(anger_score2)"
   ]
  },
  {
   "cell_type": "code",
   "execution_count": null,
   "metadata": {},
   "outputs": [],
   "source": []
  },
  {
   "cell_type": "code",
   "execution_count": null,
   "metadata": {},
   "outputs": [],
   "source": []
  },
  {
   "cell_type": "code",
   "execution_count": null,
   "metadata": {},
   "outputs": [],
   "source": []
  },
  {
   "cell_type": "code",
   "execution_count": null,
   "metadata": {},
   "outputs": [],
   "source": []
  },
  {
   "cell_type": "code",
   "execution_count": 24,
   "metadata": {},
   "outputs": [
    {
     "data": {
      "text/plain": [
       "<matplotlib.axes._subplots.AxesSubplot at 0x7f1ce84de7d0>"
      ]
     },
     "execution_count": 24,
     "metadata": {},
     "output_type": "execute_result"
    },
    {
     "data": {
      "image/png": "[encoded data removed]",
      "text/plain": [
       "<Figure size 432x288 with 1 Axes>"
      ]
     },
     "metadata": {},
     "output_type": "display_data"
    }
   ],
   "source": [
    "sns.distplot([len(x.toks) for _, x in df.iterrows()])"
   ]
  },
  {
   "cell_type": "code",
   "execution_count": 25,
   "metadata": {},
   "outputs": [
    {
     "data": {
      "text/plain": [
       "0.08333333333333333"
      ]
     },
     "execution_count": 25,
     "metadata": {},
     "output_type": "execute_result"
    }
   ],
   "source": [
    "1 / 12"
   ]
  }
 ],
 "metadata": {
  "kernelspec": {
   "display_name": "pan20",
   "language": "python",
   "name": "pan20"
  },
  "language_info": {
   "codemirror_mode": {
    "name": "ipython",
    "version": 3
   },
   "file_extension": ".py",
   "mimetype": "text/x-python",
   "name": "python",
   "nbconvert_exporter": "python",
   "pygments_lexer": "ipython3",
   "version": "3.7.7"
  }
 },
 "nbformat": 4,
 "nbformat_minor": 4
}
