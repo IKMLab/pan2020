{
 "cells": [
  {
   "cell_type": "code",
   "execution_count": 3,
   "metadata": {},
   "outputs": [],
   "source": [
    "from pan20.util.lexicons import wordnet_affect"
   ]
  },
  {
   "cell_type": "markdown",
   "metadata": {},
   "source": [
    "According to the account of [LIWC](http://citeseerx.ist.psu.edu/viewdoc/download?rep=rep1&type=pdf&doi=10.1.1.216.2064) (pp. 8-9), in determining the validity of their method they appear to take two steps.\n",
    "1. Internal validity:\n",
    "\n",
    "> The internal reliability statistics are based on the correlation between the occurrence of each word in a category with the sum of the other words in the same category. The binary method converts the usage of each of the single words within a given text into either a 0 (not used) or a 1 (used one or more times). The uncorrected method is based on the percentage of total words that each of the category words are used. The binary method has the potential to overestimate reliability based on the length of texts; the uncorrected method tends to  underestimate reliability based on the highly variable base rates of word usage within any given category. \n",
    "\n",
    "which comes with the warning:\n",
    "\n",
    "> But be warned: the psychometrics of natural language use are not as pretty as with questionnaires. The reason is obvious once you think about it. Once you say something, you generally don’t need to say it again in the same paragraph or essay. The nature of discourse, then, is we usually say something and then move on to the next topic. Saying the same thing over and over again is generally bad form.\n",
    "\n",
    "2. External validity: test on AB corpora, looking for correlation with ratings by expert judges."
   ]
  },
  {
   "cell_type": "markdown",
   "metadata": {},
   "source": [
    "## Case of Anger"
   ]
  },
  {
   "cell_type": "code",
   "execution_count": 7,
   "metadata": {},
   "outputs": [],
   "source": [
    "wna = wordnet_affect.WordNetAffect()"
   ]
  },
  {
   "cell_type": "code",
   "execution_count": 9,
   "metadata": {},
   "outputs": [
    {
     "data": {
      "text/plain": [
       "362"
      ]
     },
     "execution_count": 9,
     "metadata": {},
     "output_type": "execute_result"
    }
   ],
   "source": [
    "len(list(sorted(wna.words_in('anger'))))"
   ]
  },
  {
   "cell_type": "code",
   "execution_count": null,
   "metadata": {},
   "outputs": [],
   "source": []
  }
 ],
 "metadata": {
  "kernelspec": {
   "display_name": "pan20",
   "language": "python",
   "name": "pan20"
  },
  "language_info": {
   "codemirror_mode": {
    "name": "ipython",
    "version": 3
   },
   "file_extension": ".py",
   "mimetype": "text/x-python",
   "name": "python",
   "nbconvert_exporter": "python",
   "pygments_lexer": "ipython3",
   "version": "3.7.7"
  }
 },
 "nbformat": 4,
 "nbformat_minor": 4
}
