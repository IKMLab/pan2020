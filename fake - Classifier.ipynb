{
 "cells": [
  {
   "cell_type": "code",
   "execution_count": 146,
   "metadata": {},
   "outputs": [],
   "source": [
    "import functools\n",
    "import pickle\n",
    "\n",
    "import numpy as np\n",
    "import pandas as pd\n",
    "from sklearn import ensemble, linear_model, metrics, model_selection, naive_bayes, preprocessing, svm\n",
    "from tqdm.notebook import tqdm\n",
    "\n",
    "from pan20 import fake, util\n",
    "from pan20.util import ctree, text\n",
    "from pan20.util.lexicons import noble, sentiwordnet, trust, tweet_anger"
   ]
  },
  {
   "cell_type": "code",
   "execution_count": 2,
   "metadata": {},
   "outputs": [],
   "source": [
    "df = fake.load()"
   ]
  },
  {
   "cell_type": "code",
   "execution_count": 5,
   "metadata": {},
   "outputs": [],
   "source": [
    "df['toks'] = df.tweet.apply(text.tokenize)"
   ]
  },
  {
   "cell_type": "code",
   "execution_count": 8,
   "metadata": {},
   "outputs": [],
   "source": [
    "df['n'] = df.toks.apply(lambda x: len(x))"
   ]
  },
  {
   "cell_type": "markdown",
   "metadata": {},
   "source": [
    "### Features"
   ]
  },
  {
   "cell_type": "markdown",
   "metadata": {},
   "source": [
    "#### Noble's Function Words\n",
    "\n",
    "Previous investigation indicated a good feature set to be:\n",
    "- impersonal_pronouns\n",
    "- personal_pronouns\n",
    "- prepositions\n",
    "- function_words"
   ]
  },
  {
   "cell_type": "code",
   "execution_count": 9,
   "metadata": {},
   "outputs": [
    {
     "data": {
      "application/vnd.jupyter.widget-view+json": {
       "model_id": "7f0722a9d1c941fb80cc16202f1512c6",
       "version_major": 2,
       "version_minor": 0
      },
      "text/plain": [
       "HBox(children=(FloatProgress(value=0.0, max=30000.0), HTML(value='')))"
      ]
     },
     "metadata": {},
     "output_type": "display_data"
    },
    {
     "name": "stdout",
     "output_type": "stream",
     "text": [
      "\n"
     ]
    }
   ],
   "source": [
    "nd = noble.NobleDict()\n",
    "freqs = []\n",
    "with tqdm(total=len(df)) as pbar:\n",
    "    for _, x in df.iterrows():\n",
    "        fq = nd(x.toks)\n",
    "        freqs.append(fq)\n",
    "        pbar.update()\n",
    "for cat in noble.cats:\n",
    "    df[cat] = [f[cat] for f in freqs]\n",
    "df['function_words'] = [f['function_words'] for f in freqs]"
   ]
  },
  {
   "cell_type": "markdown",
   "metadata": {},
   "source": [
    "#### Constituency Tree Features\n",
    "\n",
    "Previous indicated:\n",
    "- avg_bf\n",
    "- max_np_height\n",
    "- max_vp_height"
   ]
  },
  {
   "cell_type": "code",
   "execution_count": 13,
   "metadata": {},
   "outputs": [
    {
     "name": "stdout",
     "output_type": "stream",
     "text": [
      "WARNING:tensorflow:From /home/hanshan/anaconda3/envs/pan20/lib/python3.7/site-packages/benepar/base_parser.py:197: The name tf.GraphDef is deprecated. Please use tf.compat.v1.GraphDef instead.\n",
      "\n",
      "WARNING:tensorflow:From /home/hanshan/anaconda3/envs/pan20/lib/python3.7/site-packages/benepar/base_parser.py:202: The name tf.Session is deprecated. Please use tf.compat.v1.Session instead.\n",
      "\n"
     ]
    },
    {
     "data": {
      "application/vnd.jupyter.widget-view+json": {
       "model_id": "36c24144e98449f8b8ba7062426d37a3",
       "version_major": 2,
       "version_minor": 0
      },
      "text/plain": [
       "HBox(children=(FloatProgress(value=0.0, max=30000.0), HTML(value='')))"
      ]
     },
     "metadata": {},
     "output_type": "display_data"
    },
    {
     "name": "stdout",
     "output_type": "stream",
     "text": [
      "\n"
     ]
    }
   ],
   "source": [
    "get_tree = ctree.GetTree()\n",
    "trees = []\n",
    "with tqdm(total=len(df)) as pbar:\n",
    "    for _, x in df.iterrows():\n",
    "        trees.append(get_tree(x.tweet))\n",
    "        pbar.update()\n",
    "df['avg_bf'] = [ctree.avg_branch_factor(t) for t in trees]\n",
    "df['height'] = [t.height() for t in trees]\n",
    "df['max_np_height'] = [ctree.max_const_height(t, 'NP') for t in trees]\n",
    "df['max_pp_height'] = [ctree.max_const_height(t, 'PP') for t in trees]\n",
    "df['max_vp_height'] = [ctree.max_const_height(t, 'VP') for t in trees]"
   ]
  },
  {
   "cell_type": "markdown",
   "metadata": {},
   "source": [
    "#### Emotions\n",
    "\n",
    "LIWC analysis indicated:\n",
    "- negemo\n",
    "- anx\n",
    "- anger\n",
    "\n",
    "In fact just these three get us to 70%.\n",
    "\n",
    "For **SentiWordNet** indication is:\n",
    "- senti\n",
    "- senti_neg\n",
    "\n",
    "with senti_pos being more or less useless."
   ]
  },
  {
   "cell_type": "code",
   "execution_count": 17,
   "metadata": {},
   "outputs": [],
   "source": [
    "swn = sentiwordnet.SentiWordNet()\n",
    "df['senti'] = df.toks.apply(swn.score)\n",
    "df['senti_neg'] = df.toks.apply(swn.score_neg)\n",
    "df['senti_pos'] = df.toks.apply(swn.score_pos)"
   ]
  },
  {
   "cell_type": "code",
   "execution_count": 19,
   "metadata": {},
   "outputs": [],
   "source": [
    "# my learned anger dict\n",
    "ta = tweet_anger.Lexicon()\n",
    "fn = functools.partial(ta.cat_freq, cat='anger')\n",
    "df['anger'] = df.toks.apply(fn)"
   ]
  },
  {
   "cell_type": "markdown",
   "metadata": {},
   "source": [
    "#### Trust and Distrust"
   ]
  },
  {
   "cell_type": "code",
   "execution_count": 123,
   "metadata": {},
   "outputs": [],
   "source": [
    "dt = trust.Lexicon()\n",
    "fn = functools.partial(dt.cat_freq, cat='distrust')\n",
    "df['distrust'] = df.toks.apply(fn)"
   ]
  },
  {
   "cell_type": "markdown",
   "metadata": {},
   "source": [
    "#### SAVE AND RESUME"
   ]
  },
  {
   "cell_type": "code",
   "execution_count": 124,
   "metadata": {},
   "outputs": [],
   "source": [
    "df.to_csv('data/fake/feats.csv', index=False)"
   ]
  },
  {
   "cell_type": "code",
   "execution_count": 222,
   "metadata": {},
   "outputs": [],
   "source": [
    "df = pd.read_csv('data/fake/feats.csv')"
   ]
  },
  {
   "cell_type": "code",
   "execution_count": 223,
   "metadata": {},
   "outputs": [],
   "source": [
    "def get_X_y(cols=None, no_cols=None):\n",
    "    X = df.groupby(['author', 'label']).mean().reset_index().drop(columns=['author', 'n'])\n",
    "    y = X.label.values\n",
    "    if cols:\n",
    "        X = X.loc[:, [c in cols for c in X.columns]]\n",
    "    elif no_cols:\n",
    "        X = X.loc[:, [c not in no_cols for c in X.columns]]\n",
    "    else:\n",
    "        X = X.loc[:, [c != 'label' for c in X.columns]]\n",
    "    feat_dict = util.IxDict(X.columns)\n",
    "    # normalize features to be between 0 and 1\n",
    "    x = X.values\n",
    "    min_max_scaler = preprocessing.MinMaxScaler()\n",
    "    X = min_max_scaler.fit_transform(x)\n",
    "    return X, y, feat_dict"
   ]
  },
  {
   "cell_type": "code",
   "execution_count": 224,
   "metadata": {},
   "outputs": [],
   "source": [
    "X, y, feat_dict = get_X_y()"
   ]
  },
  {
   "cell_type": "markdown",
   "metadata": {},
   "source": [
    "### Feature Selection"
   ]
  },
  {
   "cell_type": "markdown",
   "metadata": {},
   "source": [
    "Looking for variability of features across "
   ]
  },
  {
   "cell_type": "code",
   "execution_count": 136,
   "metadata": {},
   "outputs": [
    {
     "data": {
      "text/plain": [
       "0.6733333333333333"
      ]
     },
     "execution_count": 136,
     "metadata": {},
     "output_type": "execute_result"
    }
   ],
   "source": [
    "svc = svm.SVC(C=1., kernel='rbf')\n",
    "model_selection.cross_val_score(svc, X, y).mean()"
   ]
  },
  {
   "cell_type": "code",
   "execution_count": 137,
   "metadata": {},
   "outputs": [
    {
     "name": "stdout",
     "output_type": "stream",
     "text": [
      "0.7166666666666667\n",
      "0.7\n",
      "0.6\n",
      "0.5833333333333334\n",
      "0.6\n"
     ]
    }
   ],
   "source": [
    "coef = []\n",
    "skf = model_selection.StratifiedKFold(n_splits=5)\n",
    "for train_index, test_index in skf.split(X, y):\n",
    "    X_train, X_test = X[train_index], X[test_index]\n",
    "    y_train, y_test = y[train_index], y[test_index]\n",
    "    svc = svm.SVC(C=1., kernel='linear')\n",
    "    svc.fit(X_train, y_train)\n",
    "    print(metrics.accuracy_score(y_test, svc.predict(X_test)))\n",
    "    coef.append(svc.coef_)"
   ]
  },
  {
   "cell_type": "code",
   "execution_count": 138,
   "metadata": {},
   "outputs": [
    {
     "data": {
      "text/plain": [
       "(1, 19)"
      ]
     },
     "execution_count": 138,
     "metadata": {},
     "output_type": "execute_result"
    }
   ],
   "source": [
    "coef[0].shape"
   ]
  },
  {
   "cell_type": "code",
   "execution_count": 139,
   "metadata": {},
   "outputs": [],
   "source": [
    "cf = []\n",
    "for coef_ in coef:\n",
    "    for ix in range(coef_.shape[1]):\n",
    "        feat = feat_dict[ix]\n",
    "        cf.append({\n",
    "            'feature': feat,\n",
    "            'coef': np.abs(coef_[0, ix])\n",
    "        })\n",
    "cf = pd.DataFrame(cf)"
   ]
  },
  {
   "cell_type": "code",
   "execution_count": 140,
   "metadata": {},
   "outputs": [
    {
     "data": {
      "text/html": [
       "<div>\n",
       "<style scoped>\n",
       "    .dataframe tbody tr th:only-of-type {\n",
       "        vertical-align: middle;\n",
       "    }\n",
       "\n",
       "    .dataframe tbody tr th {\n",
       "        vertical-align: top;\n",
       "    }\n",
       "\n",
       "    .dataframe thead th {\n",
       "        text-align: right;\n",
       "    }\n",
       "</style>\n",
       "<table border=\"1\" class=\"dataframe\">\n",
       "  <thead>\n",
       "    <tr style=\"text-align: right;\">\n",
       "      <th></th>\n",
       "      <th>feature</th>\n",
       "      <th>coef</th>\n",
       "    </tr>\n",
       "  </thead>\n",
       "  <tbody>\n",
       "    <tr>\n",
       "      <th>13</th>\n",
       "      <td>personal_pronouns</td>\n",
       "      <td>1.812791</td>\n",
       "    </tr>\n",
       "    <tr>\n",
       "      <th>15</th>\n",
       "      <td>quantifiers</td>\n",
       "      <td>1.608437</td>\n",
       "    </tr>\n",
       "    <tr>\n",
       "      <th>9</th>\n",
       "      <td>impersonal_pronouns</td>\n",
       "      <td>1.531036</td>\n",
       "    </tr>\n",
       "    <tr>\n",
       "      <th>10</th>\n",
       "      <td>max_np_height</td>\n",
       "      <td>1.462371</td>\n",
       "    </tr>\n",
       "    <tr>\n",
       "      <th>0</th>\n",
       "      <td>adverbs</td>\n",
       "      <td>1.421656</td>\n",
       "    </tr>\n",
       "    <tr>\n",
       "      <th>1</th>\n",
       "      <td>anger</td>\n",
       "      <td>1.267959</td>\n",
       "    </tr>\n",
       "    <tr>\n",
       "      <th>14</th>\n",
       "      <td>prepositions</td>\n",
       "      <td>1.215212</td>\n",
       "    </tr>\n",
       "    <tr>\n",
       "      <th>11</th>\n",
       "      <td>max_pp_height</td>\n",
       "      <td>1.214720</td>\n",
       "    </tr>\n",
       "    <tr>\n",
       "      <th>3</th>\n",
       "      <td>auxiliary_verbs</td>\n",
       "      <td>1.128011</td>\n",
       "    </tr>\n",
       "    <tr>\n",
       "      <th>4</th>\n",
       "      <td>avg_bf</td>\n",
       "      <td>0.989712</td>\n",
       "    </tr>\n",
       "    <tr>\n",
       "      <th>7</th>\n",
       "      <td>function_words</td>\n",
       "      <td>0.977083</td>\n",
       "    </tr>\n",
       "    <tr>\n",
       "      <th>8</th>\n",
       "      <td>height</td>\n",
       "      <td>0.951950</td>\n",
       "    </tr>\n",
       "    <tr>\n",
       "      <th>16</th>\n",
       "      <td>senti</td>\n",
       "      <td>0.421840</td>\n",
       "    </tr>\n",
       "    <tr>\n",
       "      <th>2</th>\n",
       "      <td>articles</td>\n",
       "      <td>0.382523</td>\n",
       "    </tr>\n",
       "    <tr>\n",
       "      <th>6</th>\n",
       "      <td>distrust</td>\n",
       "      <td>0.366133</td>\n",
       "    </tr>\n",
       "    <tr>\n",
       "      <th>12</th>\n",
       "      <td>max_vp_height</td>\n",
       "      <td>0.206083</td>\n",
       "    </tr>\n",
       "    <tr>\n",
       "      <th>5</th>\n",
       "      <td>conjunctions</td>\n",
       "      <td>0.169825</td>\n",
       "    </tr>\n",
       "    <tr>\n",
       "      <th>17</th>\n",
       "      <td>senti_neg</td>\n",
       "      <td>0.000000</td>\n",
       "    </tr>\n",
       "    <tr>\n",
       "      <th>18</th>\n",
       "      <td>senti_pos</td>\n",
       "      <td>0.000000</td>\n",
       "    </tr>\n",
       "  </tbody>\n",
       "</table>\n",
       "</div>"
      ],
      "text/plain": [
       "                feature      coef\n",
       "13    personal_pronouns  1.812791\n",
       "15          quantifiers  1.608437\n",
       "9   impersonal_pronouns  1.531036\n",
       "10        max_np_height  1.462371\n",
       "0               adverbs  1.421656\n",
       "1                 anger  1.267959\n",
       "14         prepositions  1.215212\n",
       "11        max_pp_height  1.214720\n",
       "3       auxiliary_verbs  1.128011\n",
       "4                avg_bf  0.989712\n",
       "7        function_words  0.977083\n",
       "8                height  0.951950\n",
       "16                senti  0.421840\n",
       "2              articles  0.382523\n",
       "6              distrust  0.366133\n",
       "12        max_vp_height  0.206083\n",
       "5          conjunctions  0.169825\n",
       "17            senti_neg  0.000000\n",
       "18            senti_pos  0.000000"
      ]
     },
     "execution_count": 140,
     "metadata": {},
     "output_type": "execute_result"
    }
   ],
   "source": [
    "cfmu = cf.groupby('feature').mean().reset_index().sort_values(by='coef', ascending=False)\n",
    "cfmu"
   ]
  },
  {
   "cell_type": "code",
   "execution_count": 141,
   "metadata": {},
   "outputs": [],
   "source": [
    "feats = list(cfmu[cfmu.coef > 0.9].feature.values)"
   ]
  },
  {
   "cell_type": "code",
   "execution_count": 142,
   "metadata": {},
   "outputs": [],
   "source": [
    "X, y, feat_dict = get_X_y(feats)"
   ]
  },
  {
   "cell_type": "code",
   "execution_count": 143,
   "metadata": {},
   "outputs": [
    {
     "data": {
      "text/plain": [
       "0.6466666666666667"
      ]
     },
     "execution_count": 143,
     "metadata": {},
     "output_type": "execute_result"
    }
   ],
   "source": [
    "svc = svm.SVC(C=1., kernel='rbf')\n",
    "model_selection.cross_val_score(svc, X, y).mean()"
   ]
  },
  {
   "cell_type": "markdown",
   "metadata": {},
   "source": [
    "Well, that sucked."
   ]
  },
  {
   "cell_type": "code",
   "execution_count": 225,
   "metadata": {},
   "outputs": [],
   "source": [
    "feats = [\n",
    "    'adverbs', \n",
    "    #'articles',\n",
    "    #'auxiliary_verbs', \n",
    "    #'conjunctions', \n",
    "    'impersonal_pronouns',\n",
    "    'personal_pronouns', \n",
    "    #'prepositions', \n",
    "    #'quantifiers', \n",
    "    'function_words',\n",
    "    'avg_bf', \n",
    "    #'height', \n",
    "    'max_np_height', \n",
    "    #'max_pp_height', \n",
    "    'max_vp_height',\n",
    "    'senti', \n",
    "    'senti_neg', \n",
    "    #'senti_pos', \n",
    "    'anger', \n",
    "    'distrust'\n",
    "]"
   ]
  },
  {
   "cell_type": "code",
   "execution_count": 226,
   "metadata": {},
   "outputs": [
    {
     "name": "stdout",
     "output_type": "stream",
     "text": [
      "0.6866666666666666\n",
      "0.06944222218666553\n"
     ]
    }
   ],
   "source": [
    "X, y, feat_dict = get_X_y(feats)\n",
    "svc = svm.SVC(C=1., kernel='rbf', probability=True)\n",
    "s = model_selection.cross_val_score(svc, X, y)\n",
    "print(s.mean())\n",
    "print(s.std())"
   ]
  },
  {
   "cell_type": "code",
   "execution_count": 227,
   "metadata": {},
   "outputs": [
    {
     "data": {
      "text/plain": [
       "0.6966666666666667"
      ]
     },
     "execution_count": 227,
     "metadata": {},
     "output_type": "execute_result"
    }
   ],
   "source": [
    "svc.fit(X, y)\n",
    "metrics.accuracy_score(y, svc.predict(X))"
   ]
  },
  {
   "cell_type": "code",
   "execution_count": 181,
   "metadata": {},
   "outputs": [],
   "source": [
    "import joblib"
   ]
  },
  {
   "cell_type": "code",
   "execution_count": 189,
   "metadata": {},
   "outputs": [
    {
     "data": {
      "text/plain": [
       "['pan20/fake/svc.model']"
      ]
     },
     "execution_count": 189,
     "metadata": {},
     "output_type": "execute_result"
    }
   ],
   "source": [
    "joblib.dump(svc, 'pan20/fake/svc.model')"
   ]
  },
  {
   "cell_type": "code",
   "execution_count": 190,
   "metadata": {},
   "outputs": [],
   "source": [
    "svc2 = joblib.load('pan20/fake/svc.model')"
   ]
  },
  {
   "cell_type": "code",
   "execution_count": 191,
   "metadata": {},
   "outputs": [
    {
     "data": {
      "text/plain": [
       "0.6966666666666667"
      ]
     },
     "execution_count": 191,
     "metadata": {},
     "output_type": "execute_result"
    }
   ],
   "source": [
    "metrics.accuracy_score(y, svc2.predict(X))"
   ]
  },
  {
   "cell_type": "code",
   "execution_count": 199,
   "metadata": {},
   "outputs": [
    {
     "data": {
      "text/plain": [
       "[0.7141606192115727,\n",
       " 0.5958132500202161,\n",
       " 0.5113159992433761,\n",
       " 0.47574987128918966,\n",
       " 0.6801969141453642,\n",
       " 0.7658636571624955,\n",
       " 0.5824570899609552,\n",
       " 0.2599739791714044,\n",
       " 0.6315693467491665,\n",
       " 0.6502529671660975,\n",
       " 0.7707186242521762,\n",
       " 0.2599313475047878,\n",
       " 0.7351846314988525,\n",
       " 0.5387497535733041,\n",
       " 0.7622874424698669,\n",
       " 0.2109278557868544,\n",
       " 0.761439744576779,\n",
       " 0.7524165150077915,\n",
       " 0.569834052392983,\n",
       " 0.521888597652202,\n",
       " 0.4403361886204582,\n",
       " 0.6179294574523457,\n",
       " 0.678875279522349,\n",
       " 0.6737241554128963,\n",
       " 0.7141380070086942,\n",
       " 0.7141606192115723,\n",
       " 0.34084064054116997,\n",
       " 0.5195464532960465,\n",
       " 0.49489924133641244,\n",
       " 0.29968990214851515,\n",
       " 0.73336090694533,\n",
       " 0.6489672108589887,\n",
       " 0.8334573457573052,\n",
       " 0.25652539859750934,\n",
       " 0.668617661175339,\n",
       " 0.6910650894528386,\n",
       " 0.3564189307095654,\n",
       " 0.5535944716954,\n",
       " 0.23641103351090698,\n",
       " 0.46110020643706157,\n",
       " 0.853586153019991,\n",
       " 0.16014893099629507,\n",
       " 0.20316842281887798,\n",
       " 0.25992889742583325,\n",
       " 0.39729658661424194,\n",
       " 0.46867850400987504,\n",
       " 0.39123779448575036,\n",
       " 0.6481608867759494,\n",
       " 0.7103957043781965,\n",
       " 0.49258761548734614,\n",
       " 0.47166749911910216,\n",
       " 0.7905344956696206,\n",
       " 0.4486488733553307,\n",
       " 0.5512650062794011,\n",
       " 0.37273146077419844,\n",
       " 0.2709908365020153,\n",
       " 0.7207373125850614,\n",
       " 0.41362551558752303,\n",
       " 0.25986836625530524,\n",
       " 0.4924498662466281,\n",
       " 0.559629723008587,\n",
       " 0.3944329041538411,\n",
       " 0.6964493526976258,\n",
       " 0.2598479225901426,\n",
       " 0.6690348487527414,\n",
       " 0.2584970414138523,\n",
       " 0.5125220725876981,\n",
       " 0.3175140416583951,\n",
       " 0.7410560010380234,\n",
       " 0.5439534379457197,\n",
       " 0.8165668273168971,\n",
       " 0.28097691821417675,\n",
       " 0.6404583671261082,\n",
       " 0.27465796570496165,\n",
       " 0.4668017799181735,\n",
       " 0.6657661697889825,\n",
       " 0.7255824723039994,\n",
       " 0.29507288476966886,\n",
       " 0.35675942766564456,\n",
       " 0.6462942079879523,\n",
       " 0.29390689677983484,\n",
       " 0.25986584907429783,\n",
       " 0.7038279532317508,\n",
       " 0.7593868075315853,\n",
       " 0.6143900069468784,\n",
       " 0.11988669747139967,\n",
       " 0.28330084437072556,\n",
       " 0.47171833400433894,\n",
       " 0.6482587734692478,\n",
       " 0.620732239144101,\n",
       " 0.6997826163939338,\n",
       " 0.5767495291176358,\n",
       " 0.31852027593021065,\n",
       " 0.7333133912588378,\n",
       " 0.6744578934820351,\n",
       " 0.3855471360066961,\n",
       " 0.1408769893993559,\n",
       " 0.5212856023900475,\n",
       " 0.14381294225417338,\n",
       " 0.4495866461062474,\n",
       " 0.44936001364981343,\n",
       " 0.3832962003272425,\n",
       " 0.4568198395917911,\n",
       " 0.5299779159907461,\n",
       " 0.6005562747299352,\n",
       " 0.7076593197155517,\n",
       " 0.37487120537706,\n",
       " 0.7597019685162332,\n",
       " 0.337035978863064,\n",
       " 0.5895316818346619,\n",
       " 0.6449640349041967,\n",
       " 0.6788502712545462,\n",
       " 0.4403202919485781,\n",
       " 0.7141606192115726,\n",
       " 0.25811205857873626,\n",
       " 0.2603950534058969,\n",
       " 0.24251990697842862,\n",
       " 0.2598840741378816,\n",
       " 0.6601401308178839,\n",
       " 0.6238242544150313,\n",
       " 0.4862867539672966,\n",
       " 0.5472987057056239,\n",
       " 0.2598840791416826,\n",
       " 0.5576678152449394,\n",
       " 0.6772610078776853,\n",
       " 0.25981027389928246,\n",
       " 0.7140937747328571,\n",
       " 0.6642963289342665,\n",
       " 0.5,\n",
       " 0.30257300372596735,\n",
       " 0.6677018056731431,\n",
       " 0.7624997961866785,\n",
       " 0.2504513095293046,\n",
       " 0.48405093372187447,\n",
       " 0.6021654212269362,\n",
       " 0.3440377368225321,\n",
       " 0.3515688671652176,\n",
       " 0.5371706866165596,\n",
       " 0.7042111487361093,\n",
       " 0.5895316818346619,\n",
       " 0.25994556220997045,\n",
       " 0.5650702574538777,\n",
       " 0.4575143264200777,\n",
       " 0.2594668050908213,\n",
       " 0.4768428633151817,\n",
       " 0.6489672108589909,\n",
       " 0.20689280503829413,\n",
       " 0.33540833776345474,\n",
       " 0.5136344768859614,\n",
       " 0.7578382287320234,\n",
       " 0.5,\n",
       " 0.7484586677150941,\n",
       " 0.3201010648985636,\n",
       " 0.4539730261307103,\n",
       " 0.579785308760011,\n",
       " 0.5721624991587472,\n",
       " 0.3597185590139603,\n",
       " 0.3453842224714185,\n",
       " 0.640317018698629,\n",
       " 0.7276359732691284,\n",
       " 0.30005887990777874,\n",
       " 0.4333553349750987,\n",
       " 0.647573512640933,\n",
       " 0.5642325087988,\n",
       " 0.8039063027353011,\n",
       " 0.2187089436112934,\n",
       " 0.25752671723590354,\n",
       " 0.5136294529220105,\n",
       " 0.6578487404151654,\n",
       " 0.5939159612201154,\n",
       " 0.3698555352111286,\n",
       " 0.7370084716004126,\n",
       " 0.2635948540105387,\n",
       " 0.5,\n",
       " 0.6960951602662088,\n",
       " 0.2598521534186092,\n",
       " 0.6844767129918249,\n",
       " 0.2598914822309584,\n",
       " 0.4766940561446974,\n",
       " 0.8239382549409285,\n",
       " 0.6980563146698958,\n",
       " 0.7199885712787546,\n",
       " 0.7416385359664714,\n",
       " 0.5683734926707777,\n",
       " 0.7969454917631664,\n",
       " 0.7345689461214192,\n",
       " 0.7141606192115723,\n",
       " 0.6061618306734233,\n",
       " 0.2599135072293741,\n",
       " 0.44080152303410575,\n",
       " 0.5522177131529211,\n",
       " 0.7247057227220974,\n",
       " 0.6158455490215806,\n",
       " 0.4418636142682981,\n",
       " 0.6782655691873921,\n",
       " 0.3543601585006634,\n",
       " 0.2498445440582821,\n",
       " 0.6150207112632414,\n",
       " 0.5503902131225755,\n",
       " 0.7347381849345221,\n",
       " 0.6177195632962154,\n",
       " 0.2598957041934741,\n",
       " 0.43370144085558016,\n",
       " 0.5,\n",
       " 0.4653519663650691,\n",
       " 0.5823859237362166,\n",
       " 0.2311702515522889,\n",
       " 0.7167208632568622,\n",
       " 0.20017202922434613,\n",
       " 0.3639857823012153,\n",
       " 0.6404343137303802,\n",
       " 0.11276308446120983,\n",
       " 0.5569415784028149,\n",
       " 0.5927643418547518,\n",
       " 0.7032069978469372,\n",
       " 0.6518559574117526,\n",
       " 0.27101066905356624,\n",
       " 0.14691507870012435,\n",
       " 0.3644850815830852,\n",
       " 0.3069516593963265,\n",
       " 0.7226263547858437,\n",
       " 0.5720049728406426,\n",
       " 0.6344260287834058,\n",
       " 0.2790562152707757,\n",
       " 0.6183595180706609,\n",
       " 0.25573506735830515,\n",
       " 0.4194751370868816,\n",
       " 0.5368108568169508,\n",
       " 0.6734848311430788,\n",
       " 0.5515271441616085,\n",
       " 0.4220720674634366,\n",
       " 0.6068008360957108,\n",
       " 0.7694363152079151,\n",
       " 0.41825349749823065,\n",
       " 0.3883988238137671,\n",
       " 0.4917527968321775,\n",
       " 0.16273285993721381,\n",
       " 0.1677538828320487,\n",
       " 0.34036091542036007,\n",
       " 0.26336608798070793,\n",
       " 0.7402122778110796,\n",
       " 0.6489496504973097,\n",
       " 0.2600469099371949,\n",
       " 0.6862763386176307,\n",
       " 0.5258892716489938,\n",
       " 0.41002297023459444,\n",
       " 0.6510948075580587,\n",
       " 0.2975824981699054,\n",
       " 0.7272408274953753,\n",
       " 0.7155919298494463,\n",
       " 0.2902298758845703,\n",
       " 0.5875587578906875,\n",
       " 0.5280203786248115,\n",
       " 0.5337074474989126,\n",
       " 0.6937700274550748,\n",
       " 0.2253085126708704,\n",
       " 0.5512468788118089,\n",
       " 0.28361535849393,\n",
       " 0.5884195093534902,\n",
       " 0.5716377984442885,\n",
       " 0.3027064776499442,\n",
       " 0.4580488270007787,\n",
       " 0.5498699322625873,\n",
       " 0.6664823405618553,\n",
       " 0.5836700016179607,\n",
       " 0.6706111470216589,\n",
       " 0.20896397592160496,\n",
       " 0.5,\n",
       " 0.6828128498169304,\n",
       " 0.3080682087896966,\n",
       " 0.6377699938596556,\n",
       " 0.34692015292942696,\n",
       " 0.3692716553983398,\n",
       " 0.27226751471940536,\n",
       " 0.45522567478453557,\n",
       " 0.37533742915967316,\n",
       " 0.7121613656736523,\n",
       " 0.5568140256267351,\n",
       " 0.7007027438133397,\n",
       " 0.7567576263185845,\n",
       " 0.2662645461739449,\n",
       " 0.30714769059821573,\n",
       " 0.6322935101106659,\n",
       " 0.21066237303688912,\n",
       " 0.6726332612930868,\n",
       " 0.279569105471069,\n",
       " 0.5927696872582862,\n",
       " 0.19081649462223987,\n",
       " 0.28675946800961183,\n",
       " 0.30348513969096264,\n",
       " 0.40426948628571047,\n",
       " 0.2623889853425054,\n",
       " 0.3687075672361012,\n",
       " 0.3391748961252295,\n",
       " 0.7709985604751804,\n",
       " 0.46080956027122394,\n",
       " 0.4393536590944366,\n",
       " 0.26732780959149244,\n",
       " 0.29938250117855575,\n",
       " 0.5829839713633157]"
      ]
     },
     "execution_count": 199,
     "metadata": {},
     "output_type": "execute_result"
    }
   ],
   "source": [
    "list(np.exp(svc2.predict_log_proba(X))[:, 1])"
   ]
  },
  {
   "cell_type": "code",
   "execution_count": null,
   "metadata": {},
   "outputs": [],
   "source": [
    "_ = pickle.dumps(svc)"
   ]
  },
  {
   "cell_type": "markdown",
   "metadata": {},
   "source": [
    "Best set so far."
   ]
  },
  {
   "cell_type": "code",
   "execution_count": 265,
   "metadata": {},
   "outputs": [
    {
     "name": "stdout",
     "output_type": "stream",
     "text": [
      "0.6833333333333333\n",
      "0.06236095644623236\n",
      "0.9033333333333333\n",
      "1.3219512195121952\n"
     ]
    }
   ],
   "source": [
    "rf = ensemble.RandomForestClassifier(n_estimators=40, max_depth=5)\n",
    "s = model_selection.cross_val_score(rf, X, y)\n",
    "print(s.mean())\n",
    "print(s.std())\n",
    "rf.fit(X, y)\n",
    "acc = metrics.accuracy_score(y, rf.predict(X))\n",
    "print(acc)\n",
    "print(acc / s.mean())"
   ]
  },
  {
   "cell_type": "code",
   "execution_count": 266,
   "metadata": {},
   "outputs": [
    {
     "data": {
      "text/plain": [
       "['pan20/fake/rf.model']"
      ]
     },
     "execution_count": 266,
     "metadata": {},
     "output_type": "execute_result"
    }
   ],
   "source": [
    "joblib.dump(rf, 'pan20/fake/rf.model')"
   ]
  },
  {
   "cell_type": "code",
   "execution_count": 230,
   "metadata": {},
   "outputs": [
    {
     "name": "stdout",
     "output_type": "stream",
     "text": [
      "0.6433333333333333\n",
      "0.05120763831912404\n"
     ]
    },
    {
     "data": {
      "text/plain": [
       "0.67"
      ]
     },
     "execution_count": 230,
     "metadata": {},
     "output_type": "execute_result"
    }
   ],
   "source": [
    "nb = naive_bayes.GaussianNB()\n",
    "s = model_selection.cross_val_score(nb, X, y)\n",
    "print(s.mean())\n",
    "print(s.std())\n",
    "nb.fit(X, y)\n",
    "metrics.accuracy_score(y, nb.predict(X))"
   ]
  },
  {
   "cell_type": "code",
   "execution_count": 258,
   "metadata": {},
   "outputs": [
    {
     "data": {
      "text/plain": [
       "['pan20/fake/nb.model']"
      ]
     },
     "execution_count": 258,
     "metadata": {},
     "output_type": "execute_result"
    }
   ],
   "source": [
    "joblib.dump(svc, 'pan20/fake/nb.model')"
   ]
  },
  {
   "cell_type": "code",
   "execution_count": 260,
   "metadata": {},
   "outputs": [
    {
     "data": {
      "text/plain": [
       "array([[1.32359717e-01, 8.67640283e-01],\n",
       "       [3.03792683e-01, 6.96207317e-01],\n",
       "       [2.85036843e-01, 7.14963157e-01],\n",
       "       [6.25985149e-01, 3.74014851e-01],\n",
       "       [2.36190777e-01, 7.63809223e-01],\n",
       "       [1.17641356e-01, 8.82358644e-01],\n",
       "       [2.19788778e-01, 7.80211222e-01],\n",
       "       [9.28839448e-01, 7.11605515e-02],\n",
       "       [1.51962332e-01, 8.48037668e-01],\n",
       "       [1.26260944e-01, 8.73739056e-01],\n",
       "       [7.76252773e-02, 9.22374723e-01],\n",
       "       [9.99186912e-01, 8.13088087e-04],\n",
       "       [1.27144580e-01, 8.72855420e-01],\n",
       "       [5.51176865e-01, 4.48823135e-01],\n",
       "       [6.73416364e-02, 9.32658364e-01],\n",
       "       [9.32901309e-01, 6.70986915e-02],\n",
       "       [8.49505923e-02, 9.15049408e-01],\n",
       "       [1.03691433e-01, 8.96308567e-01],\n",
       "       [2.25176568e-01, 7.74823432e-01],\n",
       "       [3.43206983e-01, 6.56793017e-01],\n",
       "       [4.53011563e-01, 5.46988437e-01],\n",
       "       [2.64963492e-01, 7.35036508e-01],\n",
       "       [1.67348921e-01, 8.32651079e-01],\n",
       "       [1.80301810e-01, 8.19698190e-01],\n",
       "       [2.58872902e-01, 7.41127098e-01],\n",
       "       [1.32359717e-01, 8.67640283e-01],\n",
       "       [7.52499285e-01, 2.47500715e-01],\n",
       "       [3.76858264e-01, 6.23141736e-01],\n",
       "       [3.13467170e-01, 6.86532830e-01],\n",
       "       [6.35863190e-01, 3.64136810e-01],\n",
       "       [1.52335402e-01, 8.47664598e-01],\n",
       "       [1.84439355e-01, 8.15560645e-01],\n",
       "       [6.67103284e-02, 9.33289672e-01],\n",
       "       [7.79519470e-01, 2.20480530e-01],\n",
       "       [1.86197260e-01, 8.13802740e-01],\n",
       "       [1.20421673e-01, 8.79578327e-01],\n",
       "       [5.77067755e-01, 4.22932245e-01],\n",
       "       [4.98815391e-01, 5.01184609e-01],\n",
       "       [9.16219600e-01, 8.37803997e-02],\n",
       "       [3.62388242e-01, 6.37611758e-01],\n",
       "       [5.06237886e-02, 9.49376211e-01],\n",
       "       [8.08718030e-01, 1.91281970e-01],\n",
       "       [8.63078303e-01, 1.36921697e-01],\n",
       "       [7.45308571e-01, 2.54691429e-01],\n",
       "       [2.84768985e-01, 7.15231015e-01],\n",
       "       [4.43222661e-01, 5.56777339e-01],\n",
       "       [4.54824392e-01, 5.45175608e-01],\n",
       "       [1.16018443e-01, 8.83981557e-01],\n",
       "       [1.95373936e-01, 8.04626064e-01],\n",
       "       [3.79041844e-01, 6.20958156e-01],\n",
       "       [3.15830263e-01, 6.84169737e-01],\n",
       "       [8.38701444e-02, 9.16129856e-01],\n",
       "       [3.70846448e-01, 6.29153552e-01],\n",
       "       [2.92415413e-01, 7.07584587e-01],\n",
       "       [6.32682188e-01, 3.67317812e-01],\n",
       "       [8.77840907e-01, 1.22159093e-01],\n",
       "       [1.91824573e-01, 8.08175427e-01],\n",
       "       [3.42276390e-01, 6.57723610e-01],\n",
       "       [7.64044818e-01, 2.35955182e-01],\n",
       "       [3.65020216e-01, 6.34979784e-01],\n",
       "       [3.29752769e-01, 6.70247231e-01],\n",
       "       [7.36666567e-01, 2.63333433e-01],\n",
       "       [1.47798654e-01, 8.52201346e-01],\n",
       "       [9.69942371e-01, 3.00576293e-02],\n",
       "       [1.71496625e-01, 8.28503375e-01],\n",
       "       [9.22738817e-01, 7.72611834e-02],\n",
       "       [7.38952690e-01, 2.61047310e-01],\n",
       "       [7.60019912e-01, 2.39980088e-01],\n",
       "       [1.00558069e-01, 8.99441931e-01],\n",
       "       [2.73029188e-01, 7.26970812e-01],\n",
       "       [5.62226579e-02, 9.43777342e-01],\n",
       "       [9.26320180e-01, 7.36798199e-02],\n",
       "       [2.55199393e-01, 7.44800607e-01],\n",
       "       [9.97993584e-01, 2.00641556e-03],\n",
       "       [6.74406286e-01, 3.25593714e-01],\n",
       "       [1.74753997e-01, 8.25246003e-01],\n",
       "       [1.21471776e-01, 8.78528224e-01],\n",
       "       [9.99352049e-01, 6.47950964e-04],\n",
       "       [4.82025063e-01, 5.17974937e-01],\n",
       "       [2.06460280e-01, 7.93539720e-01],\n",
       "       [9.19585989e-01, 8.04140110e-02],\n",
       "       [9.99069810e-01, 9.30190218e-04],\n",
       "       [1.68479245e-01, 8.31520755e-01],\n",
       "       [1.40718100e-01, 8.59281900e-01],\n",
       "       [2.35855849e-01, 7.64144151e-01],\n",
       "       [9.78474504e-01, 2.15254956e-02],\n",
       "       [6.95075912e-01, 3.04924088e-01],\n",
       "       [3.44480112e-01, 6.55519888e-01],\n",
       "       [1.72620611e-01, 8.27379389e-01],\n",
       "       [2.90708889e-01, 7.09291111e-01],\n",
       "       [1.77291111e-01, 8.22708889e-01],\n",
       "       [2.07051035e-01, 7.92948965e-01],\n",
       "       [6.69594764e-01, 3.30405236e-01],\n",
       "       [1.55262539e-01, 8.44737461e-01],\n",
       "       [1.59315619e-01, 8.40684381e-01],\n",
       "       [8.91541526e-01, 1.08458474e-01],\n",
       "       [9.77371231e-01, 2.26287691e-02],\n",
       "       [2.25283648e-01, 7.74716352e-01],\n",
       "       [9.77517651e-01, 2.24823493e-02],\n",
       "       [3.74499018e-01, 6.25500982e-01],\n",
       "       [7.37503778e-01, 2.62496222e-01],\n",
       "       [5.90870439e-01, 4.09129561e-01],\n",
       "       [4.31863694e-01, 5.68136306e-01],\n",
       "       [2.46487441e-01, 7.53512559e-01],\n",
       "       [5.06845981e-01, 4.93154019e-01],\n",
       "       [1.02330730e-01, 8.97669270e-01],\n",
       "       [5.44056915e-01, 4.55943085e-01],\n",
       "       [1.03308358e-01, 8.96691642e-01],\n",
       "       [9.08721422e-01, 9.12785778e-02],\n",
       "       [2.93069109e-01, 7.06930891e-01],\n",
       "       [2.07371325e-01, 7.92628675e-01],\n",
       "       [2.96605271e-01, 7.03394729e-01],\n",
       "       [4.95343271e-01, 5.04656729e-01],\n",
       "       [1.32359717e-01, 8.67640283e-01],\n",
       "       [7.36341704e-01, 2.63658296e-01],\n",
       "       [9.80583776e-01, 1.94162235e-02],\n",
       "       [9.94271537e-01, 5.72846300e-03],\n",
       "       [9.99522112e-01, 4.77887631e-04],\n",
       "       [1.86936963e-01, 8.13063037e-01],\n",
       "       [1.86394954e-01, 8.13605046e-01],\n",
       "       [6.12590884e-01, 3.87409116e-01],\n",
       "       [2.78678041e-01, 7.21321959e-01],\n",
       "       [9.78994153e-01, 2.10058469e-02],\n",
       "       [2.82637846e-01, 7.17362154e-01],\n",
       "       [1.53358077e-01, 8.46641923e-01],\n",
       "       [7.63925526e-01, 2.36074474e-01],\n",
       "       [1.05346409e-01, 8.94653591e-01],\n",
       "       [1.55916713e-01, 8.44083287e-01],\n",
       "       [5.90502239e-01, 4.09497761e-01],\n",
       "       [9.04442648e-01, 9.55573515e-02],\n",
       "       [1.61820010e-01, 8.38179990e-01],\n",
       "       [1.06045419e-01, 8.93954581e-01],\n",
       "       [9.99889637e-01, 1.10362984e-04],\n",
       "       [3.05428517e-01, 6.94571483e-01],\n",
       "       [2.20153887e-01, 7.79846113e-01],\n",
       "       [7.55894280e-01, 2.44105720e-01],\n",
       "       [9.45666644e-01, 5.43333557e-02],\n",
       "       [2.49881167e-01, 7.50118833e-01],\n",
       "       [1.44799001e-01, 8.55200999e-01],\n",
       "       [2.93069109e-01, 7.06930891e-01],\n",
       "       [7.28668646e-01, 2.71331354e-01],\n",
       "       [2.37826228e-01, 7.62173772e-01],\n",
       "       [4.14859622e-01, 5.85140378e-01],\n",
       "       [6.40688696e-01, 3.59311304e-01],\n",
       "       [3.69900538e-01, 6.30099462e-01],\n",
       "       [1.84439355e-01, 8.15560645e-01],\n",
       "       [9.99048001e-01, 9.51998809e-04],\n",
       "       [5.31245765e-01, 4.68754235e-01],\n",
       "       [4.91089318e-01, 5.08910682e-01],\n",
       "       [1.26989976e-01, 8.73010024e-01],\n",
       "       [3.76281912e-01, 6.23718088e-01],\n",
       "       [1.44024461e-01, 8.55975539e-01],\n",
       "       [9.03749223e-01, 9.62507767e-02],\n",
       "       [5.48517255e-01, 4.51482745e-01],\n",
       "       [2.48150354e-01, 7.51849646e-01],\n",
       "       [3.36383513e-01, 6.63616487e-01],\n",
       "       [8.26431003e-01, 1.73568997e-01],\n",
       "       [6.17788330e-01, 3.82211670e-01],\n",
       "       [1.74892048e-01, 8.25107952e-01],\n",
       "       [1.09714130e-01, 8.90285870e-01],\n",
       "       [9.96863970e-01, 3.13602985e-03],\n",
       "       [5.05480873e-01, 4.94519127e-01],\n",
       "       [1.82217473e-01, 8.17782527e-01],\n",
       "       [2.77119976e-01, 7.22880024e-01],\n",
       "       [8.88289647e-02, 9.11171035e-01],\n",
       "       [8.76958867e-01, 1.23041133e-01],\n",
       "       [6.27661224e-01, 3.72338776e-01],\n",
       "       [2.33177072e-01, 7.66822928e-01],\n",
       "       [2.59957431e-01, 7.40042569e-01],\n",
       "       [2.28012641e-01, 7.71987359e-01],\n",
       "       [4.27229339e-01, 5.72770661e-01],\n",
       "       [1.71051423e-01, 8.28948577e-01],\n",
       "       [7.87367155e-01, 2.12632845e-01],\n",
       "       [8.73890152e-01, 1.26109848e-01],\n",
       "       [2.18925371e-01, 7.81074629e-01],\n",
       "       [8.59750701e-01, 1.40249299e-01],\n",
       "       [1.48030583e-01, 8.51969417e-01],\n",
       "       [9.99999582e-01, 4.18234666e-07],\n",
       "       [3.90960162e-01, 6.09039838e-01],\n",
       "       [1.17947438e-01, 8.82052562e-01],\n",
       "       [1.68485223e-01, 8.31514777e-01],\n",
       "       [1.32978874e-01, 8.67021126e-01],\n",
       "       [1.32027592e-01, 8.67972408e-01],\n",
       "       [2.17388630e-01, 7.82611370e-01],\n",
       "       [5.24304984e-02, 9.47569502e-01],\n",
       "       [1.13496177e-01, 8.86503823e-01],\n",
       "       [1.32359717e-01, 8.67640283e-01],\n",
       "       [2.68203092e-01, 7.31796908e-01],\n",
       "       [9.99343412e-01, 6.56587628e-04],\n",
       "       [5.59099901e-01, 4.40900099e-01],\n",
       "       [2.24000355e-01, 7.75999645e-01],\n",
       "       [1.36091579e-01, 8.63908421e-01],\n",
       "       [2.38836966e-01, 7.61163034e-01],\n",
       "       [3.87523299e-01, 6.12476701e-01],\n",
       "       [1.52049990e-01, 8.47950010e-01],\n",
       "       [6.97813186e-01, 3.02186814e-01],\n",
       "       [9.75853665e-01, 2.41463347e-02],\n",
       "       [2.24542741e-01, 7.75457259e-01],\n",
       "       [3.86651022e-01, 6.13348978e-01],\n",
       "       [1.25439551e-01, 8.74560449e-01],\n",
       "       [2.89910690e-01, 7.10089310e-01],\n",
       "       [8.55155250e-01, 1.44844750e-01],\n",
       "       [4.27894056e-01, 5.72105944e-01],\n",
       "       [1.80866243e-01, 8.19133757e-01],\n",
       "       [7.56991833e-01, 2.43008167e-01],\n",
       "       [2.07327407e-03, 9.97926726e-01],\n",
       "       [9.99858134e-01, 1.41865956e-04],\n",
       "       [1.17491512e-01, 8.82508488e-01],\n",
       "       [9.20934612e-01, 7.90653883e-02],\n",
       "       [9.47319451e-01, 5.26805494e-02],\n",
       "       [1.63412622e-01, 8.36587378e-01],\n",
       "       [9.74244689e-01, 2.57553115e-02],\n",
       "       [3.12825897e-01, 6.87174103e-01],\n",
       "       [2.66163406e-01, 7.33836594e-01],\n",
       "       [1.65514563e-01, 8.34485437e-01],\n",
       "       [1.95580171e-01, 8.04419829e-01],\n",
       "       [5.54527650e-01, 4.45472350e-01],\n",
       "       [9.99123225e-01, 8.76774985e-04],\n",
       "       [9.03478283e-01, 9.65217170e-02],\n",
       "       [9.87398692e-01, 1.26013080e-02],\n",
       "       [1.83957622e-01, 8.16042378e-01],\n",
       "       [2.94886673e-01, 7.05113327e-01],\n",
       "       [2.42665124e-01, 7.57334876e-01],\n",
       "       [7.87752018e-01, 2.12247982e-01],\n",
       "       [2.09732735e-01, 7.90267265e-01],\n",
       "       [9.66213451e-01, 3.37865491e-02],\n",
       "       [3.96114950e-01, 6.03885050e-01],\n",
       "       [2.85937956e-01, 7.14062044e-01],\n",
       "       [8.91450486e-02, 9.10854951e-01],\n",
       "       [2.87095013e-01, 7.12904987e-01],\n",
       "       [5.31899205e-01, 4.68100795e-01],\n",
       "       [1.55889479e-01, 8.44110521e-01],\n",
       "       [1.81571005e-01, 8.18428995e-01],\n",
       "       [5.57194597e-01, 4.42805403e-01],\n",
       "       [5.28586841e-01, 4.71413159e-01],\n",
       "       [2.85821248e-01, 7.14178752e-01],\n",
       "       [9.41778938e-01, 5.82210624e-02],\n",
       "       [9.59241751e-01, 4.07582490e-02],\n",
       "       [7.58939124e-01, 2.41060876e-01],\n",
       "       [9.99985741e-01, 1.42594907e-05],\n",
       "       [1.21541112e-01, 8.78458888e-01],\n",
       "       [1.85818195e-01, 8.14181805e-01],\n",
       "       [6.14781662e-01, 3.85218338e-01],\n",
       "       [1.87927177e-01, 8.12072823e-01],\n",
       "       [3.02484598e-01, 6.97515402e-01],\n",
       "       [5.08422612e-01, 4.91577388e-01],\n",
       "       [1.78153327e-01, 8.21846673e-01],\n",
       "       [9.18297720e-01, 8.17022795e-02],\n",
       "       [1.69384893e-01, 8.30615107e-01],\n",
       "       [1.38487446e-01, 8.61512554e-01],\n",
       "       [7.94680308e-01, 2.05319692e-01],\n",
       "       [2.71433038e-01, 7.28566962e-01],\n",
       "       [2.49802356e-01, 7.50197644e-01],\n",
       "       [2.77481055e-01, 7.22518945e-01],\n",
       "       [1.61817337e-01, 8.38182663e-01],\n",
       "       [9.99972944e-01, 2.70562802e-05],\n",
       "       [4.48388776e-01, 5.51611224e-01],\n",
       "       [7.27604473e-01, 2.72395527e-01],\n",
       "       [3.31985598e-01, 6.68014402e-01],\n",
       "       [4.58809053e-01, 5.41190947e-01],\n",
       "       [8.01336413e-01, 1.98663587e-01],\n",
       "       [4.82409862e-01, 5.17590138e-01],\n",
       "       [2.44933252e-01, 7.55066748e-01],\n",
       "       [1.59941405e-01, 8.40058595e-01],\n",
       "       [2.81036171e-01, 7.18963829e-01],\n",
       "       [1.43627397e-01, 8.56372603e-01],\n",
       "       [9.00035435e-01, 9.99645647e-02],\n",
       "       [7.86270815e-01, 2.13729185e-01],\n",
       "       [1.76988902e-01, 8.23011098e-01],\n",
       "       [8.61433861e-01, 1.38566139e-01],\n",
       "       [1.60820536e-01, 8.39179464e-01],\n",
       "       [7.24770576e-01, 2.75229424e-01],\n",
       "       [3.91064489e-01, 6.08935511e-01],\n",
       "       [6.28356564e-01, 3.71643436e-01],\n",
       "       [4.30711796e-01, 5.69288204e-01],\n",
       "       [4.78748926e-01, 5.21251074e-01],\n",
       "       [1.03886524e-01, 8.96113476e-01],\n",
       "       [3.36749172e-01, 6.63250828e-01],\n",
       "       [1.78694110e-01, 8.21305890e-01],\n",
       "       [8.00194062e-02, 9.19980594e-01],\n",
       "       [6.93406119e-01, 3.06593881e-01],\n",
       "       [9.29125693e-01, 7.08743072e-02],\n",
       "       [2.09122942e-01, 7.90877058e-01],\n",
       "       [7.63689944e-01, 2.36310056e-01],\n",
       "       [3.19385937e-07, 9.99999681e-01],\n",
       "       [9.16501973e-01, 8.34980266e-02],\n",
       "       [1.65256208e-01, 8.34743792e-01],\n",
       "       [8.25156027e-01, 1.74843973e-01],\n",
       "       [9.32036707e-01, 6.79632929e-02],\n",
       "       [9.93779781e-01, 6.22021916e-03],\n",
       "       [5.47769908e-01, 4.52230092e-01],\n",
       "       [9.96128620e-01, 3.87138019e-03],\n",
       "       [9.93531905e-01, 6.46809536e-03],\n",
       "       [9.47731869e-01, 5.22681308e-02],\n",
       "       [9.57492265e-02, 9.04250773e-01],\n",
       "       [4.97929787e-01, 5.02070213e-01],\n",
       "       [6.80734444e-01, 3.19265556e-01],\n",
       "       [6.94737755e-01, 3.05262245e-01],\n",
       "       [6.30087460e-01, 3.69912540e-01],\n",
       "       [2.75387668e-01, 7.24612332e-01]])"
      ]
     },
     "execution_count": 260,
     "metadata": {},
     "output_type": "execute_result"
    }
   ],
   "source": [
    "nb.predict_proba(X)"
   ]
  },
  {
   "cell_type": "code",
   "execution_count": null,
   "metadata": {},
   "outputs": [],
   "source": []
  },
  {
   "cell_type": "code",
   "execution_count": null,
   "metadata": {},
   "outputs": [],
   "source": []
  },
  {
   "cell_type": "code",
   "execution_count": null,
   "metadata": {},
   "outputs": [],
   "source": []
  },
  {
   "cell_type": "code",
   "execution_count": 106,
   "metadata": {},
   "outputs": [],
   "source": [
    "feats = [\n",
    "    'adverbs', \n",
    "    #'articles',\n",
    "    #'auxiliary_verbs', \n",
    "    #'conjunctions', \n",
    "    'impersonal_pronouns',\n",
    "    'personal_pronouns', \n",
    "    #'prepositions', \n",
    "    #'quantifiers', \n",
    "    'function_words',\n",
    "    'avg_bf', \n",
    "    #'height', \n",
    "    'max_np_height', \n",
    "    #'max_pp_height', \n",
    "    'max_vp_height',\n",
    "    'senti', \n",
    "    'senti_neg', \n",
    "    #'senti_pos', \n",
    "    'anger', \n",
    "    #'distrust'\n",
    "]"
   ]
  },
  {
   "cell_type": "code",
   "execution_count": null,
   "metadata": {},
   "outputs": [],
   "source": [
    "X, y, feat_dict = get_X_y(feats)\n",
    "svc = svm.SVC(C=1., kernel='rbf')\n",
    "s = model_selection.cross_val_score(svc, X, y)\n",
    "print(s.mean())\n",
    "print(s.std())"
   ]
  },
  {
   "cell_type": "code",
   "execution_count": null,
   "metadata": {},
   "outputs": [],
   "source": []
  },
  {
   "cell_type": "code",
   "execution_count": null,
   "metadata": {},
   "outputs": [],
   "source": []
  },
  {
   "cell_type": "code",
   "execution_count": null,
   "metadata": {},
   "outputs": [],
   "source": []
  },
  {
   "cell_type": "markdown",
   "metadata": {},
   "source": [
    "### Test out code going up"
   ]
  },
  {
   "cell_type": "code",
   "execution_count": 200,
   "metadata": {},
   "outputs": [],
   "source": [
    "from pan20.fake import models"
   ]
  },
  {
   "cell_type": "code",
   "execution_count": 209,
   "metadata": {},
   "outputs": [],
   "source": [
    "model = models.LexicalSVM()"
   ]
  },
  {
   "cell_type": "code",
   "execution_count": 212,
   "metadata": {},
   "outputs": [],
   "source": [
    "df = fake.load()"
   ]
  },
  {
   "cell_type": "code",
   "execution_count": 213,
   "metadata": {},
   "outputs": [],
   "source": [
    "y = df.label.values\n",
    "df.drop(columns=['label'], inplace=True)"
   ]
  },
  {
   "cell_type": "code",
   "execution_count": 217,
   "metadata": {
    "scrolled": false
   },
   "outputs": [
    {
     "name": "stdout",
     "output_type": "stream",
     "text": [
      "Getting features...\n"
     ]
    },
    {
     "data": {
      "application/vnd.jupyter.widget-view+json": {
       "model_id": "8d4dc72324fc485d953554f8631ed36c",
       "version_major": 2,
       "version_minor": 0
      },
      "text/plain": [
       "HBox(children=(FloatProgress(value=0.0, max=200.0), HTML(value='')))"
      ]
     },
     "metadata": {},
     "output_type": "display_data"
    },
    {
     "name": "stdout",
     "output_type": "stream",
     "text": [
      "\n"
     ]
    }
   ],
   "source": [
    "preds = model.predict(df.iloc[0:200].copy())"
   ]
  },
  {
   "cell_type": "code",
   "execution_count": 218,
   "metadata": {},
   "outputs": [
    {
     "data": {
      "text/html": [
       "<div>\n",
       "<style scoped>\n",
       "    .dataframe tbody tr th:only-of-type {\n",
       "        vertical-align: middle;\n",
       "    }\n",
       "\n",
       "    .dataframe tbody tr th {\n",
       "        vertical-align: top;\n",
       "    }\n",
       "\n",
       "    .dataframe thead th {\n",
       "        text-align: right;\n",
       "    }\n",
       "</style>\n",
       "<table border=\"1\" class=\"dataframe\">\n",
       "  <thead>\n",
       "    <tr style=\"text-align: right;\">\n",
       "      <th></th>\n",
       "      <th>author</th>\n",
       "      <th>probability</th>\n",
       "    </tr>\n",
       "  </thead>\n",
       "  <tbody>\n",
       "    <tr>\n",
       "      <th>0</th>\n",
       "      <td>0dwovd7nj6yg9m795ng2c629me0ccmrh</td>\n",
       "      <td>0.264851</td>\n",
       "    </tr>\n",
       "    <tr>\n",
       "      <th>1</th>\n",
       "      <td>f4zgi7ym7829iqld6x77q6mh30s0rf86</td>\n",
       "      <td>0.274757</td>\n",
       "    </tr>\n",
       "  </tbody>\n",
       "</table>\n",
       "</div>"
      ],
      "text/plain": [
       "                             author  probability\n",
       "0  0dwovd7nj6yg9m795ng2c629me0ccmrh     0.264851\n",
       "1  f4zgi7ym7829iqld6x77q6mh30s0rf86     0.274757"
      ]
     },
     "execution_count": 218,
     "metadata": {},
     "output_type": "execute_result"
    }
   ],
   "source": [
    "preds"
   ]
  },
  {
   "cell_type": "code",
   "execution_count": null,
   "metadata": {},
   "outputs": [],
   "source": []
  }
 ],
 "metadata": {
  "kernelspec": {
   "display_name": "pan20",
   "language": "python",
   "name": "pan20"
  },
  "language_info": {
   "codemirror_mode": {
    "name": "ipython",
    "version": 3
   },
   "file_extension": ".py",
   "mimetype": "text/x-python",
   "name": "python",
   "nbconvert_exporter": "python",
   "pygments_lexer": "ipython3",
   "version": "3.7.7"
  }
 },
 "nbformat": 4,
 "nbformat_minor": 4
}
