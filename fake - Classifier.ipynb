{
 "cells": [
  {
   "cell_type": "code",
   "execution_count": 108,
   "metadata": {},
   "outputs": [],
   "source": [
    "import functools\n",
    "\n",
    "import numpy as np\n",
    "import pandas as pd\n",
    "from sklearn import ensemble, linear_model, metrics, model_selection, naive_bayes, preprocessing, svm\n",
    "from tqdm.notebook import tqdm\n",
    "\n",
    "from pan20 import fake, util\n",
    "from pan20.util import ctree, text\n",
    "from pan20.util.lexicons import noble, sentiwordnet, trust, tweet_anger"
   ]
  },
  {
   "cell_type": "code",
   "execution_count": 2,
   "metadata": {},
   "outputs": [],
   "source": [
    "df = fake.load()"
   ]
  },
  {
   "cell_type": "code",
   "execution_count": 5,
   "metadata": {},
   "outputs": [],
   "source": [
    "df['toks'] = df.tweet.apply(text.tokenize)"
   ]
  },
  {
   "cell_type": "code",
   "execution_count": 8,
   "metadata": {},
   "outputs": [],
   "source": [
    "df['n'] = df.toks.apply(lambda x: len(x))"
   ]
  },
  {
   "cell_type": "markdown",
   "metadata": {},
   "source": [
    "### Features"
   ]
  },
  {
   "cell_type": "markdown",
   "metadata": {},
   "source": [
    "#### Noble's Function Words\n",
    "\n",
    "Previous investigation indicated a good feature set to be:\n",
    "- impersonal_pronouns\n",
    "- personal_pronouns\n",
    "- prepositions\n",
    "- function_words"
   ]
  },
  {
   "cell_type": "code",
   "execution_count": 9,
   "metadata": {},
   "outputs": [
    {
     "data": {
      "application/vnd.jupyter.widget-view+json": {
       "model_id": "7f0722a9d1c941fb80cc16202f1512c6",
       "version_major": 2,
       "version_minor": 0
      },
      "text/plain": [
       "HBox(children=(FloatProgress(value=0.0, max=30000.0), HTML(value='')))"
      ]
     },
     "metadata": {},
     "output_type": "display_data"
    },
    {
     "name": "stdout",
     "output_type": "stream",
     "text": [
      "\n"
     ]
    }
   ],
   "source": [
    "nd = noble.NobleDict()\n",
    "freqs = []\n",
    "with tqdm(total=len(df)) as pbar:\n",
    "    for _, x in df.iterrows():\n",
    "        fq = nd(x.toks)\n",
    "        freqs.append(fq)\n",
    "        pbar.update()\n",
    "for cat in noble.cats:\n",
    "    df[cat] = [f[cat] for f in freqs]\n",
    "df['function_words'] = [f['function_words'] for f in freqs]"
   ]
  },
  {
   "cell_type": "markdown",
   "metadata": {},
   "source": [
    "#### Constituency Tree Features\n",
    "\n",
    "Previous indicated:\n",
    "- avg_bf\n",
    "- max_np_height\n",
    "- max_vp_height"
   ]
  },
  {
   "cell_type": "code",
   "execution_count": 13,
   "metadata": {},
   "outputs": [
    {
     "name": "stdout",
     "output_type": "stream",
     "text": [
      "WARNING:tensorflow:From /home/hanshan/anaconda3/envs/pan20/lib/python3.7/site-packages/benepar/base_parser.py:197: The name tf.GraphDef is deprecated. Please use tf.compat.v1.GraphDef instead.\n",
      "\n",
      "WARNING:tensorflow:From /home/hanshan/anaconda3/envs/pan20/lib/python3.7/site-packages/benepar/base_parser.py:202: The name tf.Session is deprecated. Please use tf.compat.v1.Session instead.\n",
      "\n"
     ]
    },
    {
     "data": {
      "application/vnd.jupyter.widget-view+json": {
       "model_id": "36c24144e98449f8b8ba7062426d37a3",
       "version_major": 2,
       "version_minor": 0
      },
      "text/plain": [
       "HBox(children=(FloatProgress(value=0.0, max=30000.0), HTML(value='')))"
      ]
     },
     "metadata": {},
     "output_type": "display_data"
    },
    {
     "name": "stdout",
     "output_type": "stream",
     "text": [
      "\n"
     ]
    }
   ],
   "source": [
    "get_tree = ctree.GetTree()\n",
    "trees = []\n",
    "with tqdm(total=len(df)) as pbar:\n",
    "    for _, x in df.iterrows():\n",
    "        trees.append(get_tree(x.tweet))\n",
    "        pbar.update()\n",
    "df['avg_bf'] = [ctree.avg_branch_factor(t) for t in trees]\n",
    "df['height'] = [t.height() for t in trees]\n",
    "df['max_np_height'] = [ctree.max_const_height(t, 'NP') for t in trees]\n",
    "df['max_pp_height'] = [ctree.max_const_height(t, 'PP') for t in trees]\n",
    "df['max_vp_height'] = [ctree.max_const_height(t, 'VP') for t in trees]"
   ]
  },
  {
   "cell_type": "markdown",
   "metadata": {},
   "source": [
    "#### Emotions\n",
    "\n",
    "LIWC analysis indicated:\n",
    "- negemo\n",
    "- anx\n",
    "- anger\n",
    "\n",
    "In fact just these three get us to 70%.\n",
    "\n",
    "For **SentiWordNet** indication is:\n",
    "- senti\n",
    "- senti_neg\n",
    "\n",
    "with senti_pos being more or less useless."
   ]
  },
  {
   "cell_type": "code",
   "execution_count": 17,
   "metadata": {},
   "outputs": [],
   "source": [
    "swn = sentiwordnet.SentiWordNet()\n",
    "df['senti'] = df.toks.apply(swn.score)\n",
    "df['senti_neg'] = df.toks.apply(swn.score_neg)\n",
    "df['senti_pos'] = df.toks.apply(swn.score_pos)"
   ]
  },
  {
   "cell_type": "code",
   "execution_count": 19,
   "metadata": {},
   "outputs": [],
   "source": [
    "# my learned anger dict\n",
    "ta = tweet_anger.Lexicon()\n",
    "fn = functools.partial(ta.cat_freq, cat='anger')\n",
    "df['anger'] = df.toks.apply(fn)"
   ]
  },
  {
   "cell_type": "markdown",
   "metadata": {},
   "source": [
    "#### Trust and Distrust"
   ]
  },
  {
   "cell_type": "code",
   "execution_count": 123,
   "metadata": {},
   "outputs": [],
   "source": [
    "dt = trust.Lexicon()\n",
    "fn = functools.partial(dt.cat_freq, cat='distrust')\n",
    "df['distrust'] = df.toks.apply(fn)"
   ]
  },
  {
   "cell_type": "markdown",
   "metadata": {},
   "source": [
    "#### SAVE AND RESUME"
   ]
  },
  {
   "cell_type": "code",
   "execution_count": 124,
   "metadata": {},
   "outputs": [],
   "source": [
    "df.to_csv('data/fake/feats.csv', index=False)"
   ]
  },
  {
   "cell_type": "code",
   "execution_count": 3,
   "metadata": {},
   "outputs": [],
   "source": [
    "df = pd.read_csv('data/fake/feats.csv')"
   ]
  },
  {
   "cell_type": "code",
   "execution_count": 65,
   "metadata": {},
   "outputs": [],
   "source": [
    "def get_X_y(cols=None, no_cols=None):\n",
    "    X = df.groupby(['author', 'label']).mean().reset_index().drop(columns=['author', 'n'])\n",
    "    y = X.label.values\n",
    "    if cols:\n",
    "        X = X.loc[:, [c in cols for c in X.columns]]\n",
    "    elif no_cols:\n",
    "        X = X.loc[:, [c not in no_cols for c in X.columns]]\n",
    "    else:\n",
    "        X = X.loc[:, [c != 'label' for c in X.columns]]\n",
    "    feat_dict = util.IxDict(X.columns)\n",
    "    # normalize features to be between 0 and 1\n",
    "    x = X.values\n",
    "    min_max_scaler = preprocessing.MinMaxScaler()\n",
    "    X = min_max_scaler.fit_transform(x)\n",
    "    return X, y, feat_dict"
   ]
  },
  {
   "cell_type": "code",
   "execution_count": 71,
   "metadata": {},
   "outputs": [],
   "source": [
    "X, y, feat_dict = get_X_y()"
   ]
  },
  {
   "cell_type": "markdown",
   "metadata": {},
   "source": [
    "### Feature Selection"
   ]
  },
  {
   "cell_type": "markdown",
   "metadata": {},
   "source": [
    "Looking for variability of features across "
   ]
  },
  {
   "cell_type": "code",
   "execution_count": 72,
   "metadata": {},
   "outputs": [
    {
     "data": {
      "text/plain": [
       "0.6566666666666667"
      ]
     },
     "execution_count": 72,
     "metadata": {},
     "output_type": "execute_result"
    }
   ],
   "source": [
    "svc = svm.SVC(C=1., kernel='rbf')\n",
    "model_selection.cross_val_score(svc, X, y).mean()"
   ]
  },
  {
   "cell_type": "code",
   "execution_count": 58,
   "metadata": {},
   "outputs": [
    {
     "name": "stdout",
     "output_type": "stream",
     "text": [
      "0.65\n",
      "0.6833333333333333\n",
      "0.5833333333333334\n",
      "0.5666666666666667\n",
      "0.6\n"
     ]
    }
   ],
   "source": [
    "coef = []\n",
    "skf = model_selection.StratifiedKFold(n_splits=5)\n",
    "for train_index, test_index in skf.split(X, y):\n",
    "    X_train, X_test = X[train_index], X[test_index]\n",
    "    y_train, y_test = y[train_index], y[test_index]\n",
    "    svc = svm.SVC(C=1., kernel='linear')\n",
    "    svc.fit(X_train, y_train)\n",
    "    print(metrics.accuracy_score(y_test, svc.predict(X_test)))\n",
    "    coef.append(svc.coef_)"
   ]
  },
  {
   "cell_type": "code",
   "execution_count": 39,
   "metadata": {},
   "outputs": [
    {
     "data": {
      "text/plain": [
       "(1, 19)"
      ]
     },
     "execution_count": 39,
     "metadata": {},
     "output_type": "execute_result"
    }
   ],
   "source": [
    "coef[0].shape"
   ]
  },
  {
   "cell_type": "code",
   "execution_count": 49,
   "metadata": {},
   "outputs": [],
   "source": [
    "cf = []\n",
    "for coef_ in coef:\n",
    "    for ix in range(coef_.shape[1]):\n",
    "        feat = feat_dict[ix]\n",
    "        cf.append({\n",
    "            'feature': feat,\n",
    "            'coef': np.abs(coef_[0, ix])\n",
    "        })\n",
    "cf = pd.DataFrame(cf)"
   ]
  },
  {
   "cell_type": "code",
   "execution_count": 61,
   "metadata": {},
   "outputs": [
    {
     "data": {
      "text/html": [
       "<div>\n",
       "<style scoped>\n",
       "    .dataframe tbody tr th:only-of-type {\n",
       "        vertical-align: middle;\n",
       "    }\n",
       "\n",
       "    .dataframe tbody tr th {\n",
       "        vertical-align: top;\n",
       "    }\n",
       "\n",
       "    .dataframe thead th {\n",
       "        text-align: right;\n",
       "    }\n",
       "</style>\n",
       "<table border=\"1\" class=\"dataframe\">\n",
       "  <thead>\n",
       "    <tr style=\"text-align: right;\">\n",
       "      <th></th>\n",
       "      <th>feature</th>\n",
       "      <th>coef</th>\n",
       "    </tr>\n",
       "  </thead>\n",
       "  <tbody>\n",
       "    <tr>\n",
       "      <th>13</th>\n",
       "      <td>personal_pronouns</td>\n",
       "      <td>1.820330</td>\n",
       "    </tr>\n",
       "    <tr>\n",
       "      <th>15</th>\n",
       "      <td>quantifiers</td>\n",
       "      <td>1.635655</td>\n",
       "    </tr>\n",
       "    <tr>\n",
       "      <th>9</th>\n",
       "      <td>impersonal_pronouns</td>\n",
       "      <td>1.524259</td>\n",
       "    </tr>\n",
       "    <tr>\n",
       "      <th>10</th>\n",
       "      <td>max_np_height</td>\n",
       "      <td>1.472452</td>\n",
       "    </tr>\n",
       "    <tr>\n",
       "      <th>0</th>\n",
       "      <td>adverbs</td>\n",
       "      <td>1.435989</td>\n",
       "    </tr>\n",
       "    <tr>\n",
       "      <th>1</th>\n",
       "      <td>anger</td>\n",
       "      <td>1.259601</td>\n",
       "    </tr>\n",
       "    <tr>\n",
       "      <th>14</th>\n",
       "      <td>prepositions</td>\n",
       "      <td>1.227429</td>\n",
       "    </tr>\n",
       "    <tr>\n",
       "      <th>11</th>\n",
       "      <td>max_pp_height</td>\n",
       "      <td>1.197082</td>\n",
       "    </tr>\n",
       "    <tr>\n",
       "      <th>3</th>\n",
       "      <td>auxiliary_verbs</td>\n",
       "      <td>1.120938</td>\n",
       "    </tr>\n",
       "    <tr>\n",
       "      <th>4</th>\n",
       "      <td>avg_bf</td>\n",
       "      <td>1.026686</td>\n",
       "    </tr>\n",
       "    <tr>\n",
       "      <th>7</th>\n",
       "      <td>function_words</td>\n",
       "      <td>0.961347</td>\n",
       "    </tr>\n",
       "    <tr>\n",
       "      <th>8</th>\n",
       "      <td>height</td>\n",
       "      <td>0.953390</td>\n",
       "    </tr>\n",
       "    <tr>\n",
       "      <th>18</th>\n",
       "      <td>senti_pos</td>\n",
       "      <td>0.531668</td>\n",
       "    </tr>\n",
       "    <tr>\n",
       "      <th>16</th>\n",
       "      <td>senti</td>\n",
       "      <td>0.412037</td>\n",
       "    </tr>\n",
       "    <tr>\n",
       "      <th>2</th>\n",
       "      <td>articles</td>\n",
       "      <td>0.372493</td>\n",
       "    </tr>\n",
       "    <tr>\n",
       "      <th>6</th>\n",
       "      <td>distrust</td>\n",
       "      <td>0.344407</td>\n",
       "    </tr>\n",
       "    <tr>\n",
       "      <th>12</th>\n",
       "      <td>max_vp_height</td>\n",
       "      <td>0.252169</td>\n",
       "    </tr>\n",
       "    <tr>\n",
       "      <th>5</th>\n",
       "      <td>conjunctions</td>\n",
       "      <td>0.225948</td>\n",
       "    </tr>\n",
       "    <tr>\n",
       "      <th>17</th>\n",
       "      <td>senti_neg</td>\n",
       "      <td>0.000000</td>\n",
       "    </tr>\n",
       "  </tbody>\n",
       "</table>\n",
       "</div>"
      ],
      "text/plain": [
       "                feature      coef\n",
       "13    personal_pronouns  1.820330\n",
       "15          quantifiers  1.635655\n",
       "9   impersonal_pronouns  1.524259\n",
       "10        max_np_height  1.472452\n",
       "0               adverbs  1.435989\n",
       "1                 anger  1.259601\n",
       "14         prepositions  1.227429\n",
       "11        max_pp_height  1.197082\n",
       "3       auxiliary_verbs  1.120938\n",
       "4                avg_bf  1.026686\n",
       "7        function_words  0.961347\n",
       "8                height  0.953390\n",
       "18            senti_pos  0.531668\n",
       "16                senti  0.412037\n",
       "2              articles  0.372493\n",
       "6              distrust  0.344407\n",
       "12        max_vp_height  0.252169\n",
       "5          conjunctions  0.225948\n",
       "17            senti_neg  0.000000"
      ]
     },
     "execution_count": 61,
     "metadata": {},
     "output_type": "execute_result"
    }
   ],
   "source": [
    "cfmu = cf.groupby('feature').mean().reset_index().sort_values(by='coef', ascending=False)\n",
    "cfmu"
   ]
  },
  {
   "cell_type": "code",
   "execution_count": 64,
   "metadata": {},
   "outputs": [],
   "source": [
    "feats = list(cfmu[cfmu.coef > 0.9].feature.values)"
   ]
  },
  {
   "cell_type": "code",
   "execution_count": 67,
   "metadata": {},
   "outputs": [],
   "source": [
    "X, y, feat_dict = get_X_y(feats)"
   ]
  },
  {
   "cell_type": "code",
   "execution_count": 70,
   "metadata": {},
   "outputs": [
    {
     "data": {
      "text/plain": [
       "0.6466666666666667"
      ]
     },
     "execution_count": 70,
     "metadata": {},
     "output_type": "execute_result"
    }
   ],
   "source": [
    "svc = svm.SVC(C=1., kernel='rbf')\n",
    "model_selection.cross_val_score(svc, X, y).mean()"
   ]
  },
  {
   "cell_type": "markdown",
   "metadata": {},
   "source": [
    "Well, that sucked."
   ]
  },
  {
   "cell_type": "code",
   "execution_count": 129,
   "metadata": {},
   "outputs": [],
   "source": [
    "feats = [\n",
    "    'adverbs', \n",
    "    #'articles',\n",
    "    #'auxiliary_verbs', \n",
    "    #'conjunctions', \n",
    "    'impersonal_pronouns',\n",
    "    'personal_pronouns', \n",
    "    #'prepositions', \n",
    "    #'quantifiers', \n",
    "    'function_words',\n",
    "    'avg_bf', \n",
    "    #'height', \n",
    "    'max_np_height', \n",
    "    #'max_pp_height', \n",
    "    'max_vp_height',\n",
    "    'senti', \n",
    "    'senti_neg', \n",
    "    #'senti_pos', \n",
    "    'anger', \n",
    "    'distrust'\n",
    "]"
   ]
  },
  {
   "cell_type": "code",
   "execution_count": 130,
   "metadata": {},
   "outputs": [
    {
     "name": "stdout",
     "output_type": "stream",
     "text": [
      "0.6866666666666666\n",
      "0.06944222218666553\n"
     ]
    }
   ],
   "source": [
    "X, y, feat_dict = get_X_y(feats)\n",
    "svc = svm.SVC(C=1., kernel='rbf')\n",
    "s = model_selection.cross_val_score(svc, X, y)\n",
    "print(s.mean())\n",
    "print(s.std())"
   ]
  },
  {
   "cell_type": "markdown",
   "metadata": {},
   "source": [
    "Best set so far."
   ]
  },
  {
   "cell_type": "code",
   "execution_count": 120,
   "metadata": {},
   "outputs": [
    {
     "name": "stdout",
     "output_type": "stream",
     "text": [
      "0.6766666666666665\n",
      "0.0442216638714053\n"
     ]
    }
   ],
   "source": [
    "rf = ensemble.RandomForestClassifier(n_estimators=200, max_depth=5)\n",
    "s = model_selection.cross_val_score(rf, X, y)\n",
    "print(s.mean())\n",
    "print(s.std())"
   ]
  },
  {
   "cell_type": "code",
   "execution_count": 122,
   "metadata": {},
   "outputs": [
    {
     "name": "stdout",
     "output_type": "stream",
     "text": [
      "0.6433333333333333\n",
      "0.05120763831912404\n"
     ]
    }
   ],
   "source": [
    "nb = naive_bayes.GaussianNB()\n",
    "s = model_selection.cross_val_score(nb, X, y)\n",
    "print(s.mean())\n",
    "print(s.std())"
   ]
  },
  {
   "cell_type": "code",
   "execution_count": null,
   "metadata": {},
   "outputs": [],
   "source": []
  },
  {
   "cell_type": "code",
   "execution_count": 106,
   "metadata": {},
   "outputs": [],
   "source": [
    "feats = [\n",
    "    'adverbs', \n",
    "    #'articles',\n",
    "    #'auxiliary_verbs', \n",
    "    #'conjunctions', \n",
    "    'impersonal_pronouns',\n",
    "    'personal_pronouns', \n",
    "    #'prepositions', \n",
    "    #'quantifiers', \n",
    "    'function_words',\n",
    "    'avg_bf', \n",
    "    #'height', \n",
    "    'max_np_height', \n",
    "    #'max_pp_height', \n",
    "    'max_vp_height',\n",
    "    'senti', \n",
    "    'senti_neg', \n",
    "    #'senti_pos', \n",
    "    'anger', \n",
    "    #'distrust'\n",
    "]"
   ]
  },
  {
   "cell_type": "code",
   "execution_count": null,
   "metadata": {},
   "outputs": [],
   "source": [
    "X, y, feat_dict = get_X_y(feats)\n",
    "svc = svm.SVC(C=1., kernel='rbf')\n",
    "s = model_selection.cross_val_score(svc, X, y)\n",
    "print(s.mean())\n",
    "print(s.std())"
   ]
  }
 ],
 "metadata": {
  "kernelspec": {
   "display_name": "pan20",
   "language": "python",
   "name": "pan20"
  },
  "language_info": {
   "codemirror_mode": {
    "name": "ipython",
    "version": 3
   },
   "file_extension": ".py",
   "mimetype": "text/x-python",
   "name": "python",
   "nbconvert_exporter": "python",
   "pygments_lexer": "ipython3",
   "version": "3.7.7"
  }
 },
 "nbformat": 4,
 "nbformat_minor": 4
}
